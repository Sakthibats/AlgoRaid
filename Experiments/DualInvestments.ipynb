{
 "cells": [
  {
   "cell_type": "code",
   "execution_count": 2,
   "metadata": {},
   "outputs": [],
   "source": [
    "import pandas as pd\n",
    "from dotenv import load_dotenv\n",
    "import os\n",
    "import requests\n",
    "import time\n",
    "import hashlib\n",
    "import hmac\n",
    "import plotly.express as px\n",
    "import plotly.graph_objs as go\n",
    "import matplotlib.pyplot as plt\n",
    "import seaborn as sns\n",
    "from datetime import datetime\n",
    "\n",
    "\n",
    "os.environ.pop(\"API_KEY\")\n",
    "os.environ.pop(\"SECRET_KEY\")\n",
    "\n",
    "load_dotenv()\n",
    "\n",
    "API_KEY = os.environ[\"API_KEY\"]\n",
    "API_SECRET = os.environ[\"SECRET_KEY\"]"
   ]
  },
  {
   "cell_type": "markdown",
   "metadata": {},
   "source": [
    "# Binance API Helper Functions"
   ]
  },
  {
   "cell_type": "code",
   "execution_count": 3,
   "metadata": {},
   "outputs": [],
   "source": [
    "def boilerplate(params, endpoint):\n",
    "    BASE_URL = 'https://api.binance.com'\n",
    "\n",
    "    # Create the signature using HMAC-SHA256\n",
    "    query_string = '&'.join([f\"{key}={value}\" for key, value in params.items()])\n",
    "    signature = hmac.new(\n",
    "        API_SECRET.encode('utf-8'),\n",
    "        query_string.encode('utf-8'),\n",
    "        hashlib.sha256\n",
    "    ).hexdigest()\n",
    "\n",
    "    # Add the signature to the parameters\n",
    "    params['signature'] = signature\n",
    "\n",
    "    # Define the headers with API key\n",
    "    headers = {\n",
    "        'X-MBX-APIKEY': API_KEY\n",
    "    }\n",
    "\n",
    "    # Send the GET request\n",
    "    response = requests.get(BASE_URL + endpoint, headers=headers, params=params)\n",
    "\n",
    "    # Check response status and print the result\n",
    "    if response.status_code == 200:\n",
    "        # print(response.json())\n",
    "        return response.json()\n",
    "    else:\n",
    "        print(f\"Error: {response.status_code}, {response.text}\")\n",
    "        return Exception(f\"Error: {response.status_code}, {response.text}\")\n",
    "    \n",
    "def boilerplate1(params, endpoint):\n",
    "    BASE_URL = 'https://api.binance.com'\n",
    "\n",
    "    # Create the signature using HMAC-SHA256\n",
    "    query_string = '&'.join([f\"{key}={value}\" for key, value in params.items()])\n",
    "    # signature = hmac.new(\n",
    "    #     API_SECRET.encode('utf-8'),\n",
    "    #     query_string.encode('utf-8'),\n",
    "    #     hashlib.sha256\n",
    "    # ).hexdigest()\n",
    "\n",
    "    # # Add the signature to the parameters\n",
    "    # params['signature'] = signature\n",
    "\n",
    "    # Define the headers with API key\n",
    "    headers = {\n",
    "        'X-MBX-APIKEY': API_KEY\n",
    "    }\n",
    "\n",
    "    # Send the GET request\n",
    "    response = requests.get(BASE_URL + endpoint, headers=headers, params=params)\n",
    "\n",
    "    # Check response status and print the result\n",
    "    if response.status_code == 200:\n",
    "        # print(response.json())\n",
    "        return response.json()\n",
    "    else:\n",
    "        print(f\"Error: {response.status_code}, {response.text}\")\n",
    "        return Exception(f\"Error: {response.status_code}, {response.text}\")\n",
    "    \n",
    "\n",
    "def boilerplate_post(params, endpoint):\n",
    "    BASE_URL = 'https://api.binance.com'\n",
    "\n",
    "    # Create the signature using HMAC-SHA256\n",
    "    query_string = '&'.join([f\"{key}={value}\" for key, value in params.items()])\n",
    "    signature = hmac.new(\n",
    "        API_SECRET.encode('utf-8'),\n",
    "        query_string.encode('utf-8'),\n",
    "        hashlib.sha256\n",
    "    ).hexdigest()\n",
    "\n",
    "    # Add the signature to the parameters\n",
    "    params['signature'] = signature\n",
    "\n",
    "    # Define the headers with API key\n",
    "    headers = {\n",
    "        'X-MBX-APIKEY': API_KEY\n",
    "    }\n",
    "\n",
    "    # Send the POST request\n",
    "    response = requests.post(BASE_URL + endpoint, headers=headers, params=params)\n",
    "\n",
    "    # Check response status and print the result\n",
    "    if response.status_code == 200:\n",
    "        # print(response.json())\n",
    "        return response.json()\n",
    "    else:\n",
    "        print(f\"Error: {response.status_code}, {response.text}\")\n",
    "        return Exception(f\"Error: {response.status_code}, {response.text}\")"
   ]
  },
  {
   "cell_type": "markdown",
   "metadata": {},
   "source": [
    "# Dual Investment Strategy Helper Functions\n",
    "- **Put** Indicates that you are trying to buy the crypto product/ coin/ asset with stable coin. It means you are trying to buy Low\n",
    "- **Call** Indicates that you are trying to Sell the crypto product/ coin/ asset for stable coin. It means you are trying to Sell High\n"
   ]
  },
  {
   "cell_type": "code",
   "execution_count": 4,
   "metadata": {},
   "outputs": [],
   "source": [
    "def get_DCI_products(optionType, exercisedCoin, investCoin, pageSize, pageIndex):\n",
    "\n",
    "    # Define the endpoint and base URL\n",
    "    endpoint = '/sapi/v1/dci/product/list'\n",
    "\n",
    "    # Define request parameters\n",
    "    params = {\n",
    "        'optionType': optionType,  #'CALL' or 'PUT'\n",
    "        'exercisedCoin': exercisedCoin,  # Target exercised asset\n",
    "        'investCoin': investCoin,  # Asset used for subscribing\n",
    "        'pageSize': pageSize,  # Optional\n",
    "        'pageIndex': pageIndex,  # Optional\n",
    "        'recvWindow': 60000,  # Optional\n",
    "        'timestamp': int(time.time() * 1000)  # Current timestamp in milliseconds\n",
    "    }\n",
    "\n",
    "    return boilerplate(params, endpoint)\n"
   ]
  },
  {
   "cell_type": "code",
   "execution_count": 5,
   "metadata": {},
   "outputs": [],
   "source": [
    "def get_DCI_account():\n",
    "\n",
    "    # Define the endpoint and base URL\n",
    "    endpoint = '/sapi/v1/dci/product/accounts'\n",
    "\n",
    "    # Define request parameters\n",
    "    params = {\n",
    "        'recvWindow': 60000,  # Optional\n",
    "        'timestamp': int(time.time() * 1000)  # Current timestamp in milliseconds\n",
    "    }\n",
    "\n",
    "    return boilerplate(params, endpoint)\n",
    "\n"
   ]
  },
  {
   "cell_type": "code",
   "execution_count": 6,
   "metadata": {},
   "outputs": [],
   "source": [
    "def get_DCI_positions():\n",
    "\n",
    "    # Define the endpoint and base URL\n",
    "    endpoint = '/sapi/v1/dci/product/positions'\n",
    "\n",
    "    # Define request parameters\n",
    "    params = {\n",
    "        'recvWindow': 60000,  # Optional\n",
    "        'timestamp': int(time.time() * 1000)  # Current timestamp in milliseconds\n",
    "    }\n",
    "    return boilerplate(params, endpoint)\n"
   ]
  },
  {
   "cell_type": "code",
   "execution_count": 7,
   "metadata": {},
   "outputs": [],
   "source": [
    "def get_price_historical(symbol, interval):\n",
    "    \n",
    "    # Define the endpoint and base URL\n",
    "    endpoint = '/api/v3/klines'\n",
    "\n",
    "    # Define request parameters\n",
    "    params = {\n",
    "        'symbol': symbol,   \n",
    "        'interval': interval  \n",
    "    }\n",
    "    return boilerplate1(params, endpoint)"
   ]
  },
  {
   "cell_type": "code",
   "execution_count": 8,
   "metadata": {},
   "outputs": [],
   "source": [
    "def get_full_Assets():\n",
    "\n",
    "    # Define the endpoint and base URL\n",
    "    endpoint = '/sapi/v3/asset/getUserAsset'\n",
    "\n",
    "    # Define request parameters\n",
    "    params = {\n",
    "        'timestamp': int(time.time() * 1000)  # Current timestamp in milliseconds\n",
    "    }\n",
    "\n",
    "    return boilerplate_post(params, endpoint)"
   ]
  },
  {
   "cell_type": "code",
   "execution_count": 9,
   "metadata": {},
   "outputs": [],
   "source": [
    "def get_DualInvestments_summary():\n",
    "\n",
    "    # Define the endpoint and base URL\n",
    "    endpoint = '/sapi/v1/dci/product/accounts'\n",
    "\n",
    "    # Define request parameters\n",
    "    params = {\n",
    "        'timestamp': int(time.time() * 1000)  # Current timestamp in milliseconds\n",
    "    }\n",
    "\n",
    "    return boilerplate(params, endpoint)"
   ]
  },
  {
   "cell_type": "code",
   "execution_count": 10,
   "metadata": {},
   "outputs": [],
   "source": [
    "def get_price(symbol):\n",
    "    # Define the endpoint and base URL\n",
    "    endpoint = '/api/v3/avgPrice'\n",
    "\n",
    "    # Define request parameters\n",
    "    params = {\n",
    "        'symbol': symbol\n",
    "    }\n",
    "\n",
    "    return boilerplate1(params, endpoint)\n",
    "\n",
    "def get_all_prices():\n",
    "    symbols = [\"BTCUSDC\", \"ETHUSDC\", \"SOLUSDC\", \"BNBUSDC\", \"DOGEUSDC\"]\n",
    "    symbol_price_dict = {}\n",
    "    for symbol in symbols:\n",
    "        price = float(get_price(symbol)[\"price\"])\n",
    "        symbol_price_dict[symbol] = price\n",
    "    return symbol_price_dict"
   ]
  },
  {
   "cell_type": "code",
   "execution_count": 11,
   "metadata": {},
   "outputs": [],
   "source": [
    "def get_full_DualInvestments(settled):\n",
    "\n",
    "    # Define the endpoint and base URL\n",
    "    endpoint = '/sapi/v1/dci/product/positions'\n",
    "\n",
    "    # Define request parameters\n",
    "    params = {\n",
    "        'timestamp': int(time.time() * 1000)  # Current timestamp in milliseconds\n",
    "    }\n",
    "    # Await boilerplate function if it's an async function\n",
    "    response = boilerplate(params, endpoint)\n",
    "    list_of_DI = response.get(\"list\", [])\n",
    "    \n",
    "    # Use filter correctly to match items with settled status\n",
    "    # value = list(filter(lambda x: x[\"purchaseStatus\"], list_of_DI))\n",
    "    value = list(filter(lambda x: x[\"purchaseStatus\"] == settled, list_of_DI))\n",
    "    return value\n",
    "\n",
    "prices = get_all_prices()\n",
    "\n",
    "    \n",
    "def get_full_DualInvestments_agg(settled):\n",
    "    prices = get_all_prices()\n",
    "    value = get_full_DualInvestments(settled)\n",
    "    final = 0\n",
    "    for item in value:\n",
    "            final += float(item[\"subscriptionAmount\"])* prices.get(f\"{item['investCoin']}USDC\", 1)\n",
    "    return final\n",
    "\n",
    "\n",
    "            \n",
    "\n",
    "    "
   ]
  },
  {
   "cell_type": "code",
   "execution_count": 12,
   "metadata": {},
   "outputs": [
    {
     "data": {
      "text/plain": [
       "0"
      ]
     },
     "execution_count": 12,
     "metadata": {},
     "output_type": "execute_result"
    }
   ],
   "source": [
    "get_full_DualInvestments_agg(\"PURCHASE_SUCCESS\")"
   ]
  },
  {
   "cell_type": "code",
   "execution_count": 13,
   "metadata": {},
   "outputs": [
    {
     "data": {
      "text/plain": [
       "{'totalAmountInBTC': '0', 'totalAmountInUSDT': '0'}"
      ]
     },
     "execution_count": 13,
     "metadata": {},
     "output_type": "execute_result"
    }
   ],
   "source": [
    "get_DualInvestments_summary()"
   ]
  },
  {
   "cell_type": "code",
   "execution_count": null,
   "metadata": {},
   "outputs": [],
   "source": []
  },
  {
   "cell_type": "markdown",
   "metadata": {},
   "source": [
    "# Test (required input)"
   ]
  },
  {
   "cell_type": "code",
   "execution_count": 14,
   "metadata": {},
   "outputs": [
    {
     "name": "stdout",
     "output_type": "stream",
     "text": [
      "ETH price 3404.96014868\n"
     ]
    }
   ],
   "source": [
    "target = \"ETH\"\n",
    "currency = \"USDC\"\n",
    "USDamt = 24476\n",
    "\n",
    "\n",
    "if target==\"BTC\":\n",
    "    curr_price = float(get_price(\"BTCUSDC\")[\"price\"]) #BTC\n",
    "else:\n",
    "    curr_price = float(get_price(\"ETHUSDC\")[\"price\"]) #ETH\n",
    "\n",
    "print(f\"{target} price {curr_price}\")\n",
    "\n",
    "Direction = \"CALL\" # Sell BTC/ETH High\n",
    "# Direction = \"PUT\" # Buy BTC/ETH Low\n",
    "\n",
    "filename = f\"./figures/{datetime.now().strftime('%Y%m%d')}/fig_{datetime.now().strftime('%Y%m%d_%H%M%S')}_{Direction}_{target+currency}.html\"\n",
    "\n",
    "os.makedirs(f\"./figures/{datetime.now().strftime('%Y%m%d')}/\", exist_ok=True)\n",
    "\n",
    "\n",
    "if Direction==\"CALL\":\n",
    "    AssetItem = target\n",
    "    TargetItem = currency\n",
    "else:\n",
    "    TargetItem= target\n",
    "    AssetItem = currency\n"
   ]
  },
  {
   "cell_type": "markdown",
   "metadata": {},
   "source": [
    "# Dual Investment tracking"
   ]
  },
  {
   "cell_type": "code",
   "execution_count": 15,
   "metadata": {},
   "outputs": [],
   "source": [
    "def get_DualInvestment_asset(Direction, TargetItem, AssetItem):\n",
    "    print(Direction, TargetItem, AssetItem)\n",
    "    first = get_DCI_products(Direction, TargetItem, AssetItem, pageIndex=1, pageSize=1)\n",
    "    full_list = first[\"list\"]\n",
    "    total = first[\"total\"]\n",
    "    print(total)\n",
    "\n",
    "    for i in range(total//100+1):\n",
    "        try:\n",
    "            curr = get_DCI_products(Direction, TargetItem, AssetItem, pageIndex=i+1, pageSize=100)\n",
    "            full_list.extend(curr[\"list\"])\n",
    "        except Exception as e:\n",
    "            print(f\"ERROR found: {e}\")\n",
    "\n",
    "    print(\"---------------------------\")\n",
    "    print(len(full_list))\n",
    "    df = pd.DataFrame(full_list)\n",
    "    df[\"curr_price\"]  = curr_price\n",
    "    df[\"strikePrice\"] = pd.to_numeric(df[\"strikePrice\"])\n",
    "\n",
    "    df[\"Percent_to_strikeprice\"] = 100*(df[\"strikePrice\"] - df[\"curr_price\"])/df[\"curr_price\"]\n",
    "\n",
    "    df = df.sort_values(by=['apr', 'duration'], ascending=[False, True])\n",
    "    df[\"strikePrice\"] = df.strikePrice.astype(float)\n",
    "    df[\"apr\"] = df.apr.astype(float)\n",
    "    df[\"1000return\"] = df[\"apr\"]*df[\"duration\"]*1000/365\n",
    "    df[\"USDamt\"] = df[\"1000return\"]*USDamt/1000\n",
    "    return df\n",
    "\n",
    "# df = get_DualInvestment_asset(Direction, TargetItem, AssetItem)"
   ]
  },
  {
   "cell_type": "code",
   "execution_count": 16,
   "metadata": {},
   "outputs": [
    {
     "name": "stdout",
     "output_type": "stream",
     "text": [
      "CALL USDC ETH\n",
      "574\n",
      "---------------------------\n",
      "575\n",
      "CALL USDT ETH\n",
      "538\n",
      "---------------------------\n",
      "539\n",
      "CALL FDUSD ETH\n",
      "564\n",
      "---------------------------\n",
      "565\n"
     ]
    }
   ],
   "source": [
    "listt = [\"USDC\", \"USDT\", \"FDUSD\"]\n",
    "fin = []\n",
    "\n",
    "if Direction==\"CALL\":\n",
    "    for i in listt:\n",
    "        try:\n",
    "            findf = get_DualInvestment_asset(Direction, i, AssetItem)\n",
    "            fin.append(findf)\n",
    "        except Exception as e:\n",
    "            print(f\"exception found: {e}\")\n",
    "else:\n",
    "    for i in listt:\n",
    "        findf = get_DualInvestment_asset(Direction, TargetItem, i)\n",
    "        fin.append(findf)\n",
    "\n",
    "df = pd.concat(fin)\n"
   ]
  },
  {
   "cell_type": "code",
   "execution_count": 17,
   "metadata": {},
   "outputs": [
    {
     "data": {
      "text/html": [
       "<div>\n",
       "<style scoped>\n",
       "    .dataframe tbody tr th:only-of-type {\n",
       "        vertical-align: middle;\n",
       "    }\n",
       "\n",
       "    .dataframe tbody tr th {\n",
       "        vertical-align: top;\n",
       "    }\n",
       "\n",
       "    .dataframe thead th {\n",
       "        text-align: right;\n",
       "    }\n",
       "</style>\n",
       "<table border=\"1\" class=\"dataframe\">\n",
       "  <thead>\n",
       "    <tr style=\"text-align: right;\">\n",
       "      <th></th>\n",
       "      <th>id</th>\n",
       "      <th>investCoin</th>\n",
       "      <th>exercisedCoin</th>\n",
       "      <th>strikePrice</th>\n",
       "      <th>duration</th>\n",
       "      <th>settleDate</th>\n",
       "      <th>purchaseDecimal</th>\n",
       "      <th>purchaseEndTime</th>\n",
       "      <th>canPurchase</th>\n",
       "      <th>apr</th>\n",
       "      <th>...</th>\n",
       "      <th>minAmount</th>\n",
       "      <th>maxAmount</th>\n",
       "      <th>createTimestamp</th>\n",
       "      <th>optionType</th>\n",
       "      <th>isAutoCompoundEnable</th>\n",
       "      <th>autoCompoundPlanList</th>\n",
       "      <th>curr_price</th>\n",
       "      <th>Percent_to_strikeprice</th>\n",
       "      <th>1000return</th>\n",
       "      <th>USDamt</th>\n",
       "    </tr>\n",
       "  </thead>\n",
       "  <tbody>\n",
       "    <tr>\n",
       "      <th>0</th>\n",
       "      <td>1597152</td>\n",
       "      <td>ETH</td>\n",
       "      <td>USDC</td>\n",
       "      <td>3425.0</td>\n",
       "      <td>7</td>\n",
       "      <td>1735891200000</td>\n",
       "      <td>8</td>\n",
       "      <td>1735833600000</td>\n",
       "      <td>True</td>\n",
       "      <td>1.2695</td>\n",
       "      <td>...</td>\n",
       "      <td>0.0001</td>\n",
       "      <td>1200</td>\n",
       "      <td>1732323329000</td>\n",
       "      <td>CALL</td>\n",
       "      <td>True</td>\n",
       "      <td>[STANDARD, ADVANCE]</td>\n",
       "      <td>3404.960149</td>\n",
       "      <td>0.588549</td>\n",
       "      <td>24.346575</td>\n",
       "      <td>595.906778</td>\n",
       "    </tr>\n",
       "    <tr>\n",
       "      <th>1</th>\n",
       "      <td>1597152</td>\n",
       "      <td>ETH</td>\n",
       "      <td>USDC</td>\n",
       "      <td>3425.0</td>\n",
       "      <td>7</td>\n",
       "      <td>1735891200000</td>\n",
       "      <td>8</td>\n",
       "      <td>1735833600000</td>\n",
       "      <td>True</td>\n",
       "      <td>1.2695</td>\n",
       "      <td>...</td>\n",
       "      <td>0.0001</td>\n",
       "      <td>1200</td>\n",
       "      <td>1732323329000</td>\n",
       "      <td>CALL</td>\n",
       "      <td>True</td>\n",
       "      <td>[STANDARD, ADVANCE]</td>\n",
       "      <td>3404.960149</td>\n",
       "      <td>0.588549</td>\n",
       "      <td>24.346575</td>\n",
       "      <td>595.906778</td>\n",
       "    </tr>\n",
       "    <tr>\n",
       "      <th>2</th>\n",
       "      <td>1710345</td>\n",
       "      <td>ETH</td>\n",
       "      <td>USDC</td>\n",
       "      <td>3425.0</td>\n",
       "      <td>4</td>\n",
       "      <td>1735632000000</td>\n",
       "      <td>8</td>\n",
       "      <td>1735574400000</td>\n",
       "      <td>True</td>\n",
       "      <td>1.2147</td>\n",
       "      <td>...</td>\n",
       "      <td>0.0001</td>\n",
       "      <td>1200</td>\n",
       "      <td>1734632588000</td>\n",
       "      <td>CALL</td>\n",
       "      <td>True</td>\n",
       "      <td>[STANDARD, ADVANCE]</td>\n",
       "      <td>3404.960149</td>\n",
       "      <td>0.588549</td>\n",
       "      <td>13.311781</td>\n",
       "      <td>325.819147</td>\n",
       "    </tr>\n",
       "    <tr>\n",
       "      <th>3</th>\n",
       "      <td>1597153</td>\n",
       "      <td>ETH</td>\n",
       "      <td>USDC</td>\n",
       "      <td>3450.0</td>\n",
       "      <td>7</td>\n",
       "      <td>1735891200000</td>\n",
       "      <td>8</td>\n",
       "      <td>1735833600000</td>\n",
       "      <td>True</td>\n",
       "      <td>1.1826</td>\n",
       "      <td>...</td>\n",
       "      <td>0.0001</td>\n",
       "      <td>1200</td>\n",
       "      <td>1732323329000</td>\n",
       "      <td>CALL</td>\n",
       "      <td>True</td>\n",
       "      <td>[STANDARD, ADVANCE]</td>\n",
       "      <td>3404.960149</td>\n",
       "      <td>1.322772</td>\n",
       "      <td>22.680000</td>\n",
       "      <td>555.115680</td>\n",
       "    </tr>\n",
       "    <tr>\n",
       "      <th>4</th>\n",
       "      <td>1709542</td>\n",
       "      <td>ETH</td>\n",
       "      <td>USDC</td>\n",
       "      <td>3450.0</td>\n",
       "      <td>4</td>\n",
       "      <td>1735632000000</td>\n",
       "      <td>8</td>\n",
       "      <td>1735574400000</td>\n",
       "      <td>True</td>\n",
       "      <td>1.0666</td>\n",
       "      <td>...</td>\n",
       "      <td>0.0001</td>\n",
       "      <td>1200</td>\n",
       "      <td>1734630791000</td>\n",
       "      <td>CALL</td>\n",
       "      <td>True</td>\n",
       "      <td>[STANDARD, ADVANCE]</td>\n",
       "      <td>3404.960149</td>\n",
       "      <td>1.322772</td>\n",
       "      <td>11.688767</td>\n",
       "      <td>286.094264</td>\n",
       "    </tr>\n",
       "  </tbody>\n",
       "</table>\n",
       "<p>5 rows × 21 columns</p>\n",
       "</div>"
      ],
      "text/plain": [
       "        id investCoin exercisedCoin  strikePrice  duration     settleDate  \\\n",
       "0  1597152        ETH          USDC       3425.0         7  1735891200000   \n",
       "1  1597152        ETH          USDC       3425.0         7  1735891200000   \n",
       "2  1710345        ETH          USDC       3425.0         4  1735632000000   \n",
       "3  1597153        ETH          USDC       3450.0         7  1735891200000   \n",
       "4  1709542        ETH          USDC       3450.0         4  1735632000000   \n",
       "\n",
       "   purchaseDecimal  purchaseEndTime  canPurchase     apr  ...  minAmount  \\\n",
       "0                8    1735833600000         True  1.2695  ...     0.0001   \n",
       "1                8    1735833600000         True  1.2695  ...     0.0001   \n",
       "2                8    1735574400000         True  1.2147  ...     0.0001   \n",
       "3                8    1735833600000         True  1.1826  ...     0.0001   \n",
       "4                8    1735574400000         True  1.0666  ...     0.0001   \n",
       "\n",
       "  maxAmount createTimestamp  optionType isAutoCompoundEnable  \\\n",
       "0      1200   1732323329000        CALL                 True   \n",
       "1      1200   1732323329000        CALL                 True   \n",
       "2      1200   1734632588000        CALL                 True   \n",
       "3      1200   1732323329000        CALL                 True   \n",
       "4      1200   1734630791000        CALL                 True   \n",
       "\n",
       "   autoCompoundPlanList   curr_price  Percent_to_strikeprice  1000return  \\\n",
       "0   [STANDARD, ADVANCE]  3404.960149                0.588549   24.346575   \n",
       "1   [STANDARD, ADVANCE]  3404.960149                0.588549   24.346575   \n",
       "2   [STANDARD, ADVANCE]  3404.960149                0.588549   13.311781   \n",
       "3   [STANDARD, ADVANCE]  3404.960149                1.322772   22.680000   \n",
       "4   [STANDARD, ADVANCE]  3404.960149                1.322772   11.688767   \n",
       "\n",
       "       USDamt  \n",
       "0  595.906778  \n",
       "1  595.906778  \n",
       "2  325.819147  \n",
       "3  555.115680  \n",
       "4  286.094264  \n",
       "\n",
       "[5 rows x 21 columns]"
      ]
     },
     "execution_count": 17,
     "metadata": {},
     "output_type": "execute_result"
    }
   ],
   "source": [
    "df.head()"
   ]
  },
  {
   "cell_type": "code",
   "execution_count": 18,
   "metadata": {},
   "outputs": [
    {
     "data": {
      "application/vnd.plotly.v1+json": {
       "config": {
        "plotlyServerURL": "https://plot.ly"
       },
       "data": [
        {
         "customdata": [
          [
           24.346575342465755,
           595.9067780821919,
           0.588548777223388,
           3425
          ],
          [
           24.346575342465755,
           595.9067780821919,
           0.588548777223388,
           3425
          ],
          [
           13.311780821917806,
           325.81914739726017,
           0.588548777223388,
           3425
          ],
          [
           22.680000000000003,
           555.11568,
           1.3227717609987413,
           3450
          ],
          [
           11.68876712328767,
           286.09426410958906,
           1.3227717609987413,
           3450
          ],
          [
           20.280821917808222,
           496.393397260274,
           2.0569947447740944,
           3475
          ],
          [
           37.35890410958904,
           914.3965369863014,
           0.588548777223388,
           3425
          ],
          [
           17.480821917808218,
           427.86059726027395,
           2.7912177285494475,
           3500
          ],
          [
           34.961643835616435,
           855.7211945205479,
           1.3227717609987413,
           3450
          ],
          [
           25.969041095890415,
           635.6182498630137,
           0.588548777223388,
           3425
          ],
          [
           25.77917808219178,
           630.971162739726,
           1.3227717609987413,
           3450
          ],
          [
           9.355616438356165,
           228.9880679452055,
           2.0569947447740944,
           3475
          ],
          [
           16.322465753424655,
           399.5086717808219,
           3.525440712324801,
           3525
          ],
          [
           31.8586301369863,
           779.7718312328766,
           2.0569947447740944,
           3475
          ],
          [
           31.244931506849316,
           764.7509435616438,
           2.7912177285494475,
           3500
          ],
          [
           22.67808219178082,
           555.0687397260274,
           2.0569947447740944,
           3475
          ],
          [
           37.00109589041096,
           905.6388230136986,
           0.588548777223388,
           3425
          ],
          [
           28.345205479452055,
           693.7772493150685,
           3.525440712324801,
           3525
          ],
          [
           13.721917808219178,
           335.8576602739726,
           4.259663696100154,
           3550
          ],
          [
           34.1013698630137,
           834.6651287671233,
           1.3227717609987413,
           3450
          ],
          [
           7.396164383561644,
           181.0285194520548,
           2.7912177285494475,
           3500
          ],
          [
           25.744657534246578,
           630.1262378082192,
           4.259663696100154,
           3550
          ],
          [
           19.97780821917808,
           488.97683397260266,
           2.7912177285494475,
           3500
          ],
          [
           24.877808219178082,
           608.9092339726028,
           4.993886679875507,
           3575
          ],
          [
           12.27780821917808,
           300.51163397260274,
           4.993886679875507,
           3575
          ],
          [
           30.999452054794524,
           758.7425884931507,
           2.0569947447740944,
           3475
          ],
          [
           18.284109589041094,
           447.5218663013698,
           3.525440712324801,
           3525
          ],
          [
           29.87506849315069,
           731.2221764383563,
           2.7912177285494475,
           3500
          ],
          [
           22.680000000000003,
           555.11568,
           5.72810966365086,
           3600
          ],
          [
           6.314520547945206,
           154.55420493150686,
           3.525440712324801,
           3525
          ],
          [
           10.862465753424658,
           265.8697117808219,
           5.72810966365086,
           3600
          ],
          [
           27.17260273972603,
           665.0766246575342,
           3.525440712324801,
           3525
          ],
          [
           16.225753424657533,
           397.1415408219178,
           4.259663696100154,
           3550
          ],
          [
           20.378630136986303,
           498.78735123287674,
           6.462332647426214,
           3625
          ],
          [
           9.895890410958904,
           242.21181369863015,
           6.462332647426214,
           3625
          ],
          [
           24.968219178082187,
           611.1221326027396,
           4.259663696100154,
           3550
          ],
          [
           19.097534246575343,
           467.43124821917814,
           7.196555631201567,
           3650
          ],
          [
           14.812328767123288,
           362.5465589041096,
           4.993886679875507,
           3575
          ],
          [
           5.2306849315068495,
           128.02624438356165,
           4.259663696100154,
           3550
          ],
          [
           22.467945205479456,
           549.9254268493152,
           4.993886679875507,
           3575
          ],
          [
           17.40602739726027,
           426.02992657534236,
           7.93077861497692,
           3675
          ],
          [
           8.653150684931507,
           211.79451616438357,
           7.196555631201567,
           3650
          ],
          [
           13.233150684931505,
           323.89459616438353,
           5.72810966365086,
           3600
          ],
          [
           20.65808219178082,
           505.6272197260274,
           5.72810966365086,
           3600
          ],
          [
           15.818082191780823,
           387.1633797260274,
           8.665001598752273,
           3700
          ],
          [
           7.757534246575342,
           189.87340821917806,
           7.93077861497692,
           3675
          ],
          [
           15.446027397260275,
           378.0569665753425,
           9.399224582527626,
           3725
          ],
          [
           12.1,
           296.15959999999995,
           6.462332647426214,
           3625
          ],
          [
           4.252054794520548,
           104.07329315068495,
           4.993886679875507,
           3575
          ],
          [
           18.4586301369863,
           451.79343123287674,
           6.462332647426214,
           3625
          ],
          [
           13.946301369863013,
           341.34967232876716,
           10.13344756630298,
           3750
          ],
          [
           10.87041095890411,
           266.064178630137,
           7.196555631201567,
           3650
          ],
          [
           16.6586301369863,
           407.7366312328767,
           7.196555631201567,
           3650
          ],
          [
           6.359452054794521,
           155.6539484931507,
           8.665001598752273,
           3700
          ],
          [
           16.25917808219178,
           397.95964273972606,
           7.93077861497692,
           3675
          ],
          [
           12.546301369863013,
           307.0832723287671,
           10.867670550078333,
           3775
          ],
          [
           9.66794520547945,
           236.63262684931502,
           7.93077861497692,
           3675
          ],
          [
           3.495890410958904,
           85.56541369863012,
           5.72810966365086,
           3600
          ],
          [
           5.947123287671234,
           145.56178958904113,
           9.399224582527626,
           3725
          ],
          [
           11.72931506849315,
           287.08671561643837,
           11.601893533853685,
           3800
          ],
          [
           15.05095890410959,
           368.38727013698633,
           8.665001598752273,
           3700
          ],
          [
           8.863287671232875,
           216.93782904109585,
           8.665001598752273,
           3700
          ],
          [
           10.7013698630137,
           261.9267287671233,
           12.336116517629039,
           3825
          ],
          [
           13.354520547945205,
           326.8652449315068,
           9.399224582527626,
           3725
          ],
          [
           7.865753424657535,
           192.5221808219178,
           9.399224582527626,
           3725
          ],
          [
           2.846027397260274,
           69.65936657534246,
           6.462332647426214,
           3625
          ],
          [
           4.936438356164384,
           120.82426520547946,
           10.13344756630298,
           3750
          ],
          [
           9.47013698630137,
           231.79107287671232,
           13.070339501404392,
           3850
          ],
          [
           11.953972602739725,
           292.5854334246575,
           10.13344756630298,
           3750
          ],
          [
           4.550958904109589,
           111.3892701369863,
           10.867670550078333,
           3775
          ],
          [
           7.052054794520549,
           172.60609315068496,
           10.13344756630298,
           3750
          ],
          [
           8.883287671232877,
           217.42734904109588,
           13.804562485179746,
           3875
          ],
          [
           11.145205479452056,
           272.79004931506853,
           10.867670550078333,
           3775
          ],
          [
           2.431780821917808,
           59.52026739726026,
           7.196555631201567,
           3650
          ],
          [
           6.5668493150684935,
           160.73020383561644,
           10.867670550078333,
           3775
          ],
          [
           8.319452054794521,
           203.6269084931507,
           14.5387854689551,
           3900
          ],
          [
           3.9123287671232876,
           95.75815890410959,
           11.601893533853685,
           3800
          ],
          [
           9.946849315068492,
           243.4590838356164,
           11.601893533853685,
           3800
          ],
          [
           7.701917808219178,
           188.5121402739726,
           15.273008452730451,
           3925
          ],
          [
           5.873698630136986,
           143.76464767123286,
           11.601893533853685,
           3800
          ],
          [
           9.236712328767123,
           226.0777709589041,
           12.336116517629039,
           3825
          ],
          [
           7.026849315068493,
           171.98916383561644,
           16.007231436505805,
           3950
          ],
          [
           3.503835616438356,
           85.7598805479452,
           12.336116517629039,
           3825
          ],
          [
           5.424657534246576,
           132.77391780821918,
           12.336116517629039,
           3825
          ],
          [
           6.846575342465752,
           167.57677808219174,
           16.74145442028116,
           3975
          ],
          [
           1.9473972602739724,
           47.66449534246575,
           7.93077861497692,
           3675
          ],
          [
           8.136986301369863,
           199.16087671232876,
           13.070339501404392,
           3850
          ],
          [
           6.278904109589042,
           153.68245698630136,
           17.475677404056512,
           4000
          ],
          [
           4.761643835616439,
           116.54599452054795,
           13.070339501404392,
           3850
          ],
          [
           5.8953424657534255,
           144.29440219178082,
           18.94412337160722,
           4050
          ],
          [
           1.6734246575342464,
           40.95874191780821,
           8.665001598752273,
           3700
          ],
          [
           2.916986301369864,
           71.39615671232879,
           13.804562485179746,
           3875
          ],
          [
           2.9073972602739726,
           71.16145534246574,
           13.070339501404392,
           3850
          ],
          [
           7.323287671232877,
           179.2447890410959,
           14.5387854689551,
           3900
          ],
          [
           4.466301369863014,
           109.31719232876712,
           14.5387854689551,
           3900
          ],
          [
           5.684383561643835,
           139.1309720547945,
           18.209900387831865,
           4025
          ],
          [
           7.037260273972603,
           172.24398246575342,
           13.804562485179746,
           3875
          ],
          [
           4.27945205479452,
           104.74386849315067,
           13.804562485179746,
           3875
          ],
          [
           5.377534246575342,
           131.62052821917808,
           19.67834635538257,
           4075
          ],
          [
           4.092602739726027,
           100.17054465753425,
           15.273008452730451,
           3925
          ],
          [
           2.5928767123287666,
           63.46325041095889,
           14.5387854689551,
           3900
          ],
          [
           5.093698630136986,
           124.67336767123287,
           21.146792322933276,
           4125
          ],
          [
           2.52,
           61.67952,
           15.273008452730451,
           3925
          ],
          [
           6.425753424657534,
           157.2767408219178,
           15.273008452730451,
           3925
          ],
          [
           6.366575342465753,
           155.82829808219176,
           16.007231436505805,
           3950
          ],
          [
           4.89041095890411,
           119.697698630137,
           20.412569339157923,
           4100
          ],
          [
           3.7912328767123284,
           92.79421589041095,
           16.74145442028116,
           3975
          ],
          [
           4.713972602739726,
           115.37919342465753,
           21.88101530670863,
           4150
          ],
          [
           3.694794520547945,
           90.43379068493151,
           16.007231436505805,
           3950
          ],
          [
           1.3326027397260274,
           32.61678465753425,
           9.399224582527626,
           3725
          ],
          [
           5.666301369863013,
           138.6883923287671,
           16.74145442028116,
           3975
          ],
          [
           3.4567123287671233,
           84.6064909589041,
           17.475677404056512,
           4000
          ],
          [
           2.1939726027397257,
           53.699673424657526,
           16.007231436505805,
           3950
          ],
          [
           4.361095890410959,
           106.74218301369862,
           22.615238290483983,
           4175
          ],
          [
           1.2153424657534246,
           29.74672219178082,
           10.13344756630298,
           3750
          ],
          [
           3.1221917808219177,
           76.41876602739725,
           18.209900387831865,
           4025
          ],
          [
           4.966027397260274,
           121.54848657534247,
           17.475677404056512,
           4000
          ],
          [
           1.9293150684931506,
           47.22191561643835,
           16.74145442028116,
           3975
          ],
          [
           3.812602739726027,
           93.31726465753424,
           23.349461274259337,
           4200
          ],
          [
           2.9443835616438356,
           72.06673205479453,
           18.94412337160722,
           4050
          ],
          [
           3.728219178082192,
           91.25189260273973,
           24.083684258034687,
           4225
          ],
          [
           1.0619178082191782,
           25.99150027397261,
           10.867670550078333,
           3775
          ],
          [
           4.7095890410958905,
           115.27190136986302,
           18.209900387831865,
           4025
          ],
          [
           3.636164383561644,
           88.9987594520548,
           24.81790724181004,
           4250
          ],
          [
           1.7183561643835614,
           42.05848547945205,
           17.475677404056512,
           4000
          ],
          [
           2.6701369863013698,
           65.35427287671233,
           19.67834635538257,
           4075
          ],
          [
           3.371506849315069,
           82.52100164383563,
           25.552130225585394,
           4275
          ],
          [
           4.324931506849315,
           105.85702356164383,
           18.94412337160722,
           4050
          ],
          [
           4.009315068493151,
           98.13199561643836,
           20.412569339157923,
           4100
          ],
          [
           3.96986301369863,
           97.16636712328767,
           19.67834635538257,
           4075
          ],
          [
           3.0723287671232873,
           75.19831890410957,
           26.286353209360747,
           4300
          ],
          [
           0.8723287671232878,
           21.351118904109594,
           11.601893533853685,
           3800
          ],
          [
           1.518904109589041,
           37.176696986301366,
           18.209900387831865,
           4025
          ],
          [
           2.3868493150684933,
           58.42052383561644,
           20.412569339157923,
           4100
          ],
          [
           2.8958904109589043,
           70.87981369863014,
           27.0205761931361,
           4325
          ],
          [
           2.1517808219178085,
           52.66698739726028,
           21.146792322933276,
           4125
          ],
          [
           3.511232876712329,
           85.94093589041097,
           21.146792322933276,
           4125
          ],
          [
           2.6849315068493156,
           65.71638356164384,
           27.754799176911455,
           4350
          ],
          [
           1.3386301369863014,
           32.764311232876715,
           18.94412337160722,
           4050
          ],
          [
           3.21041095890411,
           78.578018630137,
           21.88101530670863,
           4150
          ],
          [
           2.4854794520547947,
           60.83459506849315,
           28.489022160686808,
           4375
          ],
          [
           1.925753424657534,
           47.1347408219178,
           21.88101530670863,
           4150
          ],
          [
           2.443287671232877,
           59.8019090410959,
           29.22324514446216,
           4400
          ],
          [
           1.8895890410958904,
           46.249581369863016,
           22.615238290483983,
           4175
          ],
          [
           0.673972602739726,
           16.496153424657535,
           12.336116517629039,
           3825
          ],
          [
           1.1794520547945206,
           28.868268493150687,
           19.67834635538257,
           4075
          ],
          [
           2.3435616438356166,
           57.36101479452056,
           29.957468128237515,
           4425
          ],
          [
           2.958904109589041,
           72.42213698630137,
           22.615238290483983,
           4175
          ],
          [
           1.1161643835616437,
           27.319239452054795,
           20.412569339157923,
           4100
          ],
          [
           2.1786301369863015,
           53.324151232876716,
           30.69169111201287,
           4450
          ],
          [
           1.6665753424657537,
           40.79109808219178,
           23.349461274259337,
           4200
          ],
          [
           2.697534246575342,
           66.02484821917807,
           23.349461274259337,
           4200
          ],
          [
           2.029041095890411,
           49.662809863013706,
           31.42591409578822,
           4475
          ],
          [
           0.999178082191781,
           24.455882739726032,
           21.146792322933276,
           4125
          ],
          [
           2.5693150684931507,
           62.88655561643836,
           24.083684258034687,
           4225
          ],
          [
           1.5641095890410959,
           38.28314630136986,
           24.083684258034687,
           4225
          ],
          [
           0.561095890410959,
           13.733383013698633,
           13.070339501404392,
           3850
          ],
          [
           1.9024657534246574,
           46.564751780821915,
           32.160137079563576,
           4500
          ],
          [
           1.4495890410958905,
           35.48014136986301,
           24.81790724181004,
           4250
          ],
          [
           2.367123287671233,
           57.9377095890411,
           24.81790724181004,
           4250
          ],
          [
           1.77972602739726,
           43.560574246575335,
           32.89436006333893,
           4525
          ],
          [
           0.8745205479452056,
           21.40476493150685,
           21.88101530670863,
           4150
          ],
          [
           1.3380821917808219,
           32.7508997260274,
           25.552130225585394,
           4275
          ],
          [
           2.1747945205479455,
           53.23027068493151,
           25.552130225585394,
           4275
          ],
          [
           1.6799999999999997,
           41.119679999999995,
           33.62858304711428,
           4550
          ],
          [
           1.5726027397260276,
           38.491024657534254,
           34.36280603088963,
           4575
          ],
          [
           0.7786301369863013,
           19.05775123287671,
           22.615238290483983,
           4175
          ],
          [
           1.2235616438356165,
           29.94789479452055,
           26.286353209360747,
           4300
          ],
          [
           1.9972602739726026,
           48.884942465753426,
           26.286353209360747,
           4300
          ],
          [
           1.9232876712328768,
           47.07438904109589,
           27.754799176911455,
           4350
          ],
          [
           1.4536986301369863,
           35.58072767123287,
           35.83125199844034,
           4625
          ],
          [
           0.4098630136986302,
           10.031807123287674,
           13.804562485179746,
           3875
          ],
          [
           1.8295890410958906,
           44.78102136986302,
           27.0205761931361,
           4325
          ],
          [
           0.7057534246575343,
           17.27402082191781,
           24.083684258034687,
           4225
          ],
          [
           1.0999999999999999,
           26.923599999999997,
           27.0205761931361,
           4325
          ]
         ],
         "hovertemplate": "exercisedCoin=USDC<br>duration=%{x}<br>apr=%{y}<br>1000return=%{customdata[0]}<br>USDamt=%{customdata[1]}<br>Percent_to_strikeprice=%{customdata[2]}<br>strikePrice=%{customdata[3]}<extra></extra>",
         "legendgroup": "USDC",
         "marker": {
          "color": "#636efa",
          "symbol": "circle"
         },
         "mode": "markers",
         "name": "USDC",
         "orientation": "v",
         "showlegend": true,
         "type": "scatter",
         "x": [
          7,
          7,
          4,
          7,
          4,
          7,
          14,
          7,
          14,
          11,
          11,
          4,
          7,
          14,
          14,
          11,
          18,
          14,
          7,
          18,
          4,
          14,
          11,
          14,
          7,
          18,
          11,
          18,
          14,
          4,
          7,
          18,
          11,
          14,
          7,
          18,
          14,
          11,
          4,
          18,
          14,
          7,
          11,
          18,
          14,
          7,
          14,
          11,
          4,
          18,
          14,
          11,
          18,
          7,
          18,
          14,
          11,
          4,
          7,
          14,
          18,
          11,
          14,
          18,
          11,
          4,
          7,
          14,
          18,
          7,
          11,
          14,
          18,
          4,
          11,
          14,
          7,
          18,
          14,
          11,
          18,
          14,
          7,
          11,
          14,
          4,
          18,
          14,
          11,
          14,
          4,
          7,
          7,
          18,
          11,
          14,
          18,
          11,
          14,
          11,
          7,
          14,
          7,
          18,
          18,
          14,
          11,
          14,
          11,
          4,
          18,
          11,
          7,
          14,
          4,
          11,
          18,
          7,
          14,
          11,
          14,
          4,
          18,
          14,
          7,
          11,
          14,
          18,
          18,
          18,
          14,
          4,
          7,
          11,
          14,
          11,
          18,
          14,
          7,
          18,
          14,
          11,
          14,
          11,
          4,
          7,
          14,
          18,
          7,
          14,
          11,
          18,
          14,
          7,
          18,
          11,
          4,
          14,
          11,
          18,
          14,
          7,
          11,
          18,
          14,
          14,
          7,
          11,
          18,
          18,
          14,
          4,
          18,
          7,
          11
         ],
         "xaxis": "x",
         "y": [
          1.2695,
          1.2695,
          1.2147,
          1.1826,
          1.0666,
          1.0575,
          0.974,
          0.9115,
          0.9115,
          0.8617,
          0.8554,
          0.8537,
          0.8511,
          0.8306,
          0.8146,
          0.7525,
          0.7503,
          0.739,
          0.7155,
          0.6915,
          0.6749,
          0.6712,
          0.6629,
          0.6486,
          0.6402,
          0.6286,
          0.6067,
          0.6058,
          0.5913,
          0.5762,
          0.5664,
          0.551,
          0.5384,
          0.5313,
          0.516,
          0.5063,
          0.4979,
          0.4915,
          0.4773,
          0.4556,
          0.4538,
          0.4512,
          0.4391,
          0.4189,
          0.4124,
          0.4045,
          0.4027,
          0.4015,
          0.388,
          0.3743,
          0.3636,
          0.3607,
          0.3378,
          0.3316,
          0.3297,
          0.3271,
          0.3208,
          0.319,
          0.3101,
          0.3058,
          0.3052,
          0.2941,
          0.279,
          0.2708,
          0.261,
          0.2597,
          0.2574,
          0.2469,
          0.2424,
          0.2373,
          0.234,
          0.2316,
          0.226,
          0.2219,
          0.2179,
          0.2169,
          0.204,
          0.2017,
          0.2008,
          0.1949,
          0.1873,
          0.1832,
          0.1827,
          0.18,
          0.1785,
          0.1777,
          0.165,
          0.1637,
          0.158,
          0.1537,
          0.1527,
          0.1521,
          0.1516,
          0.1485,
          0.1482,
          0.1482,
          0.1427,
          0.142,
          0.1402,
          0.1358,
          0.1352,
          0.1328,
          0.1314,
          0.1303,
          0.1291,
          0.1275,
          0.1258,
          0.1229,
          0.1226,
          0.1216,
          0.1149,
          0.1147,
          0.1144,
          0.1137,
          0.1109,
          0.1036,
          0.1007,
          0.1006,
          0.0994,
          0.0977,
          0.0972,
          0.0969,
          0.0955,
          0.0948,
          0.0896,
          0.0886,
          0.0879,
          0.0877,
          0.0813,
          0.0805,
          0.0801,
          0.0796,
          0.0792,
          0.0792,
          0.0755,
          0.0714,
          0.0712,
          0.07,
          0.0698,
          0.0651,
          0.0648,
          0.0639,
          0.0637,
          0.0627,
          0.0615,
          0.0615,
          0.0611,
          0.06,
          0.0582,
          0.0568,
          0.0553,
          0.0547,
          0.0529,
          0.0521,
          0.0521,
          0.0519,
          0.0512,
          0.0496,
          0.0481,
          0.048,
          0.0464,
          0.0456,
          0.0444,
          0.0441,
          0.0438,
          0.041,
          0.0406,
          0.0406,
          0.0405,
          0.039,
          0.0379,
          0.0374,
          0.0371,
          0.0368,
          0.0365
         ],
         "yaxis": "y"
        },
        {
         "customdata": [
          [
           14.712328767123287,
           360.09895890410957,
           0.588548777223388,
           3425
          ],
          [
           14.712328767123287,
           360.09895890410957,
           0.588548777223388,
           3425
          ],
          [
           24.133698630136983,
           590.6964076712328,
           0.588548777223388,
           3425
          ],
          [
           22.27917808219178,
           545.305162739726,
           1.3227717609987413,
           3450
          ],
          [
           19.954794520547946,
           488.4135506849315,
           2.0569947447740944,
           3475
          ],
          [
           38.678356164383565,
           946.6914454794521,
           0.588548777223388,
           3425
          ],
          [
           10.499726027397259,
           256.9912942465753,
           1.3227717609987413,
           3450
          ],
          [
           36.18520547945205,
           885.6690893150684,
           1.3227717609987413,
           3450
          ],
          [
           17.609315068493153,
           431.0055956164384,
           2.7912177285494475,
           3500
          ],
          [
           25.969041095890415,
           635.6182498630137,
           0.588548777223388,
           3425
          ],
          [
           9.423561643835615,
           230.65109479452053,
           2.0569947447740944,
           3475
          ],
          [
           25.233698630136985,
           617.6200076712328,
           1.3227717609987413,
           3450
          ],
          [
           30.94958904109589,
           757.5221413698631,
           2.7912177285494475,
           3500
          ],
          [
           15.181369863013698,
           371.5792087671233,
           3.525440712324801,
           3525
          ],
          [
           30.35890410958904,
           743.0645369863014,
           2.0569947447740944,
           3475
          ],
          [
           37.19835616438356,
           910.466965479452,
           0.588548777223388,
           3425
          ],
          [
           28.64438356164383,
           701.0999320547944,
           3.525440712324801,
           3525
          ],
          [
           13.923287671232877,
           340.7863890410959,
           4.259663696100154,
           3550
          ],
          [
           27.631780821917808,
           676.3154673972602,
           4.259663696100154,
           3550
          ],
          [
           21.677534246575345,
           530.5793282191781,
           2.0569947447740944,
           3475
          ],
          [
           34.59945205479452,
           846.8561884931506,
           1.3227717609987413,
           3450
          ],
          [
           7.562739726027398,
           185.1056175342466,
           2.7912177285494475,
           3500
          ],
          [
           12.596164383561645,
           308.30371945205485,
           4.993886679875507,
           3575
          ],
          [
           19.18520547945206,
           469.5770893150686,
           2.7912177285494475,
           3500
          ],
          [
           31.20164383561644,
           763.691434520548,
           2.0569947447740944,
           3475
          ],
          [
           24.179726027397262,
           591.8229742465754,
           5.72810966365086,
           3600
          ],
          [
           30.274520547945208,
           740.9991649315069,
           2.7912177285494475,
           3500
          ],
          [
           23.543013698630133,
           576.2388032876712,
           4.993886679875507,
           3575
          ],
          [
           18.365479452054796,
           449.51347506849316,
           3.525440712324801,
           3525
          ],
          [
           6.497534246575342,
           159.03364821917808,
           3.525440712324801,
           3525
          ],
          [
           11.044657534246575,
           270.32903780821914,
           5.72810966365086,
           3600
          ],
          [
           27.374794520547947,
           670.0254706849316,
           3.525440712324801,
           3525
          ],
          [
           21.057534246575344,
           515.4042082191781,
           7.196555631201567,
           3650
          ],
          [
           16.49095890410959,
           403.63271013698636,
           4.259663696100154,
           3550
          ],
          [
           20.861917808219182,
           510.6163002739727,
           6.462332647426214,
           3625
          ],
          [
           10.185479452054794,
           249.29979506849315,
           6.462332647426214,
           3625
          ],
          [
           24.770958904109587,
           606.2939901369863,
           4.259663696100154,
           3550
          ],
          [
           15.056438356164382,
           368.5213852054794,
           4.993886679875507,
           3575
          ],
          [
           5.31945205479452,
           130.19890849315067,
           4.259663696100154,
           3550
          ],
          [
           17.804931506849314,
           435.79350356164383,
           7.93077861497692,
           3675
          ],
          [
           8.883287671232877,
           217.42734904109588,
           7.196555631201567,
           3650
          ],
          [
           22.763835616438353,
           557.1676405479452,
           4.993886679875507,
           3575
          ],
          [
           17.37917808219178,
           425.372762739726,
           8.665001598752273,
           3700
          ],
          [
           13.45013698630137,
           329.2055528767124,
           5.72810966365086,
           3600
          ],
          [
           8.02027397260274,
           196.30422575342462,
           7.93077861497692,
           3675
          ],
          [
           20.36712328767123,
           498.50570958904103,
           5.72810966365086,
           3600
          ],
          [
           12.286849315068492,
           300.7329238356164,
           6.462332647426214,
           3625
          ],
          [
           15.346301369863014,
           375.6160723287671,
           9.399224582527626,
           3725
          ],
          [
           15.085479452054795,
           369.2321950684931,
           10.13344756630298,
           3750
          ],
          [
           4.2345205479452055,
           103.64412493150685,
           4.993886679875507,
           3575
          ],
          [
           18.66082191780822,
           456.74227726027397,
           6.462332647426214,
           3625
          ],
          [
           18.157808219178083,
           444.4305139726028,
           7.196555631201567,
           3650
          ],
          [
           10.963835616438356,
           268.35084054794515,
           7.196555631201567,
           3650
          ],
          [
           6.5282191780821925,
           159.78469260273977,
           8.665001598752273,
           3700
          ],
          [
           16.461369863013697,
           402.90848876712323,
           7.93077861497692,
           3675
          ],
          [
           12.646027397260275,
           309.52416657534246,
           10.867670550078333,
           3775
          ],
          [
           6.267397260273972,
           153.40081534246573,
           9.399224582527626,
           3725
          ],
          [
           3.5298630136986304,
           86.39692712328768,
           5.72810966365086,
           3600
          ],
          [
           9.70109589041096,
           237.44402301369863,
           7.93077861497692,
           3675
          ],
          [
           12.227945205479452,
           299.29118684931507,
           11.601893533853685,
           3800
          ],
          [
           15.154520547945207,
           370.9220449315069,
           8.665001598752273,
           3700
          ],
          [
           8.932602739726027,
           218.63438465753424,
           8.665001598752273,
           3700
          ],
          [
           10.858630136986301,
           265.77583123287667,
           12.336116517629039,
           3825
          ],
          [
           13.65041095890411,
           334.10745863013705,
           9.399224582527626,
           3725
          ],
          [
           10.482739726027397,
           256.57553753424656,
           13.070339501404392,
           3850
          ],
          [
           2.972054794520548,
           72.74401315068494,
           6.462332647426214,
           3625
          ],
          [
           5.087945205479452,
           124.53254684931505,
           10.13344756630298,
           3750
          ],
          [
           7.950136986301369,
           194.58755287671232,
           9.399224582527626,
           3725
          ],
          [
           12.151232876712328,
           297.4135758904109,
           10.13344756630298,
           3750
          ],
          [
           4.602739726027397,
           112.65665753424656,
           10.867670550078333,
           3775
          ],
          [
           7.208767123287671,
           176.44178410958904,
           10.13344756630298,
           3750
          ],
          [
           9.036712328767123,
           221.1825709589041,
           13.804562485179746,
           3875
          ],
          [
           2.5424657534246577,
           62.22939178082193,
           7.196555631201567,
           3650
          ],
          [
           11.243835616438357,
           275.2041205479452,
           10.867670550078333,
           3775
          ],
          [
           8.706849315068494,
           213.10884383561645,
           14.5387854689551,
           3900
          ],
          [
           6.708493150684931,
           164.19707835616435,
           10.867670550078333,
           3775
          ],
          [
           4.029315068493151,
           98.62151561643837,
           11.601893533853685,
           3800
          ],
          [
           7.870684931506848,
           192.6428843835616,
           15.273008452730451,
           3925
          ],
          [
           10.045479452054794,
           245.87315506849313,
           11.601893533853685,
           3800
          ],
          [
           6.009315068493151,
           147.08399561643836,
           11.601893533853685,
           3800
          ],
          [
           7.625205479452054,
           186.63452931506848,
           16.007231436505805,
           3950
          ],
          [
           9.340273972602741,
           228.61254575342468,
           12.336116517629039,
           3825
          ],
          [
           2.035068493150685,
           49.81033643835617,
           7.93077861497692,
           3675
          ],
          [
           5.551232876712329,
           135.87197589041097,
           12.336116517629039,
           3825
          ],
          [
           3.5306849315068503,
           86.41704438356166,
           12.336116517629039,
           3825
          ],
          [
           6.9693150684931515,
           170.5809556164384,
           16.74145442028116,
           3975
          ],
          [
           6.888767123287671,
           168.60946410958906,
           17.475677404056512,
           4000
          ],
          [
           8.24054794520548,
           201.69565150684932,
           13.070339501404392,
           3850
          ],
          [
           4.87917808219178,
           119.42276273972601,
           13.070339501404392,
           3850
          ],
          [
           1.7490410958904108,
           42.809529863013694,
           8.665001598752273,
           3700
          ],
          [
           3.010958904109589,
           73.6962301369863,
           13.070339501404392,
           3850
          ],
          [
           6.002739726027397,
           146.9230575342466,
           18.94412337160722,
           4050
          ],
          [
           4.562739726027398,
           111.6776175342466,
           14.5387854689551,
           3900
          ],
          [
           5.795616438356165,
           141.85350794520548,
           18.209900387831865,
           4025
          ],
          [
           7.323287671232877,
           179.2447890410959,
           14.5387854689551,
           3900
          ],
          [
           7.239452054794521,
           177.1928284931507,
           13.804562485179746,
           3875
          ],
          [
           4.384931506849314,
           107.32558356164382,
           13.804562485179746,
           3875
          ],
          [
           5.477260273972603,
           134.06142246575342,
           19.67834635538257,
           4075
          ],
          [
           2.7232876712328764,
           66.6551890410959,
           13.804562485179746,
           3875
          ],
          [
           2.6715068493150684,
           65.38780164383562,
           14.5387854689551,
           3900
          ],
          [
           4.176986301369863,
           102.23591671232876,
           15.273008452730451,
           3925
          ],
          [
           6.465205479452054,
           158.24236931506846,
           16.007231436505805,
           3950
          ],
          [
           6.425753424657534,
           157.2767408219178,
           15.273008452730451,
           3925
          ],
          [
           4.982465753424656,
           121.95083178082189,
           20.412569339157923,
           4100
          ],
          [
           3.866575342465753,
           94.63829808219177,
           16.74145442028116,
           3975
          ],
          [
           1.4005479452054794,
           34.27981150684931,
           9.399224582527626,
           3725
          ],
          [
           3.773150684931507,
           92.35163616438355,
           16.007231436505805,
           3950
          ],
          [
           4.794520547945205,
           117.35068493150683,
           21.88101530670863,
           4150
          ],
          [
           2.318630136986301,
           56.75079123287671,
           15.273008452730451,
           3925
          ],
          [
           4.602739726027397,
           112.65665753424656,
           21.146792322933276,
           4125
          ],
          [
           2.245753424657534,
           54.967060821917805,
           16.007231436505805,
           3950
          ],
          [
           3.5260273972602745,
           86.30304657534248,
           17.475677404056512,
           4000
          ],
          [
           5.764931506849316,
           141.10246356164384,
           16.74145442028116,
           3975
          ],
          [
           1.2734246575342465,
           31.168341917808217,
           10.13344756630298,
           3750
          ],
          [
           4.437808219178082,
           108.61979397260274,
           22.615238290483983,
           4175
          ],
          [
           3.1854794520547944,
           77.96779506849315,
           18.209900387831865,
           4025
          ],
          [
           1.9887671232876711,
           48.67706410958904,
           16.74145442028116,
           3975
          ],
          [
           5.064657534246575,
           123.96255780821917,
           17.475677404056512,
           4000
          ],
          [
           3.893150684931507,
           95.28875616438357,
           23.349461274259337,
           4200
          ],
          [
           3.0016438356164383,
           73.46823452054795,
           18.94412337160722,
           4050
          ],
          [
           3.8010958904109584,
           93.03562301369861,
           24.083684258034687,
           4225
          ],
          [
           1.0553424657534247,
           25.830562191780825,
           10.867670550078333,
           3775
          ],
          [
           4.69972602739726,
           115.03049424657533,
           18.209900387831865,
           4025
          ],
          [
           3.6131506849315067,
           88.43547616438356,
           24.81790724181004,
           4250
          ],
          [
           1.7682191780821916,
           43.27893260273972,
           17.475677404056512,
           4000
          ],
          [
           2.7243835616438354,
           66.68201205479451,
           19.67834635538257,
           4075
          ],
          [
           4.315068493150685,
           105.61561643835616,
           18.94412337160722,
           4050
          ],
          [
           3.3523287671232875,
           82.05159890410958,
           25.552130225585394,
           4275
          ],
          [
           0.9128767123287671,
           22.343570410958904,
           11.601893533853685,
           3800
          ],
          [
           1.5783561643835613,
           38.631845479452046,
           18.209900387831865,
           4025
          ],
          [
           3.1221917808219177,
           76.41876602739725,
           26.286353209360747,
           4300
          ],
          [
           4.009315068493151,
           98.13199561643836,
           20.412569339157923,
           4100
          ],
          [
           2.438082191780822,
           59.6744997260274,
           20.412569339157923,
           4100
          ],
          [
           3.9550684931506845,
           96.80425643835615,
           19.67834635538257,
           4075
          ],
          [
           2.961095890410959,
           72.47578301369863,
           27.0205761931361,
           4325
          ],
          [
           2.1999999999999997,
           53.847199999999994,
           21.146792322933276,
           4125
          ],
          [
           1.3731506849315067,
           33.60923616438356,
           18.94412337160722,
           4050
          ],
          [
           3.511232876712329,
           85.94093589041097,
           21.146792322933276,
           4125
          ],
          [
           2.6734246575342464,
           65.43474191780821,
           27.754799176911455,
           4350
          ],
          [
           2.5353424657534247,
           62.05504219178082,
           28.489022160686808,
           4375
          ],
          [
           1.9709589041095892,
           48.241190136986305,
           21.88101530670863,
           4150
          ],
          [
           3.21041095890411,
           78.578018630137,
           21.88101530670863,
           4150
          ],
          [
           0.7090410958904109,
           17.354489863013697,
           12.336116517629039,
           3825
          ],
          [
           2.4778082191780824,
           60.64683397260274,
           29.22324514446216,
           4400
          ],
          [
           1.9287671232876713,
           47.20850410958904,
           22.615238290483983,
           4175
          ],
          [
           1.212054794520548,
           29.666253150684934,
           19.67834635538257,
           4075
          ],
          [
           3.106849315068493,
           76.04324383561644,
           22.615238290483983,
           4175
          ],
          [
           2.332054794520548,
           57.07937315068493,
           29.957468128237515,
           4425
          ],
          [
           1.146849315068493,
           28.070283835616436,
           20.412569339157923,
           4100
          ],
          [
           2.855342465753425,
           69.88736219178084,
           23.349461274259337,
           4200
          ],
          [
           2.1786301369863015,
           53.324151232876716,
           30.69169111201287,
           4450
          ],
          [
           1.7027397260273973,
           41.67625753424658,
           23.349461274259337,
           4200
          ],
          [
           0.5917808219178082,
           14.484427397260275,
           13.070339501404392,
           3850
          ],
          [
           2.0558904109589045,
           50.31997369863014,
           31.42591409578822,
           4475
          ],
          [
           1.0241095890410958,
           25.066106301369864,
           21.146792322933276,
           4125
          ],
          [
           2.633424657534247,
           64.45570191780823,
           24.083684258034687,
           4225
          ],
          [
           1.594246575342466,
           39.02077917808219,
           24.083684258034687,
           4225
          ],
          [
           1.9293150684931506,
           47.22191561643835,
           32.160137079563576,
           4500
          ],
          [
           2.4263013698630136,
           59.386152328767125,
           24.81790724181004,
           4250
          ],
          [
           1.4797260273972603,
           36.217774246575345,
           24.81790724181004,
           4250
          ],
          [
           1.8065753424657534,
           44.21773808219178,
           32.89436006333893,
           4525
          ],
          [
           0.8975342465753425,
           21.968048219178083,
           21.88101530670863,
           4150
          ],
          [
           1.3652054794520547,
           33.41476931506849,
           25.552130225585394,
           4275
          ],
          [
           2.2339726027397258,
           54.67871342465753,
           25.552130225585394,
           4275
          ],
          [
           1.7068493150684931,
           41.77684383561644,
           33.62858304711428,
           4550
          ],
          [
           0.7978082191780822,
           19.52715397260274,
           22.615238290483983,
           4175
          ],
          [
           1.5956164383561644,
           39.05430794520548,
           34.36280603088963,
           4575
          ],
          [
           2.0515068493150683,
           50.21268164383561,
           26.286353209360747,
           4300
          ],
          [
           1.2506849315068493,
           30.611764383561642,
           26.286353209360747,
           4300
          ],
          [
           0.4350684931506849,
           10.648736438356163,
           13.804562485179746,
           3875
          ],
          [
           1.5227397260273972,
           37.27057753424657,
           35.83125199844034,
           4625
          ],
          [
           1.9479452054794522,
           47.67790684931507,
           27.754799176911455,
           4350
          ],
          [
           0.7230136986301369,
           17.69648328767123,
           24.083684258034687,
           4225
          ],
          [
           0.7153424657534247,
           17.508722191780823,
           23.349461274259337,
           4200
          ],
          [
           1.1210958904109587,
           27.439943013698628,
           27.0205761931361,
           4325
          ],
          [
           1.824657534246575,
           44.66031780821917,
           28.489022160686808,
           4375
          ],
          [
           1.8049315068493152,
           44.17750356164384,
           27.0205761931361,
           4325
          ]
         ],
         "hovertemplate": "exercisedCoin=USDT<br>duration=%{x}<br>apr=%{y}<br>1000return=%{customdata[0]}<br>USDamt=%{customdata[1]}<br>Percent_to_strikeprice=%{customdata[2]}<br>strikePrice=%{customdata[3]}<extra></extra>",
         "legendgroup": "USDT",
         "marker": {
          "color": "#EF553B",
          "symbol": "circle"
         },
         "mode": "markers",
         "name": "USDT",
         "orientation": "v",
         "showlegend": true,
         "type": "scatter",
         "x": [
          4,
          4,
          7,
          7,
          7,
          14,
          4,
          14,
          7,
          11,
          4,
          11,
          14,
          7,
          14,
          18,
          14,
          7,
          14,
          11,
          18,
          4,
          7,
          11,
          18,
          14,
          18,
          14,
          11,
          4,
          7,
          18,
          14,
          11,
          14,
          7,
          18,
          11,
          4,
          14,
          7,
          18,
          14,
          11,
          7,
          18,
          11,
          14,
          14,
          4,
          18,
          18,
          11,
          7,
          18,
          14,
          7,
          4,
          11,
          14,
          18,
          11,
          14,
          18,
          14,
          4,
          7,
          11,
          18,
          7,
          11,
          14,
          4,
          18,
          14,
          11,
          7,
          14,
          18,
          11,
          14,
          18,
          4,
          11,
          7,
          14,
          14,
          18,
          11,
          4,
          7,
          14,
          11,
          14,
          18,
          18,
          11,
          14,
          7,
          7,
          11,
          18,
          18,
          14,
          11,
          4,
          11,
          14,
          7,
          14,
          7,
          11,
          18,
          4,
          14,
          11,
          7,
          18,
          14,
          11,
          14,
          4,
          18,
          14,
          7,
          11,
          18,
          14,
          4,
          7,
          14,
          18,
          11,
          18,
          14,
          11,
          7,
          18,
          14,
          14,
          11,
          18,
          4,
          14,
          11,
          7,
          18,
          14,
          7,
          18,
          14,
          11,
          4,
          14,
          7,
          18,
          11,
          14,
          18,
          11,
          14,
          7,
          11,
          18,
          14,
          7,
          14,
          18,
          11,
          4,
          14,
          18,
          7,
          7,
          11,
          18,
          18
         ],
         "xaxis": "x",
         "y": [
          1.3425,
          1.3425,
          1.2584,
          1.1617,
          1.0405,
          1.0084,
          0.9581,
          0.9434,
          0.9182,
          0.8617,
          0.8599,
          0.8373,
          0.8069,
          0.7916,
          0.7915,
          0.7543,
          0.7468,
          0.726,
          0.7204,
          0.7193,
          0.7016,
          0.6901,
          0.6568,
          0.6366,
          0.6327,
          0.6304,
          0.6139,
          0.6138,
          0.6094,
          0.5929,
          0.5759,
          0.5551,
          0.549,
          0.5472,
          0.5439,
          0.5311,
          0.5023,
          0.4996,
          0.4854,
          0.4642,
          0.4632,
          0.4616,
          0.4531,
          0.4463,
          0.4182,
          0.413,
          0.4077,
          0.4001,
          0.3933,
          0.3864,
          0.3784,
          0.3682,
          0.3638,
          0.3404,
          0.3338,
          0.3297,
          0.3268,
          0.3221,
          0.3219,
          0.3188,
          0.3073,
          0.2964,
          0.2831,
          0.2768,
          0.2733,
          0.2712,
          0.2653,
          0.2638,
          0.2464,
          0.24,
          0.2392,
          0.2356,
          0.232,
          0.228,
          0.227,
          0.2226,
          0.2101,
          0.2052,
          0.2037,
          0.1994,
          0.1988,
          0.1894,
          0.1857,
          0.1842,
          0.1841,
          0.1817,
          0.1796,
          0.1671,
          0.1619,
          0.1596,
          0.157,
          0.1565,
          0.1514,
          0.1511,
          0.1485,
          0.1468,
          0.1455,
          0.1428,
          0.142,
          0.1393,
          0.1386,
          0.1311,
          0.1303,
          0.1299,
          0.1283,
          0.1278,
          0.1252,
          0.125,
          0.1209,
          0.12,
          0.1171,
          0.117,
          0.1169,
          0.1162,
          0.1157,
          0.1057,
          0.1037,
          0.1027,
          0.1015,
          0.0996,
          0.0991,
          0.0963,
          0.0953,
          0.0942,
          0.0922,
          0.0904,
          0.0875,
          0.0874,
          0.0833,
          0.0823,
          0.0814,
          0.0813,
          0.0809,
          0.0802,
          0.0772,
          0.073,
          0.0716,
          0.0712,
          0.0697,
          0.0661,
          0.0654,
          0.0651,
          0.0647,
          0.0646,
          0.064,
          0.0632,
          0.063,
          0.0608,
          0.0598,
          0.0579,
          0.0568,
          0.0565,
          0.054,
          0.0536,
          0.0534,
          0.0534,
          0.0529,
          0.0503,
          0.0492,
          0.0491,
          0.0471,
          0.0468,
          0.0453,
          0.0453,
          0.0445,
          0.0416,
          0.0416,
          0.0416,
          0.0415,
          0.0397,
          0.0397,
          0.0395,
          0.0377,
          0.0373,
          0.0372,
          0.037,
          0.0366
         ],
         "yaxis": "y"
        },
        {
         "customdata": [
          [
           25.246027397260278,
           617.9217665753425,
           0.588548777223388,
           3425
          ],
          [
           25.246027397260278,
           617.9217665753425,
           0.588548777223388,
           3425
          ],
          [
           14.211506849315068,
           347.8408416438356,
           0.588548777223388,
           3425
          ],
          [
           23.479726027397263,
           574.6897742465754,
           1.3227717609987413,
           3450
          ],
          [
           11.888219178082192,
           290.97605260273974,
           1.3227717609987413,
           3450
          ],
          [
           20.480273972602742,
           501.2751857534247,
           2.0569947447740944,
           3475
          ],
          [
           38.55945205479452,
           943.7811484931507,
           0.588548777223388,
           3425
          ],
          [
           17.68027397260274,
           432.7423857534247,
           2.7912177285494475,
           3500
          ],
          [
           35.26082191780822,
           863.043877260274,
           1.3227717609987413,
           3450
          ],
          [
           27.26794520547945,
           667.410226849315,
           0.588548777223388,
           3425
          ],
          [
           9.189041095890412,
           224.91096986301372,
           2.0569947447740944,
           3475
          ],
          [
           32.16164383561644,
           787.188394520548,
           2.0569947447740944,
           3475
          ],
          [
           31.94301369863014,
           781.8372032876713,
           2.7912177285494475,
           3500
          ],
          [
           23.86849315068493,
           584.2052383561643,
           1.3227717609987413,
           3450
          ],
          [
           15.17945205479452,
           371.5322684931507,
           3.525440712324801,
           3525
          ],
          [
           38.19945205479451,
           934.9697884931505,
           0.588548777223388,
           3425
          ],
          [
           22.97945205479452,
           562.4450684931508,
           2.0569947447740944,
           3475
          ],
          [
           14.222465753424657,
           348.10907178082186,
           4.259663696100154,
           3550
          ],
          [
           28.245479452054802,
           691.3363550684933,
           3.525440712324801,
           3525
          ],
          [
           34.80164383561644,
           851.8050345205479,
           1.3227717609987413,
           3450
          ],
          [
           7.6558904109589045,
           187.38557369863014,
           2.7912177285494475,
           3500
          ],
          [
           20.176712328767124,
           493.84521095890415,
           2.7912177285494475,
           3500
          ],
          [
           25.545205479452054,
           625.2444493150684,
           4.259663696100154,
           3550
          ],
          [
           24.778082191780822,
           606.4683397260275,
           4.993886679875507,
           3575
          ],
          [
           11.988219178082192,
           293.42365260273976,
           4.993886679875507,
           3575
          ],
          [
           30.6,
           748.9656,
           2.0569947447740944,
           3475
          ],
          [
           29.574246575342467,
           723.8592591780822,
           2.7912177285494475,
           3500
          ],
          [
           17.982739726027397,
           440.14553753424656,
           3.525440712324801,
           3525
          ],
          [
           22.380821917808223,
           547.792997260274,
           5.72810966365086,
           3600
          ],
          [
           6.362739726027398,
           155.73441753424657,
           3.525440712324801,
           3525
          ],
          [
           10.709041095890411,
           262.1144898630137,
           5.72810966365086,
           3600
          ],
          [
           26.87178082191781,
           657.7137073972604,
           3.525440712324801,
           3525
          ],
          [
           20.27890410958904,
           496.34645698630135,
           6.462332647426214,
           3625
          ],
          [
           15.767671232876713,
           385.92952109589044,
           4.259663696100154,
           3550
          ],
          [
           9.652328767123288,
           236.2503989041096,
           6.462332647426214,
           3625
          ],
          [
           24.766027397260274,
           606.1732865753424,
           4.259663696100154,
           3550
          ],
          [
           18.993972602739724,
           464.8964734246575,
           7.196555631201567,
           3650
          ],
          [
           14.384383561643837,
           352.0721720547946,
           4.993886679875507,
           3575
          ],
          [
           5.189041095890411,
           127.0069698630137,
           4.259663696100154,
           3550
          ],
          [
           18.061917808219178,
           442.08350027397256,
           7.93077861497692,
           3675
          ],
          [
           22.265753424657536,
           544.9765808219179,
           4.993886679875507,
           3575
          ],
          [
           8.568767123287671,
           209.72914410958904,
           7.196555631201567,
           3650
          ],
          [
           12.832328767123288,
           314.0840789041096,
           5.72810966365086,
           3600
          ],
          [
           16.0827397260274,
           393.6411375342466,
           8.665001598752273,
           3700
          ],
          [
           20.357260273972603,
           498.2643024657535,
           5.72810966365086,
           3600
          ],
          [
           7.640547945205479,
           187.0100515068493,
           7.93077861497692,
           3675
          ],
          [
           4.306849315068493,
           105.41444383561644,
           4.993886679875507,
           3575
          ],
          [
           11.81068493150685,
           289.07832438356166,
           6.462332647426214,
           3625
          ],
          [
           14.755616438356162,
           361.1584679452054,
           9.399224582527626,
           3725
          ],
          [
           18.157808219178083,
           444.4305139726028,
           6.462332647426214,
           3625
          ],
          [
           13.846575342465753,
           338.90877808219176,
           10.13344756630298,
           3750
          ],
          [
           10.671506849315069,
           261.19580164383564,
           7.196555631201567,
           3650
          ],
          [
           16.357808219178082,
           400.37371397260273,
           7.196555631201567,
           3650
          ],
          [
           6.326849315068493,
           154.85596383561645,
           8.665001598752273,
           3700
          ],
          [
           16.056986301369864,
           393.0107967123288,
           7.93077861497692,
           3675
          ],
          [
           9.725205479452054,
           238.03412931506847,
           7.93077861497692,
           3675
          ],
          [
           12.346849315068495,
           302.2014838356165,
           10.867670550078333,
           3775
          ],
          [
           3.5035616438356163,
           85.75317479452055,
           5.72810966365086,
           3600
          ],
          [
           5.845479452054795,
           143.07395506849315,
           9.399224582527626,
           3725
          ],
          [
           11.529863013698629,
           282.20492712328763,
           11.601893533853685,
           3800
          ],
          [
           14.75013698630137,
           361.0243528767123,
           8.665001598752273,
           3700
          ],
          [
           8.486575342465754,
           207.71741808219178,
           8.665001598752273,
           3700
          ],
          [
           10.444383561643836,
           255.63673205479452,
           12.336116517629039,
           3825
          ],
          [
           13.250958904109588,
           324.33047013698626,
           9.399224582527626,
           3725
          ],
          [
           7.751232876712328,
           189.71917589041095,
           9.399224582527626,
           3725
          ],
          [
           2.795616438356164,
           68.42550794520548,
           6.462332647426214,
           3625
          ],
          [
           4.876986301369864,
           119.36911671232879,
           10.13344756630298,
           3750
          ],
          [
           9.404931506849314,
           230.1951035616438,
           13.070339501404392,
           3850
          ],
          [
           11.850410958904112,
           290.05065863013704,
           10.13344756630298,
           3750
          ],
          [
           9.036712328767123,
           221.1825709589041,
           13.804562485179746,
           3875
          ],
          [
           6.988767123287672,
           171.05706410958905,
           10.13344756630298,
           3750
          ],
          [
           4.428219178082192,
           108.38509260273973,
           10.867670550078333,
           3775
          ],
          [
           10.947945205479453,
           267.9619068493151,
           10.867670550078333,
           3775
          ],
          [
           2.3857534246575343,
           58.39370082191781,
           7.196555631201567,
           3650
          ],
          [
           6.5336986301369855,
           159.91880767123286,
           10.867670550078333,
           3775
          ],
          [
           8.284931506849315,
           202.78198356164384,
           14.5387854689551,
           3900
          ],
          [
           3.8624657534246576,
           94.53771178082192,
           11.601893533853685,
           3800
          ],
          [
           7.617534246575342,
           186.44676821917807,
           15.273008452730451,
           3925
          ],
          [
           9.744657534246576,
           238.5102378082192,
           11.601893533853685,
           3800
          ],
          [
           5.852602739726028,
           143.24830465753425,
           11.601893533853685,
           3800
          ],
          [
           9.039452054794522,
           221.24962849315074,
           12.336116517629039,
           3825
          ],
          [
           3.505753424657534,
           85.80682082191781,
           12.336116517629039,
           3825
          ],
          [
           7.007671232876712,
           171.5197610958904,
           16.007231436505805,
           3950
          ],
          [
           5.412602739726027,
           132.47886465753422,
           12.336116517629039,
           3825
          ],
          [
           6.796712328767122,
           166.3563309589041,
           16.74145442028116,
           3975
          ],
          [
           1.9298630136986301,
           47.235327123287675,
           7.93077861497692,
           3675
          ],
          [
           6.259726027397261,
           153.21305424657538,
           17.475677404056512,
           4000
          ],
          [
           7.93972602739726,
           194.33273424657534,
           13.070339501404392,
           3850
          ],
          [
           4.7164383561643834,
           115.43954520547945,
           13.070339501404392,
           3850
          ],
          [
           5.853150684931507,
           143.26171616438359,
           18.94412337160722,
           4050
          ],
          [
           2.9112328767123286,
           71.25533589041095,
           13.804562485179746,
           3875
          ],
          [
           1.6427397260273973,
           40.20769753424658,
           8.665001598752273,
           3700
          ],
          [
           2.869041095890411,
           70.22264986301369,
           13.070339501404392,
           3850
          ],
          [
           4.451232876712329,
           108.94837589041096,
           14.5387854689551,
           3900
          ],
          [
           5.638356164383562,
           138.00440547945206,
           18.209900387831865,
           4025
          ],
          [
           7.126027397260274,
           174.41664657534247,
           14.5387854689551,
           3900
          ],
          [
           7.037260273972603,
           172.24398246575342,
           13.804562485179746,
           3875
          ],
          [
           4.237260273972603,
           103.71118246575342,
           13.804562485179746,
           3875
          ],
          [
           5.339178082191781,
           130.68172273972604,
           19.67834635538257,
           4075
          ],
          [
           4.056438356164383,
           99.28538520547944,
           15.273008452730451,
           3925
          ],
          [
           1.4706849315068495,
           35.99648438356165,
           9.399224582527626,
           3725
          ],
          [
           2.546849315068493,
           62.336683835616434,
           14.5387854689551,
           3900
          ],
          [
           2.4969863013698634,
           61.11623671232878,
           15.273008452730451,
           3925
          ],
          [
           4.970958904109589,
           121.6691901369863,
           21.146792322933276,
           4125
          ],
          [
           6.263013698630137,
           153.29352328767123,
           16.007231436505805,
           3950
          ],
          [
           4.852054794520548,
           118.75889315068493,
           20.412569339157923,
           4100
          ],
          [
           6.223561643835618,
           152.32789479452057,
           15.273008452730451,
           3925
          ],
          [
           3.776164383561644,
           92.4253994520548,
           16.74145442028116,
           3975
          ],
          [
           3.700821917808219,
           90.58131726027396,
           16.007231436505805,
           3950
          ],
          [
           4.595068493150685,
           112.46889643835617,
           21.88101530670863,
           4150
          ],
          [
           2.172876712328767,
           53.1833304109589,
           16.007231436505805,
           3950
          ],
          [
           3.414520547945205,
           83.57380493150684,
           17.475677404056512,
           4000
          ],
          [
           5.562739726027397,
           136.15361753424656,
           16.74145442028116,
           3975
          ],
          [
           4.246027397260274,
           103.92576657534246,
           22.615238290483983,
           4175
          ],
          [
           1.2032876712328766,
           29.451669041095887,
           10.13344756630298,
           3750
          ],
          [
           3.08,
           75.38608,
           18.209900387831865,
           4025
          ],
          [
           3.8164383561643835,
           93.41114520547946,
           24.083684258034687,
           4225
          ],
          [
           3.785753424657534,
           92.66010082191781,
           23.349461274259337,
           4200
          ],
          [
           4.862465753424657,
           119.01371178082191,
           17.475677404056512,
           4000
          ],
          [
           2.9383561643835616,
           71.91920547945205,
           18.94412337160722,
           4050
          ],
          [
           1.864109589041096,
           45.625946301369865,
           16.74145442028116,
           3975
          ],
          [
           1.0323287671232877,
           25.267278904109588,
           10.867670550078333,
           3775
          ],
          [
           3.5402739726027392,
           86.65174575342465,
           24.81790724181004,
           4250
          ],
          [
           4.527123287671233,
           110.80586958904111,
           18.209900387831865,
           4025
          ],
          [
           4.413698630136986,
           108.02968767123288,
           19.67834635538257,
           4075
          ],
          [
           1.7010958904109588,
           41.636023013698626,
           17.475677404056512,
           4000
          ],
          [
           2.6460273972602737,
           64.76416657534246,
           19.67834635538257,
           4075
          ],
          [
           3.2832876712328765,
           80.36174904109589,
           25.552130225585394,
           4275
          ],
          [
           4.157260273972603,
           101.75310246575343,
           18.94412337160722,
           4050
          ],
          [
           3.053150684931507,
           74.72891616438356,
           26.286353209360747,
           4300
          ],
          [
           3.9106849315068497,
           95.71792438356165,
           20.412569339157923,
           4100
          ],
          [
           0.8657534246575342,
           21.19018082191781,
           11.601893533853685,
           3800
          ],
          [
           2.3687671232876713,
           57.977944109589046,
           20.412569339157923,
           4100
          ],
          [
           1.5035616438356163,
           36.80117479452054,
           18.209900387831865,
           4025
          ],
          [
           2.8230136986301373,
           69.09608328767123,
           27.0205761931361,
           4325
          ],
          [
           2.1246575342465754,
           52.00311780821919,
           21.146792322933276,
           4125
          ],
          [
           3.4126027397260277,
           83.52686465753426,
           21.146792322933276,
           4125
          ],
          [
           1.323287671232877,
           32.3887890410959,
           18.94412337160722,
           4050
          ],
          [
           2.615890410958904,
           64.02653369863013,
           27.754799176911455,
           4350
          ],
          [
           2.42027397260274,
           59.238625753424664,
           29.22324514446216,
           4400
          ],
          [
           3.111780821917809,
           76.16394739726029,
           21.88101530670863,
           4150
          ],
          [
           1.8986301369863017,
           46.470871232876725,
           21.88101530670863,
           4150
          ],
          [
           2.4164383561643836,
           59.14474520547945,
           28.489022160686808,
           4375
          ],
          [
           1.8443835616438358,
           45.14313205479452,
           22.615238290483983,
           4175
          ],
          [
           1.166027397260274,
           28.539686575342465,
           19.67834635538257,
           4075
          ],
          [
           0.6597260273972603,
           16.147454246575343,
           12.336116517629039,
           3825
          ],
          [
           2.282191780821918,
           55.85892602739726,
           29.957468128237515,
           4425
          ],
          [
           2.90958904109589,
           71.21510136986299,
           22.615238290483983,
           4175
          ],
          [
           1.1046575342465752,
           27.037597808219175,
           20.412569339157923,
           4100
          ],
          [
           1.6967123287671235,
           41.52873095890412,
           23.349461274259337,
           4200
          ],
          [
           2.1402739726027398,
           52.38534575342466,
           30.69169111201287,
           4450
          ],
          [
           2.672876712328767,
           65.4213304109589,
           23.349461274259337,
           4200
          ],
          [
           2.0098630136986304,
           49.193407123287685,
           31.42591409578822,
           4475
          ],
          [
           0.9876712328767123,
           24.174241095890412,
           21.146792322933276,
           4125
          ],
          [
           1.5490410958904108,
           37.91432986301369,
           24.083684258034687,
           4225
          ],
          [
           0.5556164383561644,
           13.59926794520548,
           13.070339501404392,
           3850
          ],
          [
           2.455890410958904,
           60.11037369863013,
           24.083684258034687,
           4225
          ],
          [
           1.890958904109589,
           46.283110136986295,
           32.160137079563576,
           4500
          ],
          [
           1.4465753424657535,
           35.406378082191786,
           24.81790724181004,
           4250
          ],
          [
           1.7682191780821916,
           43.27893260273972,
           32.89436006333893,
           4525
          ],
          [
           2.258630136986301,
           55.282231232876704,
           24.81790724181004,
           4250
          ],
          [
           0.8726027397260274,
           21.357824657534245,
           21.88101530670863,
           4150
          ],
          [
           1.326027397260274,
           32.45584657534247,
           25.552130225585394,
           4275
          ],
          [
           1.6684931506849314,
           40.83803835616438,
           33.62858304711428,
           4550
          ],
          [
           2.076164383561644,
           50.8161994520548,
           25.552130225585394,
           4275
          ],
          [
           1.5610958904109589,
           38.20938301369863,
           34.36280603088963,
           4575
          ],
          [
           0.7786301369863013,
           19.05775123287671,
           22.615238290483983,
           4175
          ],
          [
           1.2054794520547945,
           29.50531506849315,
           26.286353209360747,
           4300
          ],
          [
           1.9627397260273975,
           48.04001753424658,
           27.0205761931361,
           4325
          ],
          [
           1.8986301369863015,
           46.47087123287672,
           26.286353209360747,
           4300
          ],
          [
           1.4728767123287672,
           36.05013041095891,
           35.83125199844034,
           4625
          ],
          [
           1.8345205479452056,
           44.901724931506855,
           27.754799176911455,
           4350
          ],
          [
           0.4054794520547945,
           9.92451506849315,
           13.804562485179746,
           3875
          ]
         ],
         "hovertemplate": "exercisedCoin=FDUSD<br>duration=%{x}<br>apr=%{y}<br>1000return=%{customdata[0]}<br>USDamt=%{customdata[1]}<br>Percent_to_strikeprice=%{customdata[2]}<br>strikePrice=%{customdata[3]}<extra></extra>",
         "legendgroup": "FDUSD",
         "marker": {
          "color": "#00cc96",
          "symbol": "circle"
         },
         "mode": "markers",
         "name": "FDUSD",
         "orientation": "v",
         "showlegend": true,
         "type": "scatter",
         "x": [
          7,
          7,
          4,
          7,
          4,
          7,
          14,
          7,
          14,
          11,
          4,
          14,
          14,
          11,
          7,
          18,
          11,
          7,
          14,
          18,
          4,
          11,
          14,
          14,
          7,
          18,
          18,
          11,
          14,
          4,
          7,
          18,
          14,
          11,
          7,
          18,
          14,
          11,
          4,
          14,
          18,
          7,
          11,
          14,
          18,
          7,
          4,
          11,
          14,
          18,
          14,
          11,
          18,
          7,
          18,
          11,
          14,
          4,
          7,
          14,
          18,
          11,
          14,
          18,
          11,
          4,
          7,
          14,
          18,
          14,
          11,
          7,
          18,
          4,
          11,
          14,
          7,
          14,
          18,
          11,
          18,
          7,
          14,
          11,
          14,
          4,
          14,
          18,
          11,
          14,
          7,
          4,
          7,
          11,
          14,
          18,
          18,
          11,
          14,
          11,
          4,
          7,
          7,
          14,
          18,
          14,
          18,
          11,
          11,
          14,
          7,
          11,
          18,
          14,
          4,
          11,
          14,
          14,
          18,
          11,
          7,
          4,
          14,
          18,
          18,
          7,
          11,
          14,
          18,
          14,
          18,
          4,
          11,
          7,
          14,
          11,
          18,
          7,
          14,
          14,
          18,
          11,
          14,
          11,
          7,
          4,
          14,
          18,
          7,
          11,
          14,
          18,
          14,
          7,
          11,
          4,
          18,
          14,
          11,
          14,
          18,
          7,
          11,
          14,
          18,
          14,
          7,
          11,
          18,
          18,
          14,
          18,
          4
         ],
         "xaxis": "x",
         "y": [
          1.3164,
          1.3164,
          1.2968,
          1.2243,
          1.0848,
          1.0679,
          1.0053,
          0.9219,
          0.9193,
          0.9048,
          0.8385,
          0.8385,
          0.8328,
          0.792,
          0.7915,
          0.7746,
          0.7625,
          0.7416,
          0.7364,
          0.7057,
          0.6986,
          0.6695,
          0.666,
          0.646,
          0.6251,
          0.6205,
          0.5997,
          0.5967,
          0.5835,
          0.5806,
          0.5584,
          0.5449,
          0.5287,
          0.5232,
          0.5033,
          0.5022,
          0.4952,
          0.4773,
          0.4735,
          0.4709,
          0.4515,
          0.4468,
          0.4258,
          0.4193,
          0.4128,
          0.3984,
          0.393,
          0.3919,
          0.3847,
          0.3682,
          0.361,
          0.3541,
          0.3317,
          0.3299,
          0.3256,
          0.3227,
          0.3219,
          0.3197,
          0.3048,
          0.3006,
          0.2991,
          0.2816,
          0.2723,
          0.2687,
          0.2572,
          0.2551,
          0.2543,
          0.2452,
          0.2403,
          0.2356,
          0.2319,
          0.2309,
          0.222,
          0.2177,
          0.2168,
          0.216,
          0.2014,
          0.1986,
          0.1976,
          0.1942,
          0.1833,
          0.1828,
          0.1827,
          0.1796,
          0.1772,
          0.1761,
          0.1632,
          0.161,
          0.1565,
          0.1526,
          0.1518,
          0.1499,
          0.1496,
          0.1477,
          0.147,
          0.1445,
          0.1427,
          0.1406,
          0.1392,
          0.1346,
          0.1342,
          0.1328,
          0.1302,
          0.1296,
          0.127,
          0.1265,
          0.1262,
          0.1253,
          0.1228,
          0.1198,
          0.1133,
          0.1133,
          0.1128,
          0.1107,
          0.1098,
          0.1022,
          0.0995,
          0.0987,
          0.0986,
          0.0975,
          0.0972,
          0.0942,
          0.0923,
          0.0918,
          0.0895,
          0.0887,
          0.0878,
          0.0856,
          0.0843,
          0.0796,
          0.0793,
          0.079,
          0.0786,
          0.0784,
          0.0736,
          0.0705,
          0.0692,
          0.069,
          0.0682,
          0.0631,
          0.0631,
          0.063,
          0.063,
          0.0612,
          0.0608,
          0.0602,
          0.0595,
          0.059,
          0.0576,
          0.0563,
          0.0558,
          0.0542,
          0.0524,
          0.0515,
          0.0514,
          0.0507,
          0.0498,
          0.0493,
          0.048,
          0.0461,
          0.0458,
          0.0455,
          0.044,
          0.0435,
          0.0421,
          0.0407,
          0.0406,
          0.04,
          0.0398,
          0.0385,
          0.0384,
          0.0372,
          0.037
         ],
         "yaxis": "y"
        }
       ],
       "layout": {
        "legend": {
         "title": {
          "text": "exercisedCoin"
         },
         "tracegroupgap": 0
        },
        "margin": {
         "t": 60
        },
        "template": {
         "data": {
          "bar": [
           {
            "error_x": {
             "color": "#2a3f5f"
            },
            "error_y": {
             "color": "#2a3f5f"
            },
            "marker": {
             "line": {
              "color": "#E5ECF6",
              "width": 0.5
             },
             "pattern": {
              "fillmode": "overlay",
              "size": 10,
              "solidity": 0.2
             }
            },
            "type": "bar"
           }
          ],
          "barpolar": [
           {
            "marker": {
             "line": {
              "color": "#E5ECF6",
              "width": 0.5
             },
             "pattern": {
              "fillmode": "overlay",
              "size": 10,
              "solidity": 0.2
             }
            },
            "type": "barpolar"
           }
          ],
          "carpet": [
           {
            "aaxis": {
             "endlinecolor": "#2a3f5f",
             "gridcolor": "white",
             "linecolor": "white",
             "minorgridcolor": "white",
             "startlinecolor": "#2a3f5f"
            },
            "baxis": {
             "endlinecolor": "#2a3f5f",
             "gridcolor": "white",
             "linecolor": "white",
             "minorgridcolor": "white",
             "startlinecolor": "#2a3f5f"
            },
            "type": "carpet"
           }
          ],
          "choropleth": [
           {
            "colorbar": {
             "outlinewidth": 0,
             "ticks": ""
            },
            "type": "choropleth"
           }
          ],
          "contour": [
           {
            "colorbar": {
             "outlinewidth": 0,
             "ticks": ""
            },
            "colorscale": [
             [
              0,
              "#0d0887"
             ],
             [
              0.1111111111111111,
              "#46039f"
             ],
             [
              0.2222222222222222,
              "#7201a8"
             ],
             [
              0.3333333333333333,
              "#9c179e"
             ],
             [
              0.4444444444444444,
              "#bd3786"
             ],
             [
              0.5555555555555556,
              "#d8576b"
             ],
             [
              0.6666666666666666,
              "#ed7953"
             ],
             [
              0.7777777777777778,
              "#fb9f3a"
             ],
             [
              0.8888888888888888,
              "#fdca26"
             ],
             [
              1,
              "#f0f921"
             ]
            ],
            "type": "contour"
           }
          ],
          "contourcarpet": [
           {
            "colorbar": {
             "outlinewidth": 0,
             "ticks": ""
            },
            "type": "contourcarpet"
           }
          ],
          "heatmap": [
           {
            "colorbar": {
             "outlinewidth": 0,
             "ticks": ""
            },
            "colorscale": [
             [
              0,
              "#0d0887"
             ],
             [
              0.1111111111111111,
              "#46039f"
             ],
             [
              0.2222222222222222,
              "#7201a8"
             ],
             [
              0.3333333333333333,
              "#9c179e"
             ],
             [
              0.4444444444444444,
              "#bd3786"
             ],
             [
              0.5555555555555556,
              "#d8576b"
             ],
             [
              0.6666666666666666,
              "#ed7953"
             ],
             [
              0.7777777777777778,
              "#fb9f3a"
             ],
             [
              0.8888888888888888,
              "#fdca26"
             ],
             [
              1,
              "#f0f921"
             ]
            ],
            "type": "heatmap"
           }
          ],
          "heatmapgl": [
           {
            "colorbar": {
             "outlinewidth": 0,
             "ticks": ""
            },
            "colorscale": [
             [
              0,
              "#0d0887"
             ],
             [
              0.1111111111111111,
              "#46039f"
             ],
             [
              0.2222222222222222,
              "#7201a8"
             ],
             [
              0.3333333333333333,
              "#9c179e"
             ],
             [
              0.4444444444444444,
              "#bd3786"
             ],
             [
              0.5555555555555556,
              "#d8576b"
             ],
             [
              0.6666666666666666,
              "#ed7953"
             ],
             [
              0.7777777777777778,
              "#fb9f3a"
             ],
             [
              0.8888888888888888,
              "#fdca26"
             ],
             [
              1,
              "#f0f921"
             ]
            ],
            "type": "heatmapgl"
           }
          ],
          "histogram": [
           {
            "marker": {
             "pattern": {
              "fillmode": "overlay",
              "size": 10,
              "solidity": 0.2
             }
            },
            "type": "histogram"
           }
          ],
          "histogram2d": [
           {
            "colorbar": {
             "outlinewidth": 0,
             "ticks": ""
            },
            "colorscale": [
             [
              0,
              "#0d0887"
             ],
             [
              0.1111111111111111,
              "#46039f"
             ],
             [
              0.2222222222222222,
              "#7201a8"
             ],
             [
              0.3333333333333333,
              "#9c179e"
             ],
             [
              0.4444444444444444,
              "#bd3786"
             ],
             [
              0.5555555555555556,
              "#d8576b"
             ],
             [
              0.6666666666666666,
              "#ed7953"
             ],
             [
              0.7777777777777778,
              "#fb9f3a"
             ],
             [
              0.8888888888888888,
              "#fdca26"
             ],
             [
              1,
              "#f0f921"
             ]
            ],
            "type": "histogram2d"
           }
          ],
          "histogram2dcontour": [
           {
            "colorbar": {
             "outlinewidth": 0,
             "ticks": ""
            },
            "colorscale": [
             [
              0,
              "#0d0887"
             ],
             [
              0.1111111111111111,
              "#46039f"
             ],
             [
              0.2222222222222222,
              "#7201a8"
             ],
             [
              0.3333333333333333,
              "#9c179e"
             ],
             [
              0.4444444444444444,
              "#bd3786"
             ],
             [
              0.5555555555555556,
              "#d8576b"
             ],
             [
              0.6666666666666666,
              "#ed7953"
             ],
             [
              0.7777777777777778,
              "#fb9f3a"
             ],
             [
              0.8888888888888888,
              "#fdca26"
             ],
             [
              1,
              "#f0f921"
             ]
            ],
            "type": "histogram2dcontour"
           }
          ],
          "mesh3d": [
           {
            "colorbar": {
             "outlinewidth": 0,
             "ticks": ""
            },
            "type": "mesh3d"
           }
          ],
          "parcoords": [
           {
            "line": {
             "colorbar": {
              "outlinewidth": 0,
              "ticks": ""
             }
            },
            "type": "parcoords"
           }
          ],
          "pie": [
           {
            "automargin": true,
            "type": "pie"
           }
          ],
          "scatter": [
           {
            "fillpattern": {
             "fillmode": "overlay",
             "size": 10,
             "solidity": 0.2
            },
            "type": "scatter"
           }
          ],
          "scatter3d": [
           {
            "line": {
             "colorbar": {
              "outlinewidth": 0,
              "ticks": ""
             }
            },
            "marker": {
             "colorbar": {
              "outlinewidth": 0,
              "ticks": ""
             }
            },
            "type": "scatter3d"
           }
          ],
          "scattercarpet": [
           {
            "marker": {
             "colorbar": {
              "outlinewidth": 0,
              "ticks": ""
             }
            },
            "type": "scattercarpet"
           }
          ],
          "scattergeo": [
           {
            "marker": {
             "colorbar": {
              "outlinewidth": 0,
              "ticks": ""
             }
            },
            "type": "scattergeo"
           }
          ],
          "scattergl": [
           {
            "marker": {
             "colorbar": {
              "outlinewidth": 0,
              "ticks": ""
             }
            },
            "type": "scattergl"
           }
          ],
          "scattermapbox": [
           {
            "marker": {
             "colorbar": {
              "outlinewidth": 0,
              "ticks": ""
             }
            },
            "type": "scattermapbox"
           }
          ],
          "scatterpolar": [
           {
            "marker": {
             "colorbar": {
              "outlinewidth": 0,
              "ticks": ""
             }
            },
            "type": "scatterpolar"
           }
          ],
          "scatterpolargl": [
           {
            "marker": {
             "colorbar": {
              "outlinewidth": 0,
              "ticks": ""
             }
            },
            "type": "scatterpolargl"
           }
          ],
          "scatterternary": [
           {
            "marker": {
             "colorbar": {
              "outlinewidth": 0,
              "ticks": ""
             }
            },
            "type": "scatterternary"
           }
          ],
          "surface": [
           {
            "colorbar": {
             "outlinewidth": 0,
             "ticks": ""
            },
            "colorscale": [
             [
              0,
              "#0d0887"
             ],
             [
              0.1111111111111111,
              "#46039f"
             ],
             [
              0.2222222222222222,
              "#7201a8"
             ],
             [
              0.3333333333333333,
              "#9c179e"
             ],
             [
              0.4444444444444444,
              "#bd3786"
             ],
             [
              0.5555555555555556,
              "#d8576b"
             ],
             [
              0.6666666666666666,
              "#ed7953"
             ],
             [
              0.7777777777777778,
              "#fb9f3a"
             ],
             [
              0.8888888888888888,
              "#fdca26"
             ],
             [
              1,
              "#f0f921"
             ]
            ],
            "type": "surface"
           }
          ],
          "table": [
           {
            "cells": {
             "fill": {
              "color": "#EBF0F8"
             },
             "line": {
              "color": "white"
             }
            },
            "header": {
             "fill": {
              "color": "#C8D4E3"
             },
             "line": {
              "color": "white"
             }
            },
            "type": "table"
           }
          ]
         },
         "layout": {
          "annotationdefaults": {
           "arrowcolor": "#2a3f5f",
           "arrowhead": 0,
           "arrowwidth": 1
          },
          "autotypenumbers": "strict",
          "coloraxis": {
           "colorbar": {
            "outlinewidth": 0,
            "ticks": ""
           }
          },
          "colorscale": {
           "diverging": [
            [
             0,
             "#8e0152"
            ],
            [
             0.1,
             "#c51b7d"
            ],
            [
             0.2,
             "#de77ae"
            ],
            [
             0.3,
             "#f1b6da"
            ],
            [
             0.4,
             "#fde0ef"
            ],
            [
             0.5,
             "#f7f7f7"
            ],
            [
             0.6,
             "#e6f5d0"
            ],
            [
             0.7,
             "#b8e186"
            ],
            [
             0.8,
             "#7fbc41"
            ],
            [
             0.9,
             "#4d9221"
            ],
            [
             1,
             "#276419"
            ]
           ],
           "sequential": [
            [
             0,
             "#0d0887"
            ],
            [
             0.1111111111111111,
             "#46039f"
            ],
            [
             0.2222222222222222,
             "#7201a8"
            ],
            [
             0.3333333333333333,
             "#9c179e"
            ],
            [
             0.4444444444444444,
             "#bd3786"
            ],
            [
             0.5555555555555556,
             "#d8576b"
            ],
            [
             0.6666666666666666,
             "#ed7953"
            ],
            [
             0.7777777777777778,
             "#fb9f3a"
            ],
            [
             0.8888888888888888,
             "#fdca26"
            ],
            [
             1,
             "#f0f921"
            ]
           ],
           "sequentialminus": [
            [
             0,
             "#0d0887"
            ],
            [
             0.1111111111111111,
             "#46039f"
            ],
            [
             0.2222222222222222,
             "#7201a8"
            ],
            [
             0.3333333333333333,
             "#9c179e"
            ],
            [
             0.4444444444444444,
             "#bd3786"
            ],
            [
             0.5555555555555556,
             "#d8576b"
            ],
            [
             0.6666666666666666,
             "#ed7953"
            ],
            [
             0.7777777777777778,
             "#fb9f3a"
            ],
            [
             0.8888888888888888,
             "#fdca26"
            ],
            [
             1,
             "#f0f921"
            ]
           ]
          },
          "colorway": [
           "#636efa",
           "#EF553B",
           "#00cc96",
           "#ab63fa",
           "#FFA15A",
           "#19d3f3",
           "#FF6692",
           "#B6E880",
           "#FF97FF",
           "#FECB52"
          ],
          "font": {
           "color": "#2a3f5f"
          },
          "geo": {
           "bgcolor": "white",
           "lakecolor": "white",
           "landcolor": "#E5ECF6",
           "showlakes": true,
           "showland": true,
           "subunitcolor": "white"
          },
          "hoverlabel": {
           "align": "left"
          },
          "hovermode": "closest",
          "mapbox": {
           "style": "light"
          },
          "paper_bgcolor": "white",
          "plot_bgcolor": "#E5ECF6",
          "polar": {
           "angularaxis": {
            "gridcolor": "white",
            "linecolor": "white",
            "ticks": ""
           },
           "bgcolor": "#E5ECF6",
           "radialaxis": {
            "gridcolor": "white",
            "linecolor": "white",
            "ticks": ""
           }
          },
          "scene": {
           "xaxis": {
            "backgroundcolor": "#E5ECF6",
            "gridcolor": "white",
            "gridwidth": 2,
            "linecolor": "white",
            "showbackground": true,
            "ticks": "",
            "zerolinecolor": "white"
           },
           "yaxis": {
            "backgroundcolor": "#E5ECF6",
            "gridcolor": "white",
            "gridwidth": 2,
            "linecolor": "white",
            "showbackground": true,
            "ticks": "",
            "zerolinecolor": "white"
           },
           "zaxis": {
            "backgroundcolor": "#E5ECF6",
            "gridcolor": "white",
            "gridwidth": 2,
            "linecolor": "white",
            "showbackground": true,
            "ticks": "",
            "zerolinecolor": "white"
           }
          },
          "shapedefaults": {
           "line": {
            "color": "#2a3f5f"
           }
          },
          "ternary": {
           "aaxis": {
            "gridcolor": "white",
            "linecolor": "white",
            "ticks": ""
           },
           "baxis": {
            "gridcolor": "white",
            "linecolor": "white",
            "ticks": ""
           },
           "bgcolor": "#E5ECF6",
           "caxis": {
            "gridcolor": "white",
            "linecolor": "white",
            "ticks": ""
           }
          },
          "title": {
           "x": 0.05
          },
          "xaxis": {
           "automargin": true,
           "gridcolor": "white",
           "linecolor": "white",
           "ticks": "",
           "title": {
            "standoff": 15
           },
           "zerolinecolor": "white",
           "zerolinewidth": 2
          },
          "yaxis": {
           "automargin": true,
           "gridcolor": "white",
           "linecolor": "white",
           "ticks": "",
           "title": {
            "standoff": 15
           },
           "zerolinecolor": "white",
           "zerolinewidth": 2
          }
         }
        },
        "xaxis": {
         "anchor": "y",
         "domain": [
          0,
          1
         ],
         "title": {
          "text": "duration"
         }
        },
        "yaxis": {
         "anchor": "x",
         "domain": [
          0,
          1
         ],
         "title": {
          "text": "apr"
         }
        }
       }
      }
     },
     "metadata": {},
     "output_type": "display_data"
    }
   ],
   "source": [
    "df_copy = df\n",
    "\n",
    "# df_copy = df[df[\"strikePrice\"]>=2200]\n",
    "df_copy = df_copy[df_copy[\"duration\"]<=20]\n",
    "# df_copy = df_copy[df_copy[\"apr\"]>=0.2]\n",
    "\n",
    "# BTC_Buy_limit = 93000\n",
    "# ETH_Buy_limit = 2900\n",
    "# SOL_Buy_limit = 140\n",
    "\n",
    "\n",
    "# BTC_Sell_limit = 99000\n",
    "# BTC_Sell_limit_2 = 108000\n",
    "# ETH_Sell_limit = 2400\n",
    "# SOL_Sell_limit = 140\n",
    "\n",
    "# BTC\n",
    "# df_copy = df_copy[(df_copy[\"strikePrice\"]<=BTC_Buy_limit)]\n",
    "# df_copy = df_copy[(df_copy[\"strikePrice\"]>=BTC_Sell_limit)]\n",
    "# df_copy = df_copy[(df_copy[\"strikePrice\"]<=BTC_Sell_limit_2)]\n",
    "# df_copy = df_copy[df_copy[\"strikePrice\"]>=55000 ]\n",
    "\n",
    "# ETH\n",
    "# df_copy = df_copy[(df_copy[\"strikePrice\"]<=ETH_Buy_limit) ]\n",
    "# df_copy = df_copy[df_copy[\"strikePrice\"]>=2150 ]\n",
    "\n",
    "\n",
    "# SOL\n",
    "# df_copy = df_copy[(df_copy[\"strikePrice\"]<=SOL_Buy_limit) & (df_copy[\"exercisedCoin\"]==\"SOL\")]\n",
    "# df_copy = df_copy[df_copy[\"strikePrice\"]>=2150 ]\n",
    "\n",
    "#resultant\n",
    "# df_copy = df_copy[(df_copy[\"strikePrice\"]<=SOL_Buy_limit) & (df_copy[\"exercisedCoin\"]==\"SOL\") or (df_copy[\"strikePrice\"]<=ETH_Buy_limit) & (df_copy[\"exercisedCoin\"]==\"ETH\") or (df_copy[\"strikePrice\"]<=BTC_Buy_limit) & (df_copy[\"exercisedCoin\"]==\"BTC\")]\n",
    "\n",
    "\n",
    "\n",
    "if Direction==\"CALL\":\n",
    "    fig = px.scatter(df_copy, x=\"duration\", y=\"apr\", color='exercisedCoin', hover_data=[\"1000return\", \"USDamt\", \"Percent_to_strikeprice\", \"strikePrice\"])\n",
    "else:\n",
    "    fig = px.scatter(df_copy, x=\"duration\", y=\"apr\", color='investCoin', hover_data=[\"1000return\", \"USDamt\", \"Percent_to_strikeprice\", \"strikePrice\"])\n",
    "fig.show()"
   ]
  },
  {
   "cell_type": "code",
   "execution_count": 19,
   "metadata": {},
   "outputs": [
    {
     "data": {
      "application/vnd.plotly.v1+json": {
       "config": {
        "plotlyServerURL": "https://plot.ly"
       },
       "data": [
        {
         "customdata": [
          [
           13.311780821917806,
           325.81914739726017,
           0.588548777223388
          ],
          [
           11.68876712328767,
           286.09426410958906,
           1.3227717609987413
          ],
          [
           9.355616438356165,
           228.9880679452055,
           2.0569947447740944
          ],
          [
           7.396164383561644,
           181.0285194520548,
           2.7912177285494475
          ],
          [
           6.314520547945206,
           154.55420493150686,
           3.525440712324801
          ],
          [
           5.2306849315068495,
           128.02624438356165,
           4.259663696100154
          ],
          [
           4.252054794520548,
           104.07329315068495,
           4.993886679875507
          ],
          [
           3.495890410958904,
           85.56541369863012,
           5.72810966365086
          ],
          [
           2.846027397260274,
           69.65936657534246,
           6.462332647426214
          ],
          [
           2.431780821917808,
           59.52026739726026,
           7.196555631201567
          ],
          [
           1.9473972602739724,
           47.66449534246575,
           7.93077861497692
          ],
          [
           1.6734246575342464,
           40.95874191780821,
           8.665001598752273
          ],
          [
           1.3326027397260274,
           32.61678465753425,
           9.399224582527626
          ],
          [
           1.2153424657534246,
           29.74672219178082,
           10.13344756630298
          ],
          [
           1.0619178082191782,
           25.99150027397261,
           10.867670550078333
          ],
          [
           0.8723287671232878,
           21.351118904109594,
           11.601893533853685
          ],
          [
           0.673972602739726,
           16.496153424657535,
           12.336116517629039
          ],
          [
           0.561095890410959,
           13.733383013698633,
           13.070339501404392
          ],
          [
           0.4098630136986302,
           10.031807123287674,
           13.804562485179746
          ]
         ],
         "hovertemplate": "exercisedCoin=USDC<br>strikePrice=%{x}<br>apr=%{y}<br>1000return=%{customdata[0]}<br>USDamt=%{customdata[1]}<br>Percent_to_strikeprice=%{customdata[2]}<extra></extra>",
         "legendgroup": "USDC",
         "line": {
          "color": "#636efa",
          "dash": "solid"
         },
         "marker": {
          "symbol": "circle"
         },
         "mode": "lines+markers",
         "name": "USDC",
         "orientation": "v",
         "showlegend": true,
         "type": "scatter",
         "x": [
          3425,
          3450,
          3475,
          3500,
          3525,
          3550,
          3575,
          3600,
          3625,
          3650,
          3675,
          3700,
          3725,
          3750,
          3775,
          3800,
          3825,
          3850,
          3875
         ],
         "xaxis": "x",
         "y": [
          1.2147,
          1.0666,
          0.8537,
          0.6749,
          0.5762,
          0.4773,
          0.388,
          0.319,
          0.2597,
          0.2219,
          0.1777,
          0.1527,
          0.1216,
          0.1109,
          0.0969,
          0.0796,
          0.0615,
          0.0512,
          0.0374
         ],
         "yaxis": "y"
        },
        {
         "customdata": [
          [
           14.712328767123287,
           360.09895890410957,
           0.588548777223388
          ],
          [
           14.712328767123287,
           360.09895890410957,
           0.588548777223388
          ],
          [
           10.499726027397259,
           256.9912942465753,
           1.3227717609987413
          ],
          [
           9.423561643835615,
           230.65109479452053,
           2.0569947447740944
          ],
          [
           7.562739726027398,
           185.1056175342466,
           2.7912177285494475
          ],
          [
           6.497534246575342,
           159.03364821917808,
           3.525440712324801
          ],
          [
           5.31945205479452,
           130.19890849315067,
           4.259663696100154
          ],
          [
           4.2345205479452055,
           103.64412493150685,
           4.993886679875507
          ],
          [
           3.5298630136986304,
           86.39692712328768,
           5.72810966365086
          ],
          [
           2.972054794520548,
           72.74401315068494,
           6.462332647426214
          ],
          [
           2.5424657534246577,
           62.22939178082193,
           7.196555631201567
          ],
          [
           2.035068493150685,
           49.81033643835617,
           7.93077861497692
          ],
          [
           1.7490410958904108,
           42.809529863013694,
           8.665001598752273
          ],
          [
           1.4005479452054794,
           34.27981150684931,
           9.399224582527626
          ],
          [
           1.2734246575342465,
           31.168341917808217,
           10.13344756630298
          ],
          [
           1.0553424657534247,
           25.830562191780825,
           10.867670550078333
          ],
          [
           0.9128767123287671,
           22.343570410958904,
           11.601893533853685
          ],
          [
           0.7090410958904109,
           17.354489863013697,
           12.336116517629039
          ],
          [
           0.5917808219178082,
           14.484427397260275,
           13.070339501404392
          ],
          [
           0.4350684931506849,
           10.648736438356163,
           13.804562485179746
          ]
         ],
         "hovertemplate": "exercisedCoin=USDT<br>strikePrice=%{x}<br>apr=%{y}<br>1000return=%{customdata[0]}<br>USDamt=%{customdata[1]}<br>Percent_to_strikeprice=%{customdata[2]}<extra></extra>",
         "legendgroup": "USDT",
         "line": {
          "color": "#EF553B",
          "dash": "solid"
         },
         "marker": {
          "symbol": "circle"
         },
         "mode": "lines+markers",
         "name": "USDT",
         "orientation": "v",
         "showlegend": true,
         "type": "scatter",
         "x": [
          3425,
          3425,
          3450,
          3475,
          3500,
          3525,
          3550,
          3575,
          3600,
          3625,
          3650,
          3675,
          3700,
          3725,
          3750,
          3775,
          3800,
          3825,
          3850,
          3875
         ],
         "xaxis": "x",
         "y": [
          1.3425,
          1.3425,
          0.9581,
          0.8599,
          0.6901,
          0.5929,
          0.4854,
          0.3864,
          0.3221,
          0.2712,
          0.232,
          0.1857,
          0.1596,
          0.1278,
          0.1162,
          0.0963,
          0.0833,
          0.0647,
          0.054,
          0.0397
         ],
         "yaxis": "y"
        },
        {
         "customdata": [
          [
           14.211506849315068,
           347.8408416438356,
           0.588548777223388
          ],
          [
           11.888219178082192,
           290.97605260273974,
           1.3227717609987413
          ],
          [
           9.189041095890412,
           224.91096986301372,
           2.0569947447740944
          ],
          [
           7.6558904109589045,
           187.38557369863014,
           2.7912177285494475
          ],
          [
           6.362739726027398,
           155.73441753424657,
           3.525440712324801
          ],
          [
           5.189041095890411,
           127.0069698630137,
           4.259663696100154
          ],
          [
           4.306849315068493,
           105.41444383561644,
           4.993886679875507
          ],
          [
           3.5035616438356163,
           85.75317479452055,
           5.72810966365086
          ],
          [
           2.795616438356164,
           68.42550794520548,
           6.462332647426214
          ],
          [
           2.3857534246575343,
           58.39370082191781,
           7.196555631201567
          ],
          [
           1.9298630136986301,
           47.235327123287675,
           7.93077861497692
          ],
          [
           1.6427397260273973,
           40.20769753424658,
           8.665001598752273
          ],
          [
           1.4706849315068495,
           35.99648438356165,
           9.399224582527626
          ],
          [
           1.2032876712328766,
           29.451669041095887,
           10.13344756630298
          ],
          [
           1.0323287671232877,
           25.267278904109588,
           10.867670550078333
          ],
          [
           0.8657534246575342,
           21.19018082191781,
           11.601893533853685
          ],
          [
           0.6597260273972603,
           16.147454246575343,
           12.336116517629039
          ],
          [
           0.5556164383561644,
           13.59926794520548,
           13.070339501404392
          ],
          [
           0.4054794520547945,
           9.92451506849315,
           13.804562485179746
          ]
         ],
         "hovertemplate": "exercisedCoin=FDUSD<br>strikePrice=%{x}<br>apr=%{y}<br>1000return=%{customdata[0]}<br>USDamt=%{customdata[1]}<br>Percent_to_strikeprice=%{customdata[2]}<extra></extra>",
         "legendgroup": "FDUSD",
         "line": {
          "color": "#00cc96",
          "dash": "solid"
         },
         "marker": {
          "symbol": "circle"
         },
         "mode": "lines+markers",
         "name": "FDUSD",
         "orientation": "v",
         "showlegend": true,
         "type": "scatter",
         "x": [
          3425,
          3450,
          3475,
          3500,
          3525,
          3550,
          3575,
          3600,
          3625,
          3650,
          3675,
          3700,
          3725,
          3750,
          3775,
          3800,
          3825,
          3850,
          3875
         ],
         "xaxis": "x",
         "y": [
          1.2968,
          1.0848,
          0.8385,
          0.6986,
          0.5806,
          0.4735,
          0.393,
          0.3197,
          0.2551,
          0.2177,
          0.1761,
          0.1499,
          0.1342,
          0.1098,
          0.0942,
          0.079,
          0.0602,
          0.0507,
          0.037
         ],
         "yaxis": "y"
        }
       ],
       "layout": {
        "legend": {
         "title": {
          "text": "exercisedCoin"
         },
         "tracegroupgap": 0
        },
        "margin": {
         "t": 60
        },
        "template": {
         "data": {
          "bar": [
           {
            "error_x": {
             "color": "#2a3f5f"
            },
            "error_y": {
             "color": "#2a3f5f"
            },
            "marker": {
             "line": {
              "color": "#E5ECF6",
              "width": 0.5
             },
             "pattern": {
              "fillmode": "overlay",
              "size": 10,
              "solidity": 0.2
             }
            },
            "type": "bar"
           }
          ],
          "barpolar": [
           {
            "marker": {
             "line": {
              "color": "#E5ECF6",
              "width": 0.5
             },
             "pattern": {
              "fillmode": "overlay",
              "size": 10,
              "solidity": 0.2
             }
            },
            "type": "barpolar"
           }
          ],
          "carpet": [
           {
            "aaxis": {
             "endlinecolor": "#2a3f5f",
             "gridcolor": "white",
             "linecolor": "white",
             "minorgridcolor": "white",
             "startlinecolor": "#2a3f5f"
            },
            "baxis": {
             "endlinecolor": "#2a3f5f",
             "gridcolor": "white",
             "linecolor": "white",
             "minorgridcolor": "white",
             "startlinecolor": "#2a3f5f"
            },
            "type": "carpet"
           }
          ],
          "choropleth": [
           {
            "colorbar": {
             "outlinewidth": 0,
             "ticks": ""
            },
            "type": "choropleth"
           }
          ],
          "contour": [
           {
            "colorbar": {
             "outlinewidth": 0,
             "ticks": ""
            },
            "colorscale": [
             [
              0,
              "#0d0887"
             ],
             [
              0.1111111111111111,
              "#46039f"
             ],
             [
              0.2222222222222222,
              "#7201a8"
             ],
             [
              0.3333333333333333,
              "#9c179e"
             ],
             [
              0.4444444444444444,
              "#bd3786"
             ],
             [
              0.5555555555555556,
              "#d8576b"
             ],
             [
              0.6666666666666666,
              "#ed7953"
             ],
             [
              0.7777777777777778,
              "#fb9f3a"
             ],
             [
              0.8888888888888888,
              "#fdca26"
             ],
             [
              1,
              "#f0f921"
             ]
            ],
            "type": "contour"
           }
          ],
          "contourcarpet": [
           {
            "colorbar": {
             "outlinewidth": 0,
             "ticks": ""
            },
            "type": "contourcarpet"
           }
          ],
          "heatmap": [
           {
            "colorbar": {
             "outlinewidth": 0,
             "ticks": ""
            },
            "colorscale": [
             [
              0,
              "#0d0887"
             ],
             [
              0.1111111111111111,
              "#46039f"
             ],
             [
              0.2222222222222222,
              "#7201a8"
             ],
             [
              0.3333333333333333,
              "#9c179e"
             ],
             [
              0.4444444444444444,
              "#bd3786"
             ],
             [
              0.5555555555555556,
              "#d8576b"
             ],
             [
              0.6666666666666666,
              "#ed7953"
             ],
             [
              0.7777777777777778,
              "#fb9f3a"
             ],
             [
              0.8888888888888888,
              "#fdca26"
             ],
             [
              1,
              "#f0f921"
             ]
            ],
            "type": "heatmap"
           }
          ],
          "heatmapgl": [
           {
            "colorbar": {
             "outlinewidth": 0,
             "ticks": ""
            },
            "colorscale": [
             [
              0,
              "#0d0887"
             ],
             [
              0.1111111111111111,
              "#46039f"
             ],
             [
              0.2222222222222222,
              "#7201a8"
             ],
             [
              0.3333333333333333,
              "#9c179e"
             ],
             [
              0.4444444444444444,
              "#bd3786"
             ],
             [
              0.5555555555555556,
              "#d8576b"
             ],
             [
              0.6666666666666666,
              "#ed7953"
             ],
             [
              0.7777777777777778,
              "#fb9f3a"
             ],
             [
              0.8888888888888888,
              "#fdca26"
             ],
             [
              1,
              "#f0f921"
             ]
            ],
            "type": "heatmapgl"
           }
          ],
          "histogram": [
           {
            "marker": {
             "pattern": {
              "fillmode": "overlay",
              "size": 10,
              "solidity": 0.2
             }
            },
            "type": "histogram"
           }
          ],
          "histogram2d": [
           {
            "colorbar": {
             "outlinewidth": 0,
             "ticks": ""
            },
            "colorscale": [
             [
              0,
              "#0d0887"
             ],
             [
              0.1111111111111111,
              "#46039f"
             ],
             [
              0.2222222222222222,
              "#7201a8"
             ],
             [
              0.3333333333333333,
              "#9c179e"
             ],
             [
              0.4444444444444444,
              "#bd3786"
             ],
             [
              0.5555555555555556,
              "#d8576b"
             ],
             [
              0.6666666666666666,
              "#ed7953"
             ],
             [
              0.7777777777777778,
              "#fb9f3a"
             ],
             [
              0.8888888888888888,
              "#fdca26"
             ],
             [
              1,
              "#f0f921"
             ]
            ],
            "type": "histogram2d"
           }
          ],
          "histogram2dcontour": [
           {
            "colorbar": {
             "outlinewidth": 0,
             "ticks": ""
            },
            "colorscale": [
             [
              0,
              "#0d0887"
             ],
             [
              0.1111111111111111,
              "#46039f"
             ],
             [
              0.2222222222222222,
              "#7201a8"
             ],
             [
              0.3333333333333333,
              "#9c179e"
             ],
             [
              0.4444444444444444,
              "#bd3786"
             ],
             [
              0.5555555555555556,
              "#d8576b"
             ],
             [
              0.6666666666666666,
              "#ed7953"
             ],
             [
              0.7777777777777778,
              "#fb9f3a"
             ],
             [
              0.8888888888888888,
              "#fdca26"
             ],
             [
              1,
              "#f0f921"
             ]
            ],
            "type": "histogram2dcontour"
           }
          ],
          "mesh3d": [
           {
            "colorbar": {
             "outlinewidth": 0,
             "ticks": ""
            },
            "type": "mesh3d"
           }
          ],
          "parcoords": [
           {
            "line": {
             "colorbar": {
              "outlinewidth": 0,
              "ticks": ""
             }
            },
            "type": "parcoords"
           }
          ],
          "pie": [
           {
            "automargin": true,
            "type": "pie"
           }
          ],
          "scatter": [
           {
            "fillpattern": {
             "fillmode": "overlay",
             "size": 10,
             "solidity": 0.2
            },
            "type": "scatter"
           }
          ],
          "scatter3d": [
           {
            "line": {
             "colorbar": {
              "outlinewidth": 0,
              "ticks": ""
             }
            },
            "marker": {
             "colorbar": {
              "outlinewidth": 0,
              "ticks": ""
             }
            },
            "type": "scatter3d"
           }
          ],
          "scattercarpet": [
           {
            "marker": {
             "colorbar": {
              "outlinewidth": 0,
              "ticks": ""
             }
            },
            "type": "scattercarpet"
           }
          ],
          "scattergeo": [
           {
            "marker": {
             "colorbar": {
              "outlinewidth": 0,
              "ticks": ""
             }
            },
            "type": "scattergeo"
           }
          ],
          "scattergl": [
           {
            "marker": {
             "colorbar": {
              "outlinewidth": 0,
              "ticks": ""
             }
            },
            "type": "scattergl"
           }
          ],
          "scattermapbox": [
           {
            "marker": {
             "colorbar": {
              "outlinewidth": 0,
              "ticks": ""
             }
            },
            "type": "scattermapbox"
           }
          ],
          "scatterpolar": [
           {
            "marker": {
             "colorbar": {
              "outlinewidth": 0,
              "ticks": ""
             }
            },
            "type": "scatterpolar"
           }
          ],
          "scatterpolargl": [
           {
            "marker": {
             "colorbar": {
              "outlinewidth": 0,
              "ticks": ""
             }
            },
            "type": "scatterpolargl"
           }
          ],
          "scatterternary": [
           {
            "marker": {
             "colorbar": {
              "outlinewidth": 0,
              "ticks": ""
             }
            },
            "type": "scatterternary"
           }
          ],
          "surface": [
           {
            "colorbar": {
             "outlinewidth": 0,
             "ticks": ""
            },
            "colorscale": [
             [
              0,
              "#0d0887"
             ],
             [
              0.1111111111111111,
              "#46039f"
             ],
             [
              0.2222222222222222,
              "#7201a8"
             ],
             [
              0.3333333333333333,
              "#9c179e"
             ],
             [
              0.4444444444444444,
              "#bd3786"
             ],
             [
              0.5555555555555556,
              "#d8576b"
             ],
             [
              0.6666666666666666,
              "#ed7953"
             ],
             [
              0.7777777777777778,
              "#fb9f3a"
             ],
             [
              0.8888888888888888,
              "#fdca26"
             ],
             [
              1,
              "#f0f921"
             ]
            ],
            "type": "surface"
           }
          ],
          "table": [
           {
            "cells": {
             "fill": {
              "color": "#EBF0F8"
             },
             "line": {
              "color": "white"
             }
            },
            "header": {
             "fill": {
              "color": "#C8D4E3"
             },
             "line": {
              "color": "white"
             }
            },
            "type": "table"
           }
          ]
         },
         "layout": {
          "annotationdefaults": {
           "arrowcolor": "#2a3f5f",
           "arrowhead": 0,
           "arrowwidth": 1
          },
          "autotypenumbers": "strict",
          "coloraxis": {
           "colorbar": {
            "outlinewidth": 0,
            "ticks": ""
           }
          },
          "colorscale": {
           "diverging": [
            [
             0,
             "#8e0152"
            ],
            [
             0.1,
             "#c51b7d"
            ],
            [
             0.2,
             "#de77ae"
            ],
            [
             0.3,
             "#f1b6da"
            ],
            [
             0.4,
             "#fde0ef"
            ],
            [
             0.5,
             "#f7f7f7"
            ],
            [
             0.6,
             "#e6f5d0"
            ],
            [
             0.7,
             "#b8e186"
            ],
            [
             0.8,
             "#7fbc41"
            ],
            [
             0.9,
             "#4d9221"
            ],
            [
             1,
             "#276419"
            ]
           ],
           "sequential": [
            [
             0,
             "#0d0887"
            ],
            [
             0.1111111111111111,
             "#46039f"
            ],
            [
             0.2222222222222222,
             "#7201a8"
            ],
            [
             0.3333333333333333,
             "#9c179e"
            ],
            [
             0.4444444444444444,
             "#bd3786"
            ],
            [
             0.5555555555555556,
             "#d8576b"
            ],
            [
             0.6666666666666666,
             "#ed7953"
            ],
            [
             0.7777777777777778,
             "#fb9f3a"
            ],
            [
             0.8888888888888888,
             "#fdca26"
            ],
            [
             1,
             "#f0f921"
            ]
           ],
           "sequentialminus": [
            [
             0,
             "#0d0887"
            ],
            [
             0.1111111111111111,
             "#46039f"
            ],
            [
             0.2222222222222222,
             "#7201a8"
            ],
            [
             0.3333333333333333,
             "#9c179e"
            ],
            [
             0.4444444444444444,
             "#bd3786"
            ],
            [
             0.5555555555555556,
             "#d8576b"
            ],
            [
             0.6666666666666666,
             "#ed7953"
            ],
            [
             0.7777777777777778,
             "#fb9f3a"
            ],
            [
             0.8888888888888888,
             "#fdca26"
            ],
            [
             1,
             "#f0f921"
            ]
           ]
          },
          "colorway": [
           "#636efa",
           "#EF553B",
           "#00cc96",
           "#ab63fa",
           "#FFA15A",
           "#19d3f3",
           "#FF6692",
           "#B6E880",
           "#FF97FF",
           "#FECB52"
          ],
          "font": {
           "color": "#2a3f5f"
          },
          "geo": {
           "bgcolor": "white",
           "lakecolor": "white",
           "landcolor": "#E5ECF6",
           "showlakes": true,
           "showland": true,
           "subunitcolor": "white"
          },
          "hoverlabel": {
           "align": "left"
          },
          "hovermode": "closest",
          "mapbox": {
           "style": "light"
          },
          "paper_bgcolor": "white",
          "plot_bgcolor": "#E5ECF6",
          "polar": {
           "angularaxis": {
            "gridcolor": "white",
            "linecolor": "white",
            "ticks": ""
           },
           "bgcolor": "#E5ECF6",
           "radialaxis": {
            "gridcolor": "white",
            "linecolor": "white",
            "ticks": ""
           }
          },
          "scene": {
           "xaxis": {
            "backgroundcolor": "#E5ECF6",
            "gridcolor": "white",
            "gridwidth": 2,
            "linecolor": "white",
            "showbackground": true,
            "ticks": "",
            "zerolinecolor": "white"
           },
           "yaxis": {
            "backgroundcolor": "#E5ECF6",
            "gridcolor": "white",
            "gridwidth": 2,
            "linecolor": "white",
            "showbackground": true,
            "ticks": "",
            "zerolinecolor": "white"
           },
           "zaxis": {
            "backgroundcolor": "#E5ECF6",
            "gridcolor": "white",
            "gridwidth": 2,
            "linecolor": "white",
            "showbackground": true,
            "ticks": "",
            "zerolinecolor": "white"
           }
          },
          "shapedefaults": {
           "line": {
            "color": "#2a3f5f"
           }
          },
          "ternary": {
           "aaxis": {
            "gridcolor": "white",
            "linecolor": "white",
            "ticks": ""
           },
           "baxis": {
            "gridcolor": "white",
            "linecolor": "white",
            "ticks": ""
           },
           "bgcolor": "#E5ECF6",
           "caxis": {
            "gridcolor": "white",
            "linecolor": "white",
            "ticks": ""
           }
          },
          "title": {
           "x": 0.05
          },
          "xaxis": {
           "automargin": true,
           "gridcolor": "white",
           "linecolor": "white",
           "ticks": "",
           "title": {
            "standoff": 15
           },
           "zerolinecolor": "white",
           "zerolinewidth": 2
          },
          "yaxis": {
           "automargin": true,
           "gridcolor": "white",
           "linecolor": "white",
           "ticks": "",
           "title": {
            "standoff": 15
           },
           "zerolinecolor": "white",
           "zerolinewidth": 2
          }
         }
        },
        "xaxis": {
         "anchor": "y",
         "domain": [
          0,
          1
         ],
         "title": {
          "text": "strikePrice"
         }
        },
        "yaxis": {
         "anchor": "x",
         "domain": [
          0,
          1
         ],
         "title": {
          "text": "apr"
         }
        }
       }
      }
     },
     "metadata": {},
     "output_type": "display_data"
    }
   ],
   "source": [
    "df_copy_time = df_copy[df_copy[\"duration\"]==4]\n",
    "\n",
    "if Direction==\"CALL\":\n",
    "    fig = px.line(df_copy_time, x=\"strikePrice\", y=\"apr\", color='exercisedCoin',markers=True, hover_data=[\"1000return\", \"USDamt\", \"Percent_to_strikeprice\", \"strikePrice\"])\n",
    "else:\n",
    "    fig = px.line(df_copy_time, x=\"strikePrice\", y=\"apr\", color='investCoin',markers=True, hover_data=[\"1000return\", \"USDamt\", \"Percent_to_strikeprice\", \"strikePrice\"])\n",
    "\n",
    "fig.write_html(filename)\n",
    "\n",
    "fig.show()"
   ]
  },
  {
   "cell_type": "markdown",
   "metadata": {},
   "source": [
    "# Prices"
   ]
  },
  {
   "cell_type": "code",
   "execution_count": 21,
   "metadata": {},
   "outputs": [
    {
     "name": "stdout",
     "output_type": "stream",
     "text": [
      "[[1692230400000, '28698.53000000', '28751.64000000', '25002.00000000', '26624.10000000', '1706.52490000', 1692316799999, '46699081.10577560', 29024, '556.73951000', '15419699.63658260', '0'], [1692316800000, '26613.56000000', '26825.12000000', '25620.98000000', '26045.23000000', '1196.72590000', 1692403199999, '31383284.76905080', 20162, '598.85543000', '15711706.34969550', '0'], [1692403200000, '26045.24000000', '26262.81000000', '25792.39000000', '26095.44000000', '472.84884000', 1692489599999, '12303309.86480170', 8595, '228.58194000', '5945107.14433150', '0'], [1692489600000, '26095.44000000', '26296.15000000', '25975.73000000', '26190.06000000', '282.20799000', 1692575999999, '7372324.88539810', 5681, '120.49341000', '3148019.97574110', '0'], [1692576000000, '26188.52000000', '26248.59000000', '25813.87000000', '26122.69000000', '810.59238000', 1692662399999, '21107508.55204380', 9876, '406.57366000', '10585910.78120800', '0'], [1692662400000, '26122.72000000', '26137.40000000', '25350.00000000', '26033.24000000', '1445.75209000', 1692748799999, '37391202.99152520', 17535, '810.01361000', '20953418.76824650', '0'], [1692748800000, '26043.16000000', '26800.00000000', '25801.01000000', '26437.15000000', '1280.01516000', 1692835199999, '33656445.02529760', 20948, '614.33984000', '16123325.36578080', '0'], [1692835200000, '26426.53000000', '26561.74000000', '25858.47000000', '26165.83000000', '418.93668000', 1692921599999, '11003550.99634830', 9381, '245.02203000', '6434849.12981250', '0'], [1692921600000, '26164.57000000', '26295.93000000', '25774.00000000', '26046.73000000', '259.93733000', 1693007999999, '6764135.63446040', 7340, '144.89093000', '3768948.03395680', '0'], [1693008000000, '26043.14000000', '26108.20000000', '25967.22000000', '26007.48000000', '74.52861000', 1693094399999, '1940127.86378870', 2852, '33.06138000', '860641.20983690', '0'], [1693094400000, '26003.82000000', '26167.55000000', '25953.07000000', '26087.31000000', '90.03103000', 1693180799999, '2347510.09592550', 3460, '43.23846000', '1127181.67376020', '0'], [1693180800000, '26088.16000000', '26238.00000000', '25850.00000000', '26101.59000000', '270.18645000', 1693267199999, '7036735.02161050', 6440, '157.02412000', '4090374.34914410', '0'], [1693267200000, '26101.60000000', '28121.37000000', '25905.00000000', '27723.23000000', '787.90994000', 1693353599999, '21515849.67100840', 20982, '376.72794000', '10284869.94455870', '0'], [1693353600000, '27724.67000000', '27767.56000000', '27020.00000000', '27298.89000000', '447.67454000', 1693439999999, '12236496.32068400', 9819, '190.84122000', '5214680.65672640', '0'], [1693440000000, '27299.86000000', '27671.73000000', '25652.01000000', '25930.84000000', '477.35272000', 1693526399999, '12703529.02748530', 12849, '208.25630000', '5540596.32205040', '0'], [1693526400000, '25934.00000000', '26143.59000000', '25317.31000000', '25795.06000000', '388.78886000', 1693612799999, '10029587.72106860', 11025, '214.64517000', '5536107.64411360', '0'], [1693612800000, '25799.21000000', '25978.14000000', '25740.01000000', '25867.52000000', '213.05393000', 1693699199999, '5502210.68627660', 6056, '55.21186000', '1425989.42179040', '0'], [1693699200000, '25873.71000000', '26128.71000000', '25800.00000000', '25969.59000000', '254.34933000', 1693785599999, '6592693.97469230', 6002, '106.58030000', '2762984.90761400', '0'], [1693785600000, '25969.60000000', '26097.41000000', '25618.61000000', '25805.32000000', '240.52358000', 1693871999999, '6216948.82596330', 6757, '110.67563000', '2863695.34854090', '0'], [1693872000000, '25816.48000000', '25889.50000000', '25564.00000000', '25781.96000000', '298.07387000', 1693958399999, '7666279.49177170', 6772, '150.35200000', '3867567.93454630', '0'], [1693958400000, '25772.69000000', '26013.68000000', '25342.72000000', '25747.12000000', '272.77499000', 1694044799999, '7007006.17870860', 8011, '130.70637000', '3357026.09555650', '0'], [1694044800000, '25746.41000000', '26449.48000000', '25601.15000000', '26247.23000000', '296.68088000', 1694131199999, '7687806.22299510', 8565, '139.10813000', '3603706.08366960', '0'], [1694131200000, '26247.23000000', '26430.41000000', '25662.02000000', '25902.73000000', '495.96515000', 1694217599999, '12901082.96241360', 11302, '249.05829000', '6481262.99701330', '0'], [1694217600000, '25902.73000000', '25940.61000000', '25787.46000000', '25893.55000000', '116.01065000', 1694303999999, '3000894.96137390', 3779, '69.36504000', '1794296.81732190', '0'], [1694304000000, '25895.59000000', '26022.93000000', '25563.32000000', '25832.05000000', '168.32092000', 1694390399999, '4342756.29786590', 5323, '64.54011000', '1665589.78321710', '0'], [1694390400000, '25833.26000000', '25893.87000000', '24899.00000000', '25151.71000000', '687.06655000', 1694476799999, '17393422.91243240', 12928, '323.65575000', '8187689.65483060', '0'], [1694476800000, '25151.71000000', '26579.62000000', '25129.42000000', '25843.67000000', '1040.96202000', 1694563199999, '27001606.20854590', 19521, '440.19170000', '11400443.28558360', '0'], [1694563200000, '25833.43000000', '26403.35000000', '25767.43000000', '26224.18000000', '543.94771000', 1694649599999, '14209880.53733680', 12348, '233.67439000', '6101234.90283890', '0'], [1694649600000, '26224.72000000', '26871.47000000', '26120.37000000', '26525.48000000', '709.72243000', 1694735999999, '18808299.95463090', 17178, '241.77711000', '6400837.87964340', '0'], [1694736000000, '26526.38000000', '26886.13000000', '26224.17000000', '26601.63000000', '448.46322000', 1694822399999, '11887153.35409970', 10890, '190.28711000', '5041571.76832300', '0'], [1694822400000, '26599.33000000', '26771.38000000', '26449.82000000', '26564.05000000', '189.97301000', 1694908799999, '5048764.54698950', 6587, '66.84250000', '1776121.01320060', '0'], [1694908800000, '26566.67000000', '26625.78000000', '26406.29000000', '26533.06000000', '133.24276000', 1694995199999, '3533232.00688170', 4482, '54.84114000', '1454282.75240690', '0'], [1694995200000, '26532.74000000', '27418.04000000', '26381.29000000', '26776.25000000', '678.34140000', 1695081599999, '18257111.70991090', 16433, '260.20954000', '6999898.56995120', '0'], [1695081600000, '26763.62000000', '27489.59000000', '26675.81000000', '27207.21000000', '504.73644000', 1695167999999, '13705454.86114960', 12154, '226.18362000', '6143233.45879640', '0'], [1695168000000, '27217.59000000', '27394.04000000', '26800.00000000', '27126.61000000', '484.82759000', 1695254399999, '13146797.20941480', 11150, '221.11812000', '5995658.19655510', '0'], [1695254400000, '27126.67000000', '27155.34000000', '26375.19000000', '26569.48000000', '368.64143000', 1695340799999, '9844332.36359200', 11560, '206.99902000', '5525356.36783050', '0'], [1695340800000, '26569.08000000', '26735.30000000', '26471.03000000', '26579.33000000', '229.99014000', 1695427199999, '6119387.26701210', 7171, '100.45304000', '2673027.87161750', '0'], [1695427200000, '26579.34000000', '26635.77000000', '26512.60000000', '26578.79000000', '90.25069000', 1695513599999, '2398596.65006310', 3630, '30.80651000', '818667.20440890', '0'], [1695513600000, '26578.78000000', '26733.52000000', '26139.15000000', '26253.20000000', '182.96457000', 1695599999999, '4846546.10491120', 4981, '85.29255000', '2260033.23395580', '0'], [1695600000000, '26244.99000000', '26445.16000000', '25992.01000000', '26296.75000000', '527.83561000', 1695686399999, '13831074.50861430', 12730, '213.46852000', '5589929.05290050', '0'], [1695686400000, '26296.75000000', '26391.82000000', '26083.58000000', '26207.39000000', '222.61224000', 1695772799999, '5835384.55414320', 7162, '136.03728000', '3565380.00766490', '0'], [1695772800000, '26207.40000000', '26827.89000000', '26093.91000000', '26353.15000000', '536.00769000', 1695859199999, '14158083.05635250', 13054, '243.21439000', '6409480.18627540', '0'], [1695859200000, '26353.15000000', '27293.38000000', '26322.83000000', '27021.51000000', '679.84782000', 1695945599999, '18222440.09676800', 17565, '229.85268000', '6161105.55715810', '0'], [1695945600000, '27023.91000000', '27235.40000000', '26673.79000000', '26906.19000000', '432.14959000', 1696031999999, '11653106.92059980', 11137, '186.93822000', '5037374.31462300', '0'], [1696032000000, '26906.18000000', '27090.65000000', '26885.13000000', '26966.23000000', '151.53373000', 1696118399999, '4087522.86617460', 5622, '58.81294000', '1586596.66864640', '0'], [1696118400000, '26966.22000000', '28049.39000000', '26956.71000000', '27984.22000000', '331.36789000', 1696204799999, '9119098.42496430', 9730, '165.75583000', '4573686.62544780', '0'], [1696204800000, '27995.74000000', '28590.83000000', '27294.92000000', '27500.70000000', '1022.59865000', 1696291199999, '28682813.07961200', 23262, '405.63438000', '11386864.23573770', '0'], [1696291200000, '27502.90000000', '27673.75000000', '27170.07000000', '27432.30000000', '549.88873000', 1696377599999, '15098939.57755170', 13603, '339.30406000', '9315558.92100010', '0'], [1696377600000, '27430.23000000', '27835.16000000', '27203.49000000', '27784.16000000', '469.60891000', 1696463999999, '12938406.18684140', 11694, '189.37084000', '5211104.19881180', '0'], [1696464000000, '27783.55000000', '28129.57000000', '27361.06000000', '27412.69000000', '406.40499000', 1696550399999, '11252407.94358930', 10654, '181.08156000', '5009384.66782140', '0'], [1696550400000, '27414.24000000', '28294.46000000', '27185.64000000', '27949.00000000', '380.58255000', 1696636799999, '10558625.68308240', 11649, '154.96429000', '4294383.94507270', '0'], [1696636800000, '27949.70000000', '28034.95000000', '27853.74000000', '27969.65000000', '104.01128000', 1696723199999, '2906163.52937330', 4479, '46.39860000', '1296490.59216730', '0'], [1696723200000, '27971.08000000', '28110.58000000', '27711.19000000', '27934.94000000', '179.58130000', 1696809599999, '5014394.65326000', 6603, '73.47417000', '2051615.07760220', '0'], [1696809600000, '27932.95000000', '27998.46000000', '27270.57000000', '27593.50000000', '424.74384000', 1696895999999, '11713921.77048420', 10218, '207.79462000', '5726730.27825060', '0'], [1696896000000, '27594.85000000', '27736.71000000', '27294.97000000', '27390.51000000', '304.19943000', 1696982399999, '8367924.46880530', 8330, '134.73363000', '3702711.03711330', '0'], [1696982400000, '27390.50000000', '27480.08000000', '26529.30000000', '26868.87000000', '472.89353000', 1697068799999, '12741897.68785380', 12138, '225.87702000', '6084506.00798900', '0'], [1697068800000, '26863.24000000', '26938.40000000', '26542.12000000', '26751.89000000', '239.63149000', 1697155199999, '6408116.78579140', 7352, '109.96803000', '2940417.85683870', '0'], [1697155200000, '26748.19000000', '27120.47000000', '26673.09000000', '26859.55000000', '270.01358000', 1697241599999, '7251136.58586070', 8044, '140.92195000', '3784169.42045860', '0'], [1697241600000, '26860.18000000', '26982.58000000', '26790.96000000', '26852.97000000', '101.26983000', 1697327999999, '2722493.49794370', 4586, '42.57022000', '1144594.99248980', '0'], [1697328000000, '26853.82000000', '27294.02000000', '26807.76000000', '27155.95000000', '171.19603000', 1697414399999, '4627540.97727710', 5497, '83.42346000', '2254793.63783400', '0'], [1697414400000, '27158.02000000', '30075.99000000', '27115.98000000', '28515.43000000', '1222.30586000', 1697500799999, '34342753.74256520', 26396, '487.30104000', '13736595.43985600', '0'], [1697500800000, '28512.66000000', '28628.46000000', '28075.00000000', '28405.72000000', '476.38314000', 1697587199999, '13531403.11848370', 13237, '167.20321000', '4748826.09512660', '0'], [1697587200000, '28405.72000000', '28984.27000000', '28154.86000000', '28327.15000000', '517.32538000', 1697673599999, '14717080.82371930', 12294, '218.87637000', '6229340.89907390', '0'], [1697673600000, '28327.15000000', '28943.65000000', '28130.44000000', '28730.92000000', '674.46973000', 1697759999999, '19265142.44872440', 17658, '237.00397000', '6766336.19941140', '0'], [1697760000000, '28733.29000000', '30250.00000000', '28595.85000000', '29686.24000000', '1404.40955000', 1697846399999, '41404107.23761080', 28042, '615.48480000', '18168329.74014530', '0'], [1697846400000, '29686.24000000', '30393.05000000', '29478.21000000', '29922.17000000', '469.74235000', 1697932799999, '14048545.63170460', 11795, '246.16820000', '7358396.07660850', '0'], [1697932800000, '29924.46000000', '30285.35000000', '29671.70000000', '30002.43000000', '340.92768000', 1698019199999, '10214224.07229540', 9765, '169.63677000', '5082888.01340350', '0'], [1698019200000, '30002.55000000', '35141.15000000', '29892.89000000', '33071.98000000', '1759.66404000', 1698105599999, '55155121.36583740', 45497, '798.25154000', '25025530.66366360', '0'], [1698105600000, '33083.09000000', '35254.05000000', '32849.00000000', '33925.44000000', '1798.22987000', 1698191999999, '61291639.25860790', 43914, '921.10927000', '31406500.75989330', '0'], [1698192000000, '33925.54000000', '35133.79000000', '33033.03000000', '34504.34000000', '837.30787000', 1698278399999, '28780173.40604530', 21681, '385.96803000', '13271861.69134060', '0'], [1698278400000, '34504.00000000', '34834.39000000', '33732.40000000', '34155.73000000', '720.98589000', 1698364799999, '24704687.29153610', 24576, '278.30426000', '9539594.70934730', '0'], [1698364800000, '34155.73000000', '34249.03000000', '33407.22000000', '33905.00000000', '439.60268000', 1698451199999, '14922948.70753900', 13659, '217.56735000', '7387182.15070400', '0'], [1698451200000, '33902.10000000', '34492.25000000', '33867.76000000', '34093.33000000', '209.38049000', 1698537599999, '7145582.40945650', 11111, '102.09021000', '3483946.47262340', '0'], [1698537600000, '34086.40000000', '34756.76000000', '33939.08000000', '34533.50000000', '232.25049000', 1698623999999, '8003239.00035150', 14968, '98.80074000', '3402916.96353040', '0'], [1698624000000, '34546.07000000', '34859.28000000', '34079.93000000', '34487.74000000', '803.55433000', 1698710399999, '27739798.29536320', 29157, '312.58830000', '10778996.95908300', '0'], [1698710400000, '34489.06000000', '35100.00000000', '34047.69000000', '34656.42000000', '576.83124000', 1698796799999, '19856167.45804750', 23147, '338.57219000', '11659993.13439240', '0'], [1698796800000, '34653.15000000', '35620.73000000', '34097.14000000', '35426.53000000', '1065.82950000', 1698883199999, '37001127.35925300', 33242, '473.95267000', '16452263.00644610', '0'], [1698883200000, '35435.75000000', '35978.22000000', '34304.79000000', '34943.08000000', '1473.01856000', 1698969599999, '51769465.52547680', 39184, '637.82051000', '22386502.10520340', '0'], [1698969600000, '34946.00000000', '34946.00000000', '34127.46000000', '34734.21000000', '1249.06911000', 1699055999999, '43098081.03983350', 25328, '589.38315000', '20323630.47259020', '0'], [1699056000000, '34731.08000000', '35272.09000000', '34599.26000000', '35079.15000000', '370.24925000', 1699142399999, '12896243.80816530', 15267, '165.96436000', '5781688.10691190', '0'], [1699142400000, '35083.85000000', '35415.06000000', '34465.33000000', '35040.65000000', '438.77355000', 1699228799999, '15364184.33779680', 19967, '208.34513000', '7300306.44939520', '0'], [1699228800000, '35036.05000000', '35287.98000000', '34759.43000000', '35049.73000000', '808.08088000', 1699315199999, '28303779.61890830', 22171, '508.88977000', '17820124.62591000', '0'], [1699315200000, '35056.40000000', '35905.25000000', '34536.58000000', '35417.23000000', '1022.63800000', 1699401599999, '35882417.61387960', 23665, '561.55459000', '19690996.61436980', '0'], [1699401600000, '35410.00000000', '36103.61000000', '35105.32000000', '35636.81000000', '978.24347000', 1699487999999, '34744966.77672250', 18788, '429.73337000', '15256918.41826260', '0'], [1699488000000, '35632.64000000', '38027.02000000', '35563.77000000', '36695.72000000', '1825.82263000', 1699574399999, '67100242.92342630', 41549, '944.15219000', '34746292.29382010', '0'], [1699574400000, '36701.97000000', '37548.41000000', '36344.84000000', '37316.24000000', '947.49391000', 1699660799999, '35037406.53740180', 27377, '384.86172000', '14217761.73240700', '0'], [1699660800000, '37334.48000000', '37417.37000000', '36652.91000000', '37160.61000000', '447.67929000', 1699747199999, '16611005.09126070', 13980, '194.25409000', '7205324.86548730', '0'], [1699747200000, '37143.07000000', '37235.84000000', '36721.46000000', '37071.15000000', '273.16542000', 1699833599999, '10129310.49690080', 7911, '127.61384000', '4731979.66472040', '0'], [1699833600000, '37085.26000000', '37432.55000000', '36337.55000000', '36483.14000000', '731.02943000', 1699919999999, '26947226.83978810', 17527, '343.07437000', '12645173.05052220', '0'], [1699920000000, '36475.24000000', '37817.21000000', '34688.00000000', '35562.03000000', '1173.61233000', 1700006399999, '42341507.34336660', 21606, '614.81377000', '22199038.24206890', '0'], [1700006400000, '35553.68000000', '37977.96000000', '35363.84000000', '37867.05000000', '1036.08574000', 1700092799999, '37960101.63438300', 23596, '511.84780000', '18739218.84274420', '0'], [1700092800000, '37876.94000000', '37952.57000000', '35510.42000000', '36157.77000000', '1041.76804000', 1700179199999, '38291069.84839560', 20223, '537.77624000', '19745413.80298430', '0'], [1700179200000, '36167.79000000', '36841.45000000', '35868.50000000', '36626.55000000', '931.23709000', 1700265599999, '33847069.83475710', 18025, '462.32933000', '16796723.26475420', '0'], [1700265600000, '36626.54000000', '36854.99000000', '36202.86000000', '36591.20000000', '404.48426000', 1700351999999, '14776318.51563170', 9775, '197.82771000', '7224836.34989700', '0'], [1700352000000, '36590.25000000', '37524.30000000', '36404.85000000', '37386.15000000', '411.27142000', 1700438399999, '15144413.18172690', 11312, '195.01222000', '7180467.07896740', '0'], [1700438400000, '37385.58000000', '37771.89000000', '36709.49000000', '37475.20000000', '779.32385000', 1700524799999, '29094352.93066100', 18648, '353.27773000', '13183467.05583380', '0'], [1700524800000, '37472.24000000', '37672.31000000', '35750.95000000', '35773.66000000', '1246.56145000', 1700611199999, '46029628.15571510', 24088, '592.99004000', '21893220.66839310', '0'], [1700611200000, '35759.55000000', '37869.61000000', '35645.05000000', '37414.99000000', '1009.01373000', 1700697599999, '37128999.44897810', 21853, '511.70566000', '18798663.51522810', '0'], [1700697600000, '37420.38000000', '37649.55000000', '36881.00000000', '37295.07000000', '659.95845000', 1700783999999, '24617546.87065490', 15241, '346.74253000', '12932481.55830680', '0'], [1700784000000, '37300.87000000', '38435.77000000', '37255.74000000', '37738.62000000', '980.54931000', 1700870399999, '37072373.03942500', 24229, '440.62771000', '16643119.30981890', '0'], [1700870400000, '37744.76000000', '37910.17000000', '37612.96000000', '37803.17000000', '224.42388000', 1700956799999, '8476376.79991650', 6792, '118.26698000', '4466016.10128900', '0'], [1700956800000, '37803.17000000', '37834.98000000', '37164.91000000', '37449.28000000', '369.77350000', 1701043199999, '13861203.27402190', 8468, '184.46558000', '6912902.11120290', '0'], [1701043200000, '37459.80000000', '37578.83000000', '36719.44000000', '37247.26000000', '700.07148000', 1701129599999, '25958337.28905370', 14835, '371.77218000', '13784690.45148460', '0'], [1701129600000, '37241.09000000', '38400.00000000', '36874.84000000', '37834.64000000', '921.39852000', 1701215999999, '34729274.50657990', 24090, '455.17950000', '17127891.04642000', '0'], [1701216000000, '37835.41000000', '38469.59000000', '37590.71000000', '37864.92000000', '888.07607000', 1701302399999, '33730336.75738290', 16274, '461.16745000', '17515614.44454720', '0'], [1701302400000, '37859.57000000', '38148.02000000', '37504.66000000', '37731.99000000', '528.70903000', 1701388799999, '19974148.51306780', 11095, '260.07628000', '9822204.18570160', '0'], [1701388800000, '37733.13000000', '38999.97000000', '37623.70000000', '38701.36000000', '1079.09099000', 1701475199999, '41532957.52249720', 31116, '497.08786000', '19128595.08408340', '0'], [1701475200000, '38700.78000000', '39767.22000000', '38659.88000000', '39470.18000000', '685.14760000', 1701561599999, '26831523.95463010', 19529, '362.06886000', '14179261.45012310', '0'], [1701561600000, '39470.17000000', '40290.10000000', '39295.02000000', '39989.05000000', '698.05445000', 1701647999999, '27729523.10336070', 20519, '350.12958000', '13901382.89748360', '0'], [1701648000000, '39986.55000000', '42409.61000000', '39986.55000000', '41986.40000000', '1907.42759000', 1701734399999, '79127286.02055990', 41760, '938.24255000', '38914044.26779520', '0'], [1701734400000, '41989.46000000', '44500.00000000', '41400.00000000', '44083.26000000', '1841.04771000', 1701820799999, '78989664.85120380', 48801, '918.09942000', '39292672.97023680', '0'], [1701820800000, '44083.27000000', '44328.70000000', '43360.00000000', '43765.39000000', '1418.64849000', 1701907199999, '62287471.89422070', 31311, '711.55622000', '31243274.90574250', '0'], [1701907200000, '43764.15000000', '44102.81000000', '42851.06000000', '43288.22000000', '1347.25614000', 1701993599999, '58535863.91589110', 27216, '680.33621000', '29563323.27340080', '0'], [1701993600000, '43277.22000000', '44734.19000000', '43089.59000000', '44183.30000000', '970.91573000', 1702079999999, '42429055.51417970', 24369, '465.27956000', '20330705.26056960', '0'], [1702080000000, '44183.31000000', '44368.85000000', '43570.00000000', '43724.41000000', '611.81621000', 1702166399999, '26915189.50133740', 16795, '292.98532000', '12888024.60027540', '0'], [1702166400000, '43724.67000000', '44044.44000000', '43572.52000000', '43790.94000000', '431.35967000', 1702252799999, '18900005.49154220', 13088, '216.89741000', '9502969.34225150', '0'], [1702252800000, '43790.93000000', '43808.15000000', '40179.45000000', '41236.34000000', '2318.20100000', 1702339199999, '96833565.31822110', 50132, '1210.42237000', '50525787.34985450', '0'], [1702339200000, '41231.16000000', '42084.53000000', '40656.98000000', '41474.19000000', '1343.68469000', 1702425599999, '55730058.24175510', 29667, '702.85517000', '29151809.36990330', '0'], [1702425600000, '41486.41000000', '43503.65000000', '40562.53000000', '42880.31000000', '1608.31067000', 1702511999999, '67295959.10521340', 40340, '788.40179000', '33003337.41252000', '0'], [1702512000000, '42880.31000000', '43427.13000000', '41344.90000000', '43035.25000000', '2071.10959000', 1702598399999, '88658439.44332380', 48156, '878.74441000', '37619546.60499070', '0'], [1702598400000, '43030.70000000', '43089.95000000', '41650.56000000', '41934.09000000', '1156.25002000', 1702684799999, '49023334.42270810', 27104, '593.44214000', '25161012.50975630', '0'], [1702684800000, '41938.34000000', '42679.05000000', '41627.83000000', '42241.77000000', '726.11438000', 1702771199999, '30685885.64609920', 20990, '374.67526000', '15829598.12071330', '0'], [1702771200000, '42241.76000000', '42371.36000000', '41220.47000000', '41341.19000000', '1010.25019000', 1702857599999, '42308782.52157970', 23184, '550.27684000', '23048879.57942400', '0'], [1702857600000, '41333.16000000', '42739.24000000', '40508.33000000', '42648.10000000', '1805.78935000', 1702943999999, '74860663.59579060', 37458, '967.07057000', '40100127.41426530', '0'], [1702944000000, '42648.11000000', '43485.61000000', '41786.94000000', '42259.48000000', '1491.67471000', 1703030399999, '63577900.27567080', 29661, '719.91038000', '30678611.54085420', '0'], [1703030400000, '42262.85000000', '44284.37000000', '42196.53000000', '43670.37000000', '1689.41340000', 1703116799999, '73322375.27815250', 36574, '718.58998000', '31175714.75646700', '0'], [1703116800000, '43665.21000000', '44242.60000000', '43298.99000000', '43870.59000000', '1291.56699000', 1703203199999, '56486159.30549160', 26260, '640.73648000', '28019799.44970400', '0'], [1703203200000, '43870.59000000', '44410.37000000', '43427.13000000', '44001.45000000', '1017.07359000', 1703289599999, '44573073.42846670', 24763, '513.86399000', '22516346.32756820', '0'], [1703289600000, '44001.56000000', '44027.27000000', '43335.30000000', '43725.50000000', '453.50682000', 1703375999999, '19820525.28215300', 16921, '221.65493000', '9685959.86945830', '0'], [1703376000000, '43725.50000000', '43965.03000000', '42591.95000000', '43029.46000000', '541.33871000', 1703462399999, '23574617.13573060', 19393, '265.06601000', '11543279.93241610', '0'], [1703462400000, '43020.77000000', '43806.31000000', '42734.58000000', '43580.07000000', '612.60556000', 1703548799999, '26574080.31747560', 15907, '317.23625000', '13759731.51702090', '0'], [1703548800000, '43580.06000000', '43596.15000000', '41600.00000000', '42512.86000000', '1085.83067000', 1703635199999, '46150714.69073650', 26278, '569.01407000', '24180704.69064260', '0'], [1703635200000, '42507.74000000', '43690.75000000', '42115.80000000', '43465.37000000', '1045.96890000', 1703721599999, '44917183.84486080', 29337, '486.99028000', '20894976.73339520', '0'], [1703721600000, '43464.47000000', '43817.21000000', '42284.35000000', '42579.25000000', '1112.00473000', 1703807999999, '47720110.78175680', 24889, '582.81516000', '25008031.27895060', '0'], [1703808000000, '42579.26000000', '43127.77000000', '41284.28000000', '42074.88000000', '1490.87196000', 1703894399999, '63062989.43995830', 32135, '817.59389000', '34563070.54399750', '0'], [1703894400000, '42066.87000000', '42605.49000000', '41527.63000000', '42145.99000000', '796.64860000', 1703980799999, '33569939.25890960', 19072, '429.63314000', '18101630.38670970', '0'], [1703980800000, '42145.98000000', '42874.99000000', '41968.57000000', '42274.27000000', '996.35895000', 1704067199999, '42284410.35671820', 21753, '592.93974000', '25162975.00157330', '0'], [1704067200000, '42274.27000000', '44199.99000000', '42181.24000000', '44185.08000000', '831.25289000', 1704153599999, '35729195.40638450', 21456, '424.53371000', '18243720.35239700', '0'], [1704153600000, '44185.10000000', '45917.99000000', '44152.17000000', '44966.40000000', '2075.57807000', 1704239999999, '93924951.81151620', 54128, '930.02235000', '42077713.24051300', '0'], [1704240000000, '44966.40000000', '45521.46000000', '40555.00000000', '42863.17000000', '2224.93663000', 1704326399999, '96597116.64581510', 56142, '1121.88657000', '48685885.01965220', '0'], [1704326400000, '42863.16000000', '44798.85000000', '42651.13000000', '44190.77000000', '1790.55598000', 1704412799999, '78230022.32989530', 45707, '874.68953000', '38199669.70069270', '0'], [1704412800000, '44190.77000000', '44392.00000000', '42362.50000000', '44179.33000000', '2482.61049000', 1704499199999, '108656798.97238140', 70799, '1255.06037000', '54947518.62902810', '0'], [1704499200000, '44179.34000000', '44250.79000000', '43443.91000000', '43994.18000000', '705.41334000', 1704585599999, '30944304.62903320', 23653, '335.71876000', '14723979.74589000', '0'], [1704585600000, '43991.62000000', '44499.56000000', '43581.50000000', '43949.18000000', '678.55169000', 1704671999999, '29902876.29767510', 24284, '341.65484000', '15056185.60268000', '0'], [1704672000000, '43952.73000000', '47300.00000000', '43208.30000000', '46989.98000000', '1651.59327000', 1704758399999, '74862602.81686040', 64574, '815.95168000', '36987888.65432400', '0'], [1704758400000, '46990.04000000', '48000.00000000', '44563.91000000', '46121.26000000', '1973.88032000', 1704844799999, '91894017.56569380', 63941, '965.28017000', '44927241.78723020', '0'], [1704844800000, '46120.38000000', '47844.00000000', '44295.29000000', '46662.46000000', '2801.78384000', 1704931199999, '128354978.03957280', 84190, '1429.33280000', '65465206.30303720', '0'], [1704931200000, '46665.71000000', '49000.00000000', '45558.34000000', '46347.41000000', '2356.10384000', 1705017599999, '110235985.37209920', 119454, '1092.12712000', '51121147.47736510', '0'], [1705017600000, '46342.22000000', '46523.92000000', '41382.95000000', '42765.79000000', '2298.17065000', 1705103999999, '102605795.08389070', 112382, '1143.75108000', '51106917.20834820', '0'], [1705104000000, '42770.74000000', '43244.75000000', '42417.54000000', '42842.43000000', '1389.84503000', 1705190399999, '59546751.18382270', 50730, '653.70619000', '28000192.29233080', '0'], [1705190400000, '42839.96000000', '43071.41000000', '41700.00000000', '41709.38000000', '918.08300000', 1705276799999, '39111792.15723870', 40078, '455.77396000', '19415937.22097750', '0'], [1705276800000, '41700.00000000', '43343.02000000', '41685.32000000', '42489.69000000', '1650.59380000', 1705363199999, '70286916.68141070', 55092, '844.44884000', '35962520.91135600', '0'], [1705363200000, '42485.03000000', '43564.00000000', '42006.32000000', '43124.92000000', '2037.11206000', 1705449599999, '87535205.40330130', 68447, '973.87574000', '41854349.02819460', '0'], [1705449600000, '43124.92000000', '43186.24000000', '42165.89000000', '42733.05000000', '1681.81738000', 1705535999999, '71750734.59288400', 50922, '906.11521000', '38648315.57491060', '0'], [1705536000000, '42733.05000000', '42875.88000000', '40600.00000000', '41281.29000000', '2151.86526000', 1705622399999, '90367065.58244720', 64357, '1170.46039000', '49151752.95076390', '0'], [1705622400000, '41286.00000000', '42144.29000000', '40250.00000000', '41622.00000000', '2204.11796000', 1705708799999, '90864455.28945110', 66382, '1203.09283000', '49592021.66417080', '0'], [1705708800000, '41622.01000000', '41830.00000000', '41421.60000000', '41666.14000000', '534.44808000', 1705795199999, '22226173.77835530', 23783, '247.31288000', '10285200.65228010', '0'], [1705795200000, '41665.99000000', '41854.45000000', '41476.03000000', '41555.40000000', '334.16807000', 1705881599999, '13927268.87473680', 22503, '161.15960000', '6716568.51364130', '0'], [1705881600000, '41553.64000000', '41656.00000000', '39322.00000000', '39517.69000000', '2400.07702000', 1705967999999, '97215645.05261330', 79491, '1243.87305000', '50381887.36550060', '0'], [1705968000000, '39521.03000000', '40135.90000000', '38508.01000000', '39871.07000000', '1691.97662000', 1706054399999, '66431138.83092380', 60407, '843.52846000', '33111812.17784570', '0'], [1706054400000, '39866.24000000', '40521.95000000', '39466.67000000', '40068.01000000', '1313.11047000', 1706140799999, '52397037.50872930', 45931, '658.52079000', '26271713.99498010', '0'], [1706140800000, '40068.00000000', '40279.73000000', '39513.86000000', '39937.82000000', '1581.77588000', 1706227199999, '63119322.17844540', 37554, '826.94873000', '32988112.95213390', '0'], [1706227200000, '39937.81000000', '42232.20000000', '39804.87000000', '41810.43000000', '1939.09580000', 1706313599999, '79943342.99136250', 94996, '981.62792000', '40428144.04898800', '0'], [1706313600000, '41811.99000000', '42194.63000000', '41379.94000000', '42119.41000000', '815.78159000', 1706399999999, '34132572.42296500', 40903, '357.48572000', '14958769.97586310', '0'], [1706400000000, '42121.47000000', '42831.67000000', '41611.83000000', '42026.53000000', '1268.34409000', 1706486399999, '53621115.30961690', 59806, '672.99644000', '28452198.69013610', '0'], [1706486400000, '42026.54000000', '43340.00000000', '41792.83000000', '43299.91000000', '1508.04398000', 1706572799999, '64127558.07688960', 76868, '741.96538000', '31517780.02616250', '0'], [1706572800000, '43299.92000000', '43916.00000000', '42665.80000000', '42942.26000000', '1621.66181000', 1706659199999, '70414559.94968350', 76772, '770.61208000', '33457696.72475880', '0'], [1706659200000, '42944.13000000', '43752.37000000', '42268.01000000', '42556.57000000', '1190.32521000', 1706745599999, '51136354.75177560', 105052, '705.68614000', '30338827.89460680', '0'], [1706745600000, '42547.37000000', '43293.01000000', '41846.00000000', '43067.10000000', '916.86736000', 1706831999999, '38962055.29960650', 69527, '479.26948000', '20365855.63984360', '0'], [1706832000000, '43072.35000000', '43485.13000000', '42526.47000000', '43179.03000000', '1100.84738000', 1706918399999, '47393199.41952520', 47314, '749.66053000', '32277216.92862240', '0'], [1706918400000, '43178.54000000', '43355.86000000', '42867.12000000', '42996.96000000', '282.73859000', 1707004799999, '12184166.82697180', 22636, '134.69527000', '5804646.81352500', '0'], [1707004800000, '43002.49000000', '43098.21000000', '42196.76000000', '42561.28000000', '307.91903000', 1707091199999, '13177413.05867980', 23893, '147.19325000', '6299546.78565190', '0'], [1707091200000, '42567.25000000', '43528.00000000', '42232.98000000', '42651.91000000', '862.50542000', 1707177599999, '36927601.35116990', 43151, '539.93075000', '23128853.18440140', '0'], [1707177600000, '42654.53000000', '43350.91000000', '42520.36000000', '43087.71000000', '780.44745000', 1707263999999, '33577466.81915340', 40999, '480.80422000', '20695227.45205670', '0'], [1707264000000, '43088.00000000', '44389.01000000', '42754.50000000', '44339.99000000', '892.76933000', 1707350399999, '38825584.17124040', 44344, '491.59861000', '21352625.23189870', '0'], [1707350400000, '44340.22000000', '45615.28000000', '44320.41000000', '45298.58000000', '866.01884000', 1707436799999, '38980102.05076640', 54386, '459.61374000', '20695943.13463080', '0'], [1707436800000, '45298.47000000', '48250.00000000', '43723.00000000', '47152.96000000', '1792.31639000', 1707523199999, '84187395.59214800', 105058, '873.94065000', '41065736.72769560', '0'], [1707523200000, '47157.44000000', '48172.24000000', '46864.50000000', '47764.66000000', '447.97553000', 1707609599999, '21208446.17320120', 40060, '205.46383000', '9732315.43837750', '0'], [1707609600000, '47764.65000000', '48600.00000000', '47575.68000000', '48314.26000000', '503.92574000', 1707695999999, '24292234.40174260', 39533, '256.32784000', '12355001.14919480', '0'], [1707696000000, '48316.65000000', '50350.00000000', '47719.39000000', '49934.88000000', '1211.77757000', 1707782399999, '59676265.71040130', 104152, '697.07185000', '34318144.11498760', '0'], [1707782400000, '49934.88000000', '50388.00000000', '48303.00000000', '49723.55000000', '1141.40800000', 1707868799999, '56307317.86509270', 83875, '597.72733000', '29466969.57646690', '0'], [1707868800000, '49723.01000000', '52066.47000000', '49255.64000000', '51836.00000000', '1167.97024000', 1707955199999, '59914904.57280820', 93437, '663.79004000', '34075459.77405290', '0'], [1707955200000, '51842.00000000', '52843.76000000', '51363.35000000', '51930.26000000', '1028.24634000', 1708041599999, '53622215.10310280', 78105, '574.00349000', '29954644.97167070', '0'], [1708041600000, '51930.26000000', '52594.43000000', '51600.00000000', '52160.35000000', '1175.05209000', 1708127999999, '61100554.25884440', 73098, '724.73934000', '37676997.04354720', '0'], [1708128000000, '52160.35000000', '52203.34000000', '50632.29000000', '51660.85000000', '537.30388000', 1708214399999, '27680440.66912340', 46516, '244.09276000', '12569242.31437070', '0'], [1708214400000, '51660.84000000', '52408.02000000', '51136.15000000', '52149.98000000', '378.84791000', 1708300799999, '19619526.91766130', 41202, '182.00730000', '9428655.00483490', '0'], [1708300800000, '52153.26000000', '52498.00000000', '51671.46000000', '51784.01000000', '414.11694000', 1708387199999, '21588001.87739710', 39700, '219.75057000', '11455407.20095840', '0'], [1708387200000, '51784.25000000', '52999.99000000', '50760.00000000', '52277.98000000', '1040.07246000', 1708473599999, '53993294.60718330', 89443, '572.92786000', '29725534.32919740', '0'], [1708473600000, '52274.61000000', '52374.58000000', '50555.00000000', '51854.00000000', '827.37028000', 1708559999999, '42430968.21092840', 62999, '464.91438000', '23841879.74429550', '0'], [1708560000000, '51852.03000000', '52062.01000000', '50909.37000000', '51256.01000000', '866.31134000', 1708646399999, '44674994.71292630', 53408, '500.72159000', '25825121.09447310', '0'], [1708646400000, '51256.01000000', '51509.99000000', '50500.00000000', '50733.49000000', '782.62987000', 1708732799999, '39928284.50330240', 53505, '445.29361000', '22718203.02959640', '0'], [1708732800000, '50735.74000000', '51691.99000000', '50584.10000000', '51565.95000000', '288.65689000', 1708819199999, '14778380.97870150', 27381, '154.44067000', '7907684.54553520', '0'], [1708819200000, '51566.21000000', '51986.59000000', '51271.40000000', '51720.00000000', '280.08153000', 1708905599999, '14468751.72002990', 30205, '156.85312000', '8103618.22344920', '0'], [1708905600000, '51730.26000000', '54977.87000000', '50895.42000000', '54518.01000000', '1252.35948000', 1708991999999, '66310565.02212110', 124976, '710.70962000', '37666234.76471820', '0'], [1708992000000, '54518.01000000', '57620.00000000', '54490.01000000', '57061.63000000', '1724.48093000', 1709078399999, '97572371.42892260', 137986, '945.05106000', '53522695.53274850', '0'], [1709078400000, '57061.63000000', '64140.67000000', '56723.23000000', '62504.44000000', '2154.86069000', 1709164799999, '130449626.07143580', 207063, '1109.33729000', '67139143.19475420', '0'], [1709164800000, '62501.89000000', '63687.68000000', '60288.00000000', '61176.09000000', '1673.03539000', 1709251199999, '104001469.21474490', 160535, '829.22550000', '51581479.23161110', '0'], [1709251200000, '61171.97000000', '63193.69000000', '60792.96000000', '62434.25000000', '1037.06606000', 1709337599999, '64401587.12743840', 88027, '505.01195000', '31367536.92512890', '0'], [1709337600000, '62433.12000000', '62508.08000000', '61605.83000000', '62042.34000000', '547.47410000', 1709423999999, '33962641.62366760', 46521, '248.38752000', '15412573.31199130', '0'], [1709424000000, '62042.33000000', '63259.04000000', '61359.63000000', '63148.45000000', '391.60664000', 1709510399999, '24385377.08365140', 45776, '182.63364000', '11366943.69060580', '0'], [1709510400000, '63143.11000000', '68594.50000000', '62228.80000000', '68336.87000000', '1735.33238000', 1709596799999, '114321901.14292150', 188987, '963.75988000', '63396871.37371770', '0'], [1709596800000, '68337.21000000', '69222.52000000', '59112.00000000', '63803.49000000', '3368.07007000', 1709683199999, '218472683.33635360', 367695, '1697.59689000', '110027674.87220730', '0'], [1709683200000, '63803.50000000', '67655.97000000', '62834.01000000', '66112.32000000', '2152.68987000', 1709769599999, '142094214.24001200', 192461, '1146.22229000', '75638135.87457470', '0'], [1709769600000, '66117.23000000', '68065.43000000', '65595.99000000', '66935.66000000', '1189.88656000', 1709855999999, '79867531.23797590', 98514, '545.86420000', '36639699.05869580', '0'], [1709856000000, '66935.67000000', '70315.20000000', '66025.81000000', '68276.39000000', '2569.29040000', 1709942399999, '174995979.05692190', 177322, '1280.60095000', '87250900.27666100', '0'], [1709942400000, '68276.39000000', '68722.11000000', '68033.68000000', '68458.23000000', '619.13236000', 1710028799999, '42347160.95194320', 43032, '337.80734000', '23107872.73941970', '0'], [1710028800000, '68458.71000000', '70024.00000000', '68198.33000000', '69029.99000000', '924.71479000', 1710115199999, '64160977.09306840', 66609, '556.85572000', '38649411.86763890', '0'], [1710115200000, '69029.99000000', '72891.99000000', '67000.00000000', '72096.46000000', '2339.02162000', 1710201599999, '166890363.45193850', 145522, '1382.32773000', '98575684.57559570', '0'], [1710201600000, '72103.98000000', '73000.00000000', '68579.82000000', '71467.43000000', '1409.10580000', 1710287999999, '100775057.96390250', 112046, '802.93464000', '57485775.95888410', '0'], [1710288000000, '71465.80000000', '73676.00000000', '71340.01000000', '73123.31000000', '1167.25570000', 1710374399999, '85083733.63392940', 84557, '683.74581000', '49845643.24834640', '0'], [1710374400000, '73116.55000000', '73816.97000000', '68505.56000000', '71368.00000000', '1265.18767000', 1710460799999, '90331682.84069100', 114730, '633.70631000', '45226726.40976400', '0'], [1710460800000, '71374.46000000', '72390.76000000', '65450.00000000', '69504.01000000', '2898.57401000', 1710547199999, '197965172.04784890', 246161, '1444.20810000', '98665590.61089410', '0'], [1710547200000, '69512.00000000', '70045.19000000', '64700.16000000', '65256.02000000', '1044.15143000', 1710633599999, '70564586.93854560', 110305, '497.87531000', '33667296.26995800', '0'], [1710633600000, '65254.00000000', '68862.72000000', '64500.00000000', '68344.00000000', '851.86137000', 1710719999999, '56872193.99140800', 90016, '420.61773000', '28072674.32177490', '0'], [1710720000000, '68343.73000000', '68916.00000000', '66500.00000000', '67607.98000000', '982.50632000', 1710806399999, '66306180.65431930', 94344, '490.06241000', '33068387.47926680', '0'], [1710806400000, '67606.83000000', '68115.47000000', '61501.98000000', '61900.01000000', '2885.48213000', 1710892799999, '185772311.72393070', 225244, '1422.83104000', '91644464.04425970', '0'], [1710892800000, '61900.00000000', '68151.01000000', '60750.00000000', '67854.00000000', '3270.71349000', 1710979199999, '208735018.07967080', 245775, '1632.77835000', '104287761.40644180', '0'], [1710979200000, '67843.99000000', '68251.55000000', '64500.00000000', '65485.53000000', '1852.26489000', 1711065599999, '123231266.16707720', 113574, '936.20128000', '62290100.04466020', '0'], [1711065600000, '65485.52000000', '66640.21000000', '62200.00000000', '63844.36000000', '1941.83738000', 1711151999999, '124854262.83936390', 130981, '938.67569000', '60364456.21817760', '0'], [1711152000000, '63825.31000000', '65994.01000000', '62995.84000000', '63997.99000000', '1104.92122000', 1711238399999, '71210751.89598220', 76921, '516.67208000', '33283358.79993700', '0'], [1711238400000, '63998.10000000', '67630.71000000', '63766.40000000', '67178.73000000', '883.55718000', 1711324799999, '57773726.81119140', 72152, '457.89662000', '29942454.72730830', '0'], [1711324800000, '67201.99000000', '71224.99000000', '66369.84000000', '69897.93000000', '1161.41572000', 1711411199999, '79552536.96499860', 97943, '604.03543000', '41364836.88767010', '0'], [1711411200000, '69894.11000000', '71573.37000000', '69301.38000000', '69980.00000000', '713.61849000', 1711497599999, '50236093.23700170', 79283, '365.61104000', '25724602.99182140', '0'], [1711497600000, '69982.08000000', '71787.47000000', '68224.62000000', '69427.66000000', '815.59752000', 1711583999999, '56863689.28323260', 89695, '439.96165000', '30674193.68445740', '0'], [1711584000000, '69427.66000000', '71558.09000000', '68848.58000000', '70796.00000000', '546.53701000', 1711670399999, '38549609.06196100', 59782, '262.40635000', '18504354.12883820', '0'], [1711670400000, '70796.01000000', '70923.49000000', '69043.00000000', '69894.00000000', '566.87779000', 1711756799999, '39689892.26412720', 50935, '292.30947000', '20474219.78319610', '0'], [1711756800000, '69890.00000000', '70354.80000000', '69576.32000000', '69609.64000000', '229.70927000', 1711843199999, '16080146.87682820', 30866, '116.89543000', '8183249.08744050', '0'], [1711843200000, '69612.96000000', '71382.13000000', '69591.79000000', '71308.00000000', '380.97287000', 1711929599999, '26892792.43676370', 37418, '200.61161000', '14162057.79520920', '0'], [1711929600000, '71288.01000000', '71301.68000000', '68066.79000000', '69689.83000000', '555.88818000', 1712015999999, '38630020.67497280', 63238, '246.58019000', '17131181.60733910', '0'], [1712016000000, '69677.99000000', '69703.97000000', '64575.00000000', '65471.27000000', '1020.10753000', 1712102399999, '67613173.71023160', 118343, '504.29056000', '33403448.85950650', '0'], [1712102400000, '65477.34000000', '66944.00000000', '64500.00000000', '65986.02000000', '730.25916000', 1712188799999, '48233619.21366060', 77334, '378.79754000', '25032608.76837420', '0'], [1712188800000, '65987.99000000', '69344.00000000', '65091.44000000', '68514.00000000', '535.36100000', 1712275199999, '36068556.97783980', 70726, '253.70119000', '17086273.93897960', '0'], [1712275200000, '68516.00000000', '68797.12000000', '65999.04000000', '67853.26000000', '544.51437000', 1712361599999, '36750784.19027630', 76360, '264.79856000', '17875611.82339520', '0'], [1712361600000, '67852.00000000', '69683.99000000', '67482.30000000', '68900.16000000', '232.46881000', 1712447999999, '15870549.78120410', 39553, '125.03788000', '8541683.43888820', '0'], [1712448000000, '68902.68000000', '70329.29000000', '68840.00000000', '69357.99000000', '282.69976000', 1712534399999, '19643167.09335160', 37479, '145.53950000', '10116238.45660090', '0'], [1712534400000, '69357.24000000', '72758.94000000', '69026.60000000', '71623.99000000', '706.12338000', 1712620799999, '50517500.10767910', 69956, '379.30309000', '27129763.52925760', '0'], [1712620800000, '71616.35000000', '71752.01000000', '68181.45000000', '69127.84000000', '660.68915000', 1712707199999, '46163655.42375540', 74476, '342.85484000', '23927938.13752180', '0'], [1712707200000, '69125.01000000', '71161.49000000', '67457.03000000', '70625.08000000', '682.40671000', 1712793599999, '47207556.57729960', 76337, '345.90705000', '23942720.51214320', '0'], [1712793600000, '70627.27000000', '71308.32000000', '69555.40000000', '70009.84000000', '863.29424000', 1712879999999, '60829672.97876030', 71526, '416.50899000', '29350192.41140120', '0'], [1712880000000, '70009.84000000', '71238.88000000', '65005.00000000', '67120.26000000', '1044.95599000', 1712966399999, '71590662.24621320', 97167, '516.09713000', '35343548.18603660', '0'], [1712966400000, '67135.50000000', '67949.32000000', '60002.10000000', '64000.00000000', '1636.27045000', 1713052799999, '105460053.24292160', 188146, '832.37883000', '53706718.26903910', '0'], [1713052800000, '63996.00000000', '65903.67000000', '62166.07000000', '65732.05000000', '1421.35208000', 1713139199999, '91070039.62994850', 138591, '655.12660000', '42003980.74763360', '0'], [1713139200000, '65728.01000000', '66950.63000000', '62322.31000000', '63427.99000000', '1215.36354000', 1713225599999, '78887358.33829870', 120774, '625.92883000', '40625349.97211490', '0'], [1713225600000, '63449.24000000', '64392.44000000', '61641.34000000', '63820.00000000', '975.80472000', 1713311999999, '61350733.63081130', 117200, '499.79599000', '31428055.56349240', '0'], [1713312000000, '63820.00000000', '64507.08000000', '59676.87000000', '61273.46000000', '910.59187000', 1713398399999, '56309003.51508360', 119075, '459.56666000', '28428569.48565040', '0'], [1713398400000, '61272.43000000', '64240.49000000', '60813.27000000', '63500.00000000', '960.04358000', 1713484799999, '60238778.13708790', 69222, '527.53351000', '33102766.93615060', '0'], [1713484800000, '63499.99000000', '65582.69000000', '59610.57000000', '63818.00000000', '1371.80407000', 1713571199999, '87249500.61033670', 122078, '776.30592000', '49378691.35001100', '0'], [1713571200000, '63842.00000000', '65453.63000000', '63120.00000000', '64962.57000000', '514.90567000', 1713657599999, '33091359.29762540', 57969, '260.85156000', '16766292.54544110', '0'], [1713657600000, '64962.01000000', '65723.99000000', '64241.27000000', '64937.98000000', '482.42032000', 1713743999999, '31333358.72194160', 45937, '250.87388000', '16295457.59335970', '0'], [1713744000000, '64944.01000000', '67256.00000000', '64522.43000000', '66847.99000000', '732.36859000', 1713830399999, '48388941.70603080', 64210, '374.18467000', '24718465.26040980', '0'], [1713830400000, '66836.51000000', '67215.98000000', '65824.00000000', '66420.00000000', '642.02935000', 1713916799999, '42699216.92331570', 59578, '328.98491000', '21881062.39613890', '0'], [1713916800000, '66418.23000000', '67070.00000000', '63541.35000000', '64252.00000000', '767.27766000', 1714003199999, '50169927.76508220', 54704, '386.28270000', '25252604.60866000', '0'], [1714003200000, '64250.00000000', '65359.34000000', '62752.00000000', '64487.72000000', '823.68470000', 1714089599999, '52850458.97837420', 51075, '385.48105000', '24725630.45387200', '0'], [1714089600000, '64486.86000000', '64794.00000000', '63288.02000000', '63745.99000000', '643.64656000', 1714175999999, '41246286.50764940', 63297, '336.10471000', '21538443.04332580', '0'], [1714176000000, '63745.99000000', '63899.88000000', '62361.43000000', '63421.93000000', '502.41712000', 1714262399999, '31670184.77231300', 59138, '240.30557000', '15148603.71484110', '0'], [1714262400000, '63421.94000000', '64324.75000000', '62749.76000000', '63097.14000000', '365.60659000', 1714348799999, '23253695.43288150', 47058, '183.70888000', '11682710.54113590', '0'], [1714348800000, '63072.01000000', '64182.00000000', '61759.00000000', '63837.42000000', '706.82007000', 1714435199999, '44324042.54848420', 71506, '378.31078000', '23725369.81220460', '0'], [1714435200000, '63852.00000000', '64708.50000000', '59103.99000000', '60620.00000000', '1423.94578000', 1714521599999, '87275218.81331180', 128694, '746.38693000', '45734665.23647230', '0'], [1714521600000, '60618.01000000', '60777.99000000', '56500.00000000', '58265.56000000', '2879.25765000', 1714607999999, '166647824.05505300', 164065, '1465.30720000', '84832656.64711920', '0'], [1714608000000, '58267.89000000', '59638.02000000', '56893.92000000', '59066.67000000', '1608.73397000', 1714694399999, '93930651.31614500', 85892, '794.78866000', '46394206.85052230', '0'], [1714694400000, '59071.99000000', '63374.85000000', '58822.00000000', '62902.01000000', '1522.69953000', 1714780799999, '93303003.57295000', 97489, '837.67994000', '51414865.17549100', '0'], [1714780800000, '62902.00000000', '64551.31000000', '62561.75000000', '63898.01000000', '1104.99889000', 1714867199999, '70107119.38918420', 83329, '557.01248000', '35337277.93620720', '0'], [1714867200000, '63903.97000000', '64656.89000000', '62882.07000000', '64018.01000000', '810.02767000', 1714953599999, '51703785.48267540', 51260, '400.58918000', '25577446.43071180', '0'], [1714953600000, '64026.19000000', '65565.74000000', '62694.66000000', '63170.00000000', '1572.21730000', 1715039999999, '100610737.02872300', 98213, '766.53220000', '49059517.76684400', '0'], [1715040000000, '63167.99000000', '64429.20000000', '62246.80000000', '62318.00000000', '1310.12221000', 1715126399999, '83206595.84515220', 92706, '650.72047000', '41323951.69135800', '0'], [1715126400000, '62312.88000000', '63016.00000000', '60859.02000000', '61176.01000000', '1432.85740000', 1715212799999, '89140851.54557840', 99604, '760.98255000', '47346426.63422210', '0'], [1715212800000, '61154.61000000', '63427.08000000', '60600.00000000', '63065.98000000', '1155.53792000', 1715299199999, '71378615.75536230', 92573, '584.88503000', '36112982.51463150', '0'], [1715299200000, '63065.98000000', '63461.25000000', '60162.49000000', '60789.09000000', '1204.20771000', 1715385599999, '74378348.77261720', 97296, '593.91536000', '36637954.57359180', '0'], [1715385600000, '60789.08000000', '61493.05000000', '60447.51000000', '60814.83000000', '480.00479000', 1715471999999, '29235757.06947490', 59572, '240.09123000', '14622829.72756420', '0'], [1715472000000, '60814.82000000', '61841.99000000', '60584.00000000', '61453.99000000', '441.81132000', 1715558399999, '27037488.10055770', 67307, '245.07782000', '14998404.81268740', '0'], [1715558400000, '61454.00000000', '63446.99000000', '60739.18000000', '62933.01000000', '1112.43167000', 1715644799999, '69469871.50506440', 100216, '578.26122000', '36081715.43108570', '0'], [1715644800000, '62923.80000000', '63108.41000000', '61103.17000000', '61548.17000000', '1088.49059000', 1715731199999, '67422332.82473560', 82106, '625.01970000', '38725588.05919420', '0'], [1715731200000, '61548.16000000', '66479.99000000', '61312.50000000', '66250.00000000', '1738.51055000', 1715817599999, '112134846.49072120', 161673, '816.27843000', '52682673.97962660', '0'], [1715817600000, '66250.00000000', '66768.70000000', '64587.81000000', '65246.00000000', '1290.07934000', 1715903999999, '84861498.91709170', 101200, '609.54539000', '40070954.47647500', '0'], [1715904000000, '65245.99000000', '67480.46000000', '65119.60000000', '67044.03000000', '1036.46607000', 1715990399999, '68833435.08448970', 82440, '521.12103000', '34601586.52204270', '0'], [1715990400000, '67044.03000000', '67401.49000000', '66610.86000000', '66924.23000000', '508.89993000', 1716076799999, '34089877.67250700', 69449, '259.81731000', '17405443.22924490', '0'], [1716076800000, '66924.23000000', '67751.09000000', '65862.81000000', '66266.30000000', '510.92520000', 1716163199999, '34169232.46741660', 57654, '254.76067000', '17046275.66058570', '0'], [1716163200000, '66262.00000000', '71646.46000000', '66066.29000000', '71452.00000000', '1927.86449000', 1716249599999, '132681294.34402940', 183339, '1084.05993000', '74734332.50787790', '0'], [1716249600000, '71452.01000000', '72000.00000000', '69148.00000000', '70138.83000000', '1645.89112000', 1716335999999, '116403772.30284390', 260780, '883.91534000', '62548244.11455810', '0'], [1716336000000, '70139.98000000', '70650.65000000', '68813.27000000', '69124.01000000', '724.38077000', 1716422399999, '50565036.22572910', 87227, '362.30719000', '25289206.28964580', '0'], [1716422400000, '69157.58000000', '70045.69000000', '66213.31000000', '67940.55000000', '1029.38924000', 1716508799999, '70338024.26751960', 137265, '551.20823000', '37657957.14866770', '0'], [1716508800000, '67921.05000000', '69242.35000000', '66598.08000000', '68543.99000000', '1081.01729000', 1716595199999, '73485159.95061650', 96530, '454.64789000', '30874480.36763850', '0'], [1716595200000, '68543.99000000', '69638.58000000', '68492.55000000', '69276.84000000', '312.35789000', 1716681599999, '21542304.26661330', 48439, '160.49701000', '11067365.25050360', '0'], [1716681600000, '69287.99000000', '69533.75000000', '68043.05000000', '68476.02000000', '322.87709000', 1716767999999, '22263752.14195270', 53920, '151.99967000', '10480923.28803250', '0'], [1716768000000, '68476.01000000', '70612.18000000', '68202.98000000', '69372.01000000', '707.89371000', 1716854399999, '49069028.88733070', 101899, '374.61126000', '25961208.00409760', '0'], [1716854400000, '69372.01000000', '69529.41000000', '67195.91000000', '68328.60000000', '895.73911000', 1716940799999, '61042728.48957610', 84045, '464.00306000', '31618659.60442630', '0'], [1716940800000, '68328.61000000', '68854.61000000', '67085.25000000', '67565.51000000', '677.77840000', 1717027199999, '45961885.00315890', 73604, '358.77997000', '24331351.50575410', '0'], [1717027200000, '67565.26000000', '69495.21000000', '67098.76000000', '68328.01000000', '856.23570000', 1717113599999, '58472924.13086930', 106560, '343.70955000', '23482554.97948050', '0'], [1717113600000, '68332.85000000', '69004.00000000', '66604.00000000', '67466.43000000', '788.48000000', 1717199999999, '53466785.49025260', 99516, '440.94735000', '29868144.53293910', '0'], [1717200000000, '67472.00000000', '67831.43000000', '67345.64000000', '67716.00000000', '236.89611000', 1717286399999, '16022562.62664010', 44922, '123.48716000', '8351993.11761380', '0'], [1717286400000, '67716.00000000', '68416.26000000', '67256.01000000', '67731.99000000', '338.06009000', 1717372799999, '22925342.47412780', 54270, '167.64465000', '11369364.87307930', '0'], [1717372800000, '67731.98000000', '70294.78000000', '67576.54000000', '68796.01000000', '798.03092000', 1717459199999, '55148463.28869260', 67519, '401.94912000', '27772483.30067360', '0'], [1717459200000, '68796.00000000', '71080.00000000', '68549.54000000', '70544.37000000', '1226.98052000', 1717545599999, '86088638.81579510', 205914, '559.56689000', '39228676.27314310', '0'], [1717545600000, '70544.37000000', '71771.68000000', '70384.02000000', '71110.36000000', '1522.32085000', 1717631999999, '108151071.61097780', 63124, '763.78407000', '54241883.31695330', '0'], [1717632000000, '71114.94000000', '71643.99000000', '70100.81000000', '70771.35000000', '970.92274000', 1717718399999, '68926565.88998960', 56753, '456.66717000', '32420222.33497720', '0'], [1717718400000, '70771.36000000', '71990.00000000', '68368.00000000', '69322.37000000', '1462.02731000', 1717804799999, '103071264.53227420', 134021, '771.65816000', '54388841.60451630', '0'], [1717804800000, '69322.36000000', '69552.00000000', '69149.43000000', '69296.08000000', '332.91721000', 1717891199999, '23094841.37990560', 46237, '183.82352000', '12750997.54939760', '0'], [1717891200000, '69296.08000000', '69851.68000000', '69120.65000000', '69636.26000000', '269.92530000', 1717977599999, '18762543.06691680', 38341, '150.52409000', '10463236.78620550', '0'], [1717977600000, '69636.26000000', '70177.68000000', '69164.29000000', '69509.84000000', '816.77464000', 1718063999999, '56847539.59944000', 78636, '498.20977000', '34669157.33418000', '0'], [1718064000000, '69504.00000000', '69555.55000000', '66001.00000000', '67312.95000000', '1900.84755000', 1718150399999, '128181615.23731290', 156970, '1023.32534000', '68975331.76736120', '0'], [1718150400000, '67310.18000000', '70020.00000000', '66895.99000000', '68244.18000000', '1755.86814000', 1718236799999, '120291878.11576400', 124564, '874.11596000', '59830816.97596250', '0'], [1718236800000, '68244.18000000', '68447.24000000', '66247.23000000', '66748.71000000', '1404.63872000', 1718323199999, '94488467.27902030', 177702, '727.48475000', '48913838.64991030', '0'], [1718323200000, '66748.71000000', '67328.70000000', '65032.00000000', '66008.00000000', '1481.57377000', 1718409599999, '98327544.27351590', 333733, '792.83660000', '52590776.47050200', '0'], [1718409600000, '66004.01000000', '66435.99000000', '65824.00000000', '66184.14000000', '388.85911000', 1718495999999, '25728364.51144500', 65048, '212.78684000', '14079162.68378030', '0'], [1718496000000, '66184.13000000', '66916.62000000', '66000.00000000', '66636.54000000', '331.09157000', 1718582399999, '22009781.32333910', 51143, '172.58255000', '11470974.05552810', '0'], [1718582400000, '66636.54000000', '67251.99000000', '65066.20000000', '66478.00000000', '1502.59408000', 1718668799999, '99275244.98066420', 181040, '802.36333000', '52970592.96348400', '0'], [1718668800000, '66467.53000000', '66563.34000000', '64011.00000000', '65148.98000000', '1865.86492000', 1718755199999, '121376016.61060380', 179282, '903.87274000', '58778576.24824420', '0'], [1718755200000, '65148.98000000', '65711.74000000', '64654.00000000', '64946.09000000', '1021.16237000', 1718841599999, '66525328.58839230', 82828, '492.01125000', '32050496.73598020', '0'], [1718841600000, '64946.49000000', '66454.00000000', '64514.01000000', '64838.01000000', '1574.96305000', 1718927999999, '102795986.01356780', 145839, '872.48070000', '56907244.58127830', '0'], [1718928000000, '64838.00000000', '65163.37000000', '63347.99000000', '64114.00000000', '1461.46374000', 1719014399999, '93574478.01966440', 154030, '869.86786000', '55650036.18908140', '0'], [1719014400000, '64113.99000000', '64496.44000000', '63912.01000000', '64236.01000000', '349.57972000', 1719100799999, '22473413.74241960', 62637, '178.90779000', '11500803.90403800', '0'], [1719100800000, '64236.01000000', '64496.00000000', '63136.84000000', '63167.97000000', '331.26432000', 1719187199999, '21186502.79448080', 64806, '156.31686000', '9997617.06788440', '0'], [1719187200000, '63175.36000000', '63336.63000000', '58416.86000000', '60281.77000000', '2407.09677000', 1719273599999, '146718609.82560430', 268330, '1260.47410000', '76906130.69602990', '0'], [1719273600000, '60262.79000000', '62402.00000000', '60222.00000000', '61792.00000000', '2311.26352000', 1719359999999, '141930756.13196570', 144965, '1095.12624000', '67224397.12974190', '0'], [1719360000000, '61794.58000000', '62472.34000000', '60682.77000000', '60828.17000000', '1470.94240000', 1719446399999, '90271908.79265390', 97414, '844.59743000', '51805783.63157060', '0'], [1719446400000, '60828.18000000', '62346.00000000', '60559.38000000', '61629.99000000', '1343.31986000', 1719532799999, '82458882.35929460', 106848, '745.96575000', '45742520.70244140', '0'], [1719532800000, '61629.98000000', '62168.73000000', '59100.00000000', '60328.00000000', '1839.26170000', 1719619199999, '112375056.98131300', 146287, '982.35946000', '59966504.84735590', '0'], [1719619200000, '60327.99000000', '61133.32000000', '60292.41000000', '60898.03000000', '922.05764000', 1719705599999, '56072189.02442240', 101911, '567.97063000', '34532907.61026060', '0'], [1719705600000, '60898.02000000', '62959.29000000', '60623.32000000', '62684.00000000', '941.68281000', 1719791999999, '58134026.01280840', 131390, '500.48522000', '30902651.75482580', '0'], [1719792000000, '62683.85000000', '63819.01000000', '62463.00000000', '62849.60000000', '1865.34789000', 1719878399999, '117745302.87289000', 135043, '830.25610000', '52379914.36970130', '0'], [1719878400000, '62831.87000000', '63220.54000000', '61738.30000000', '62045.59000000', '1319.32122000', 1719964799999, '82293364.75536380', 119998, '738.90120000', '46088718.87601570', '0'], [1719964800000, '62045.59000000', '62198.00000000', '59334.00000000', '60150.00000000', '2080.29502000', 1720051199999, '125580900.73426310', 218283, '1032.68340000', '62326314.49313920', '0'], [1720051200000, '60150.00000000', '60435.75000000', '56721.00000000', '57046.01000000', '3334.00328000', 1720137599999, '193540600.18989110', 319074, '1569.59035000', '91050116.98781270', '0'], [1720137600000, '57038.02000000', '57512.11000000', '53417.77000000', '56638.00000000', '4855.65759000', 1720223999999, '269500902.59920750', 514343, '2040.90534000', '113172921.09419290', '0'], [1720224000000, '56637.99000000', '58499.00000000', '56031.49000000', '58234.01000000', '1905.28443000', 1720310399999, '108806220.90467430', 185857, '936.06413000', '53493018.83908250', '0'], [1720310400000, '58245.18000000', '58452.04000000', '55723.87000000', '55860.01000000', '1659.13727000', 1720396799999, '94988246.83208730', 145246, '750.11425000', '42945612.59218390', '0'], [1720396800000, '55860.00000000', '58207.68000000', '54117.50000000', '56708.01000000', '3592.35827000', 1720483199999, '202084362.95870800', 315533, '1834.87805000', '103302756.61727900', '0'], [1720483200000, '56702.00000000', '58326.66000000', '56239.70000000', '58046.00000000', '2390.53607000', 1720569599999, '137306586.55306700', 213399, '1227.78458000', '70531099.73712030', '0'], [1720569600000, '58046.00000000', '59475.52000000', '57159.55000000', '57749.79000000', '2007.86187000', 1720655999999, '116875414.47745210', 208078, '1020.85046000', '59430358.05016350', '0'], [1720656000000, '57721.25000000', '59600.00000000', '57010.10000000', '57345.98000000', '2059.23289000', 1720742399999, '119485819.88359910', 279510, '1026.32647000', '59557329.52489600', '0'], [1720742400000, '57338.00000000', '58542.14000000', '56537.08000000', '57900.00000000', '2161.50589000', 1720828799999, '124296274.19178350', 261832, '1076.26148000', '61871223.15786820', '0'], [1720828800000, '57902.00000000', '59876.77000000', '57774.00000000', '59221.11000000', '1210.48880000', 1720915199999, '70860885.62615030', 203442, '637.15562000', '37290897.81334630', '0'], [1720915200000, '59221.11000000', '61439.97000000', '59212.00000000', '60811.99000000', '2305.65244000', 1721001599999, '138613549.52340360', 355593, '1123.96475000', '67586632.90839550', '0'], [1721001600000, '60812.00000000', '64940.00000000', '60675.67000000', '64757.99000000', '3652.73998000', 1721087999999, '230150394.77608340', 746551, '1652.88441000', '104149200.97854780', '0'], [1721088000000, '64758.00000000', '65413.16000000', '62420.00000000', '65079.45000000', '4186.53600000', 1721174399999, '268553218.45138670', 609191, '2063.20053000', '132313148.34455640', '0'], [1721174400000, '65082.54000000', '66146.03000000', '63845.00000000', '64095.00000000', '2765.88098000', 1721260799999, '179730458.97640430', 492207, '1291.13371000', '83919100.56154840', '0'], [1721260800000, '64092.00000000', '65123.99000000', '63230.00000000', '63978.00000000', '2370.18885000', 1721347199999, '152185365.91543290', 436103, '1171.62450000', '75229758.75908790', '0'], [1721347200000, '63977.99000000', '67433.09000000', '63300.00000000', '66701.72000000', '3803.10942000', 1721433599999, '249326382.52122560', 755552, '1638.06992000', '107328430.98871990', '0'], [1721433600000, '66701.72000000', '67635.00000000', '66256.00000000', '67161.44000000', '1692.97825000', 1721519999999, '113296848.30695180', 259158, '732.96612000', '49068091.67601600', '0'], [1721520000000, '67164.00000000', '68392.00000000', '65790.74000000', '68174.00000000', '2814.78775000', 1721606399999, '189402986.73948080', 332418, '1342.01964000', '90326414.68930920', '0'], [1721606400000, '68174.01000000', '68494.00000000', '66587.52000000', '67562.00000000', '2302.65743000', 1721692799999, '155586906.00253950', 364165, '1114.04137000', '75256165.26217890', '0'], [1721692800000, '67560.00000000', '67778.01000000', '65468.00000000', '65949.19000000', '2977.27922000', 1721779199999, '197860367.75137120', 441109, '1623.16800000', '107831850.02036720', '0'], [1721779200000, '65949.19000000', '67122.00000000', '65099.62000000', '65374.00000000', '2032.46036000', 1721865599999, '134420146.40645640', 259770, '1027.62013000', '67978783.75195980', '0'], [1721865600000, '65374.00000000', '66152.01000000', '63440.01000000', '65787.81000000', '2360.64503000', 1721951999999, '152481361.79890390', 240487, '1219.70733000', '78773691.71419240', '0'], [1721952000000, '65788.00000000', '68210.01000000', '65712.01000000', '67918.01000000', '2962.25247000', 1722038399999, '199411855.37703190', 228295, '1427.77364000', '96155040.95711730', '0'], [1722038400000, '67919.00000000', '69415.69000000', '66664.22000000', '67900.01000000', '2816.13476000', 1722124799999, '192261979.28512240', 273548, '1412.99090000', '96467662.49085570', '0'], [1722124800000, '67901.99000000', '68314.01000000', '67062.01000000', '68248.00000000', '1101.66899000', 1722211199999, '74676694.64326910', 138863, '549.99730000', '37277706.85490450', '0'], [1722211200000, '68248.01000000', '70052.00000000', '66424.05000000', '66778.01000000', '3880.36506000', 1722297599999, '265282542.35000960', 349096, '1899.95347000', '129932050.08586170', '0'], [1722297600000, '66778.01000000', '66990.90000000', '65286.00000000', '66174.01000000', '2528.15559000', 1722383999999, '167490699.38572830', 244699, '1289.41444000', '85432335.53821930', '0'], [1722384000000, '66174.00000000', '66829.72000000', '64506.00000000', '64618.00000000', '2468.95901000', 1722470399999, '162516868.47796760', 253029, '1221.23528000', '80410329.47647080', '0'], [1722470400000, '64614.00000000', '65598.71000000', '62240.01000000', '65296.00000000', '3405.60942000', 1722556799999, '217287626.55272780', 363250, '1766.32211000', '112673576.34643350', '0'], [1722556800000, '65294.00000000', '65542.00000000', '61162.01000000', '61424.22000000', '3929.16080000', 1722643199999, '249947244.27659970', 352729, '1876.32474000', '119314148.21575140', '0'], [1722643200000, '61424.21000000', '62181.59000000', '59815.99000000', '60676.00000000', '2827.39520000', 1722729599999, '172422682.76445050', 186723, '1375.75570000', '83891325.35370040', '0'], [1722729600000, '60675.44000000', '61080.04000000', '57120.00000000', '58134.00000000', '3074.47758000', 1722815999999, '181925844.68116820', 219459, '1465.84060000', '86795834.04091120', '0'], [1722816000000, '58139.99000000', '58280.01000000', '49001.00000000', '54044.80000000', '15075.19903000', 1722902399999, '799539751.93443920', 1024020, '7294.30751000', '387072211.66196560', '0'], [1722902400000, '54047.99000000', '57113.22000000', '53952.77000000', '56052.00000000', '4326.53462000', 1722988799999, '241600339.35281640', 279997, '2018.59554000', '112740920.25788280', '0'], [1722988800000, '56047.14000000', '57757.99000000', '54576.39000000', '55147.74000000', '3693.48066000', 1723075199999, '207712914.63026670', 226712, '1819.98828000', '102350427.87265610', '0'], [1723075200000, '55147.74000000', '62887.50000000', '54747.99000000', '61707.91000000', '4474.27185000', 1723161599999, '263765370.01701950', 375380, '2169.93127000', '128144260.48394220', '0'], [1723161600000, '61705.24000000', '61763.99000000', '59562.44000000', '60866.00000000', '3009.35302000', 1723247999999, '182465197.83055430', 206025, '1516.72519000', '91971336.12619290', '0'], [1723248000000, '60865.99000000', '61500.00000000', '60264.84000000', '60938.00000000', '950.35034000', 1723334399999, '57760891.09929300', 70988, '474.66891000', '28845024.00827910', '0'], [1723334400000, '60936.01000000', '61875.36000000', '58313.31000000', '58723.25000000', '1772.36277000', 1723420799999, '106373396.83162340', 123855, '859.08530000', '51524289.26651380', '0'], [1723420800000, '58724.00000000', '60717.65000000', '57666.37000000', '59361.66000000', '3585.26220000', 1723507199999, '211734309.59895100', 261606, '1861.92005000', '109979337.65926630', '0'], [1723507200000, '59359.50000000', '61604.96000000', '58426.04000000', '60611.99000000', '2261.04353000', 1723593599999, '135634728.00753480', 145334, '1098.91096000', '65907006.80074140', '0'], [1723593600000, '60606.01000000', '61844.14000000', '58444.18000000', '58698.80000000', '2545.16447000', 1723679999999, '152814423.58806780', 176866, '1219.31157000', '73237662.01751070', '0'], [1723680000000, '58697.75000000', '59858.89000000', '56127.11000000', '57554.76000000', '5577.71914000', 1723766399999, '324963029.13586530', 366504, '3899.53230000', '227219342.31931210', '0'], [1723766400000, '57551.48000000', '59849.99000000', '57100.00000000', '58891.19000000', '2581.74850000', 1723852799999, '151330208.13481160', 139883, '1262.69162000', '73997676.55131250', '0'], [1723852800000, '58896.98000000', '59715.16000000', '58818.46000000', '59500.85000000', '943.70471000', 1723939199999, '55947300.08037690', 65001, '513.30143000', '30429474.89349850', '0'], [1723939200000, '59502.07000000', '60283.34000000', '58425.73000000', '58434.36000000', '1102.66642000', 1724025599999, '65762643.48103060', 88563, '589.75464000', '35175666.08871070', '0'], [1724025600000, '58434.36000000', '59639.56000000', '57816.39000000', '59459.36000000', '1829.60790000', 1724111999999, '107272929.07030020', 107295, '886.20494000', '51961794.42038630', '0'], [1724112000000, '59459.35000000', '61442.78000000', '58568.58000000', '59020.01000000', '2571.27744000', 1724198399999, '154351346.31995340', 150055, '1242.37855000', '74519773.82167680', '0'], [1724198400000, '59020.00000000', '61852.00000000', '58782.43000000', '61170.01000000', '3158.09930000', 1724284799999, '190116114.72691700', 186887, '1364.60543000', '82163873.30625040', '0'], [1724284800000, '61175.29000000', '61430.74000000', '59748.37000000', '60391.85000000', '2228.39831000', 1724371199999, '135292455.67133560', 156357, '821.18095000', '49831700.74597130', '0'], [1724371200000, '60391.85000000', '65000.98000000', '60348.01000000', '64095.23000000', '4404.20946000', 1724457599999, '275038078.43174900', 359380, '2113.56947000', '132348808.31364480', '0'], [1724457600000, '64096.50000000', '64536.32000000', '63568.00000000', '64188.00000000', '2087.32205000', 1724543999999, '133788849.83087840', 159111, '881.66608000', '56507438.77602070', '0'], [1724544000000, '64184.01000000', '65087.87000000', '63801.04000000', '64270.00000000', '1463.25671000', 1724630399999, '94010971.42701450', 174204, '585.65899000', '37637024.59534480', '0'], [1724630400000, '64254.61000000', '64511.99000000', '62811.26000000', '62852.02000000', '2157.25241000', 1724716799999, '137231165.39913430', 214535, '959.76340000', '61052340.18168500', '0'], [1724716800000, '62852.01000000', '63227.28000000', '58028.47000000', '59435.70000000', '3402.97728000', 1724803199999, '208811528.83335850', 364777, '1622.30914000', '99578826.05495470', '0'], [1724803200000, '59437.99000000', '60231.29000000', '57831.01000000', '59046.22000000', '4476.26108000', 1724889599999, '265013058.91178130', 515693, '2013.87782000', '119246744.12832570', '0'], [1724889600000, '59056.00000000', '61194.22000000', '58729.83000000', '59372.12000000', '3503.07568000', 1724975999999, '209883083.71014710', 304098, '1612.11822000', '96545615.35867140', '0'], [1724976000000, '59364.32000000', '59950.00000000', '57710.00000000', '59119.47000000', '3914.64673000', 1725062399999, '230841568.02640530', 335843, '1871.76337000', '110336261.30936660', '0'], [1725062400000, '59122.00000000', '59456.00000000', '58742.75000000', '58972.27000000', '900.10719000', 1725148799999, '53168086.63823960', 77411, '401.33327000', '23704338.78041640', '0'], [1725148800000, '58968.00000000', '59076.00000000', '57200.00000000', '57301.35000000', '2327.48176000', 1725235199999, '135142235.01213010', 197370, '1050.67909000', '60993414.30868270', '0'], [1725235200000, '57300.00000000', '59427.67000000', '57124.01000000', '59138.00000000', '2563.28345000', 1725321599999, '149222473.72697790', 147691, '1221.06295000', '71081116.64184070', '0'], [1725321600000, '59140.00000000', '59820.00000000', '57388.84000000', '57476.40000000', '2814.15996000', 1725407999999, '164295538.41200460', 173521, '1385.31180000', '80836467.77459890', '0'], [1725408000000, '57472.01000000', '58576.90000000', '55588.21000000', '57972.16000000', '3938.98020000', 1725494399999, '224786647.47088190', 222186, '1909.41200000', '108941003.62687750', '0'], [1725494400000, '57972.17000000', '58333.18000000', '55600.99000000', '56165.69000000', '3146.72042000', 1725580799999, '178394417.71412870', 214434, '1640.54736000', '92980495.16743240', '0'], [1725580800000, '56162.00000000', '57023.49000000', '52527.66000000', '53949.96000000', '6902.35019000', 1725667199999, '378515151.47467040', 381779, '3388.38796000', '185791360.56985240', '0'], [1725667200000, '53947.34000000', '54846.00000000', '53734.01000000', '54146.00000000', '2116.15021000', 1725753599999, '114824398.35825010', 139200, '1007.75684000', '54680542.08375190', '0'], [1725753600000, '54160.00000000', '55317.05000000', '53626.53000000', '54874.00000000', '2112.54987000', 1725839999999, '114924520.22091690', 146260, '1012.43689000', '55079793.34405120', '0'], [1725840000000, '54874.00000000', '58100.00000000', '54584.01000000', '57052.05000000', '4984.77742000', 1725926399999, '278548069.72739430', 266373, '2475.27099000', '138342247.43046290', '0'], [1725926400000, '57052.05000000', '58050.00000000', '56378.69000000', '57647.33000000', '3311.28926000', 1726012799999, '189251453.36852970', 223893, '1667.14078000', '95274433.26974530', '0'], [1726012800000, '57647.34000000', '57996.70000000', '55550.01000000', '57352.86000000', '4910.82239000', 1726099199999, '278867401.99925090', 387988, '2376.04401000', '134842850.14101630', '0'], [1726099200000, '57347.69000000', '58599.45000000', '57332.00000000', '58139.98000000', '4046.55713000', 1726185599999, '234788077.59039080', 482677, '1885.87903000', '109421604.33375570', '0'], [1726185600000, '58139.99000000', '60676.53000000', '57634.00000000', '60545.92000000', '4090.43885000', 1726271999999, '241443071.99727690', 318488, '1747.50501000', '103168376.09982810', '0'], [1726272000000, '60541.13000000', '60668.00000000', '59417.53000000', '60011.32000000', '1862.79748000', 1726358399999, '112078798.82077230', 166236, '855.54482000', '51452902.38903390', '0'], [1726358400000, '60011.32000000', '60407.39000000', '58701.38000000', '59140.22000000', '1917.38375000', 1726444799999, '114668754.63921320', 184423, '933.56968000', '55838299.23089270', '0'], [1726444800000, '59134.00000000', '59214.11000000', '57425.00000000', '58214.10000000', '3577.57227000', 1726531199999, '208549439.88665910', 186777, '1870.94560000', '109084698.03250050', '0'], [1726531200000, '58212.00000000', '61359.37000000', '57622.01000000', '60326.00000000', '4808.32371000', 1726617599999, '287871899.35052160', 241515, '2461.35176000', '147283152.53522450', '0'], [1726617600000, '60326.00000000', '61790.17000000', '59177.01000000', '61768.01000000', '3896.99969000', 1726703999999, '234725223.42292750', 241630, '1952.15591000', '117629450.32619060', '0'], [1726704000000, '61777.13000000', '63875.21000000', '61587.62000000', '62966.04000000', '4236.52802000', 1726790399999, '265900089.02078360', 194490, '2020.75196000', '126817729.43483840', '0'], [1726790400000, '62971.37000000', '64138.87000000', '62350.00000000', '63212.14000000', '3030.10700000', 1726876799999, '191707466.44795450', 125405, '1525.24265000', '96497270.05210400', '0'], [1726876800000, '63212.14000000', '63571.42000000', '62762.29000000', '63361.55000000', '792.98702000', 1726963199999, '50058694.41903290', 52047, '370.76193000', '23404492.55373630', '0'], [1726963200000, '63361.55000000', '64006.00000000', '62368.08000000', '63586.00000000', '1560.26788000', 1727049599999, '98386941.55639430', 85025, '751.65532000', '47407925.60626700', '0'], [1727049600000, '63587.99000000', '64793.79000000', '62562.51000000', '63341.61000000', '2736.20511000', 1727135999999, '173925792.49863080', 166213, '1392.92132000', '88510573.53784430', '0'], [1727136000000, '63341.61000000', '64696.29000000', '62705.17000000', '64271.78000000', '3071.74211000', 1727222399999, '195331860.26305210', 225880, '1416.72914000', '90057216.30452840', '0'], [1727222400000, '64275.37000000', '64826.00000000', '62923.50000000', '63143.44000000', '2090.27121000', 1727308799999, '133174976.28929330', 207232, '974.91680000', '62108581.46121280', '0'], [1727308800000, '63139.81000000', '65848.90000000', '62663.27000000', '65185.43000000', '3578.06984000', 1727395199999, '231321336.30056940', 337875, '1686.61319000', '108971138.78554840', '0'], [1727395200000, '65185.42000000', '66523.17000000', '64830.01000000', '65786.34000000', '2803.78020000', 1727481599999, '184284357.26338660', 272812, '1280.48200000', '84151073.92310250', '0'], [1727481600000, '65788.95000000', '66278.99000000', '65433.68000000', '65868.35000000', '1124.82912000', 1727567999999, '73971998.39548570', 160601, '586.35551000', '38565819.21133860', '0'], [1727568000000, '65868.35000000', '66088.00000000', '65442.88000000', '65612.88000000', '988.95867000', 1727654399999, '65018754.49866840', 140109, '471.90540000', '31026593.87973500', '0'], [1727654400000, '65612.88000000', '65635.74000000', '62829.38000000', '63317.61000000', '3392.60460000', 1727740799999, '216933308.71182430', 286721, '1702.21367000', '108813576.63629990', '0'], [1727740800000, '63313.49000000', '64117.03000000', '60154.02000000', '60804.88000000', '5558.19630000', 1727827199999, '346587612.49878810', 324862, '2699.54981000', '168538671.95900460', '0'], [1727827200000, '60800.01000000', '62378.76000000', '59964.88000000', '60638.23000000', '3641.32080000', 1727913599999, '222743139.75800740', 160808, '1726.34554000', '105588380.87579090', '0'], [1727913600000, '60638.23000000', '61474.47000000', '59851.34000000', '60750.52000000', '3396.98866000', 1727999999999, '205923051.86859370', 130113, '1667.57036000', '101077390.27326750', '0'], [1728000000000, '60750.53000000', '62490.00000000', '60465.60000000', '62089.66000000', '3453.69412000', 1728086399999, '212911224.24056500', 126772, '1664.80770000', '102644501.58740250', '0'], [1728086400000, '62092.57000000', '62382.34000000', '61690.15000000', '62054.41000000', '947.06626000', 1728172799999, '58794900.69544530', 53369, '452.98277000', '28123668.15788650', '0'], [1728172800000, '62054.41000000', '63045.59000000', '61806.10000000', '62821.62000000', '1058.96357000', 1728259199999, '66125265.04649300', 58345, '508.09217000', '31732276.16752010', '0'], [1728259200000, '62821.62000000', '64451.58000000', '62116.00000000', '62223.08000000', '3986.87427000', 1728345599999, '252769804.21400190', 139477, '1987.96152000', '126034689.83756550', '0'], [1728345600000, '62213.17000000', '63189.33000000', '61842.03000000', '62130.33000000', '3192.98525000', 1728431999999, '199279358.89307720', 114568, '1682.43441000', '105011792.56463530', '0'], [1728432000000, '62130.33000000', '62517.98000000', '60250.19000000', '60588.93000000', '2802.31144000', 1728518399999, '172672997.20864750', 102192, '1350.18146000', '83198782.11312430', '0'], [1728518400000, '60587.31000000', '61312.01000000', '58868.76000000', '60281.22000000', '3740.63012000', 1728604799999, '225450338.64169920', 133533, '1747.46864000', '105330779.29282980', '0'], [1728604800000, '60281.23000000', '63428.42000000', '60035.97000000', '62525.00000000', '3794.61812000', 1728691199999, '235164254.07997450', 137086, '1738.64918000', '107748595.06173480', '0'], [1728691200000, '62529.40000000', '63513.69000000', '62474.66000000', '63197.99000000', '1414.40413000', 1728777599999, '89088163.04331920', 73988, '662.52184000', '41726617.38881220', '0'], [1728777600000, '63197.99000000', '63279.41000000', '62041.45000000', '62850.21000000', '1500.22294000', 1728863999999, '94010779.21062880', 77632, '704.89930000', '44170589.60225250', '0'], [1728864000000, '62850.21000000', '66511.00000000', '62438.01000000', '66075.54000000', '4819.13578000', 1728950399999, '313282860.05588690', 183954, '2533.40977000', '164509744.16401350', '0'], [1728950400000, '66075.51000000', '67943.15000000', '64790.12000000', '67072.02000000', '5333.83428000', 1729036799999, '353831658.41963410', 210609, '2670.32011000', '177166898.49766340', '0'], [1729036800000, '67072.01000000', '68424.05000000', '66747.77000000', '67614.92000000', '4304.36405000', 1729123199999, '290973932.44493410', 160583, '2012.87624000', '136070716.64690660', '0'], [1729123200000, '67614.92000000', '67932.87000000', '66632.38000000', '67409.99000000', '3141.64335000', 1729209599999, '211126296.63691000', 112410, '1533.03666000', '103022761.24866670', '0'], [1729209600000, '67409.99000000', '69024.69000000', '67172.45000000', '68428.56000000', '4514.64255000', 1729295999999, '308013201.44219720', 161854, '2131.05755000', '145378349.78904520', '0'], [1729296000000, '68434.00000000', '68692.00000000', '67990.61000000', '68373.48000000', '1052.64171000', 1729382399999, '71897021.06682050', 66632, '492.64287000', '33652290.29416800', '0'], [1729382400000, '68373.48000000', '69390.00000000', '68091.97000000', '69024.01000000', '1600.20602000', 1729468799999, '109828326.16334970', 85702, '750.73982000', '51529561.12482560', '0'], [1729468800000, '69024.01000000', '69516.00000000', '66815.00000000', '67364.01000000', '3907.29688000', 1729555199999, '265478945.90889800', 156107, '1895.18096000', '128733224.04953940', '0'], [1729555200000, '67364.00000000', '67808.00000000', '66563.54000000', '67394.09000000', '2702.36051000', 1729641599999, '181734940.13527720', 151087, '1268.10139000', '85281105.05150830', '0'], [1729641600000, '67396.15000000', '67438.99000000', '65187.76000000', '66611.22000000', '3476.64262000', 1729727999999, '230671670.72903630', 166191, '1678.89489000', '111340000.02858340', '0'], [1729728000000, '66611.22000000', '68821.14000000', '66405.80000000', '68168.01000000', '3019.58818000', 1729814399999, '203987577.35846930', 157747, '1343.17896000', '90753672.63424120', '0'], [1729814400000, '68168.02000000', '68739.00000000', '65506.34000000', '66578.02000000', '4382.90981000', 1729900799999, '294624648.59689900', 241703, '2059.66829000', '138427742.51100950', '0'], [1729900800000, '66573.96000000', '67371.19000000', '66344.41000000', '67018.00000000', '1307.19788000', 1729987199999, '87383275.27672160', 104867, '632.71203000', '42299440.52187170', '0'], [1729987200000, '67018.00000000', '68261.99000000', '66856.36000000', '67948.00000000', '1079.62262000', 1730073599999, '72989453.24687180', 125931, '540.36011000', '36541728.43585330', '0'], [1730073600000, '67948.00000000', '70266.03000000', '67508.10000000', '69926.54000000', '3629.44410000', 1730159999999, '250616814.87764380', 191829, '1841.97833000', '127323575.08255690', '0'], [1730160000000, '69929.60000000', '73637.46000000', '69718.01000000', '72725.74000000', '5089.89505000', 1730246399999, '366023208.97497260', 260889, '2672.89432000', '192176772.36469770', '0'], [1730246400000, '72724.97000000', '72950.00000000', '71400.01000000', '72329.01000000', '2844.88646000', 1730332799999, '205304451.86314360', 163939, '1376.10995000', '99310129.99599970', '0'], [1730332800000, '72328.84000000', '72684.79000000', '69580.44000000', '70206.23000000', '3398.17684000', 1730419199999, '241702982.79483800', 188176, '1699.00323000', '120736870.62938220', '0'], [1730419200000, '70207.02000000', '71596.71000000', '68772.42000000', '69462.18000000', '4564.52406000', 1730505599999, '319131096.08344530', 257384, '2250.08287000', '157326541.36948650', '0'], [1730505600000, '69465.99000000', '69889.21000000', '69004.21000000', '69359.26000000', '1341.30463000', 1730591999999, '93243933.24806850', 78335, '725.78952000', '50464249.42264090', '0'], [1730592000000, '69359.27000000', '69375.99000000', '67450.00000000', '68748.00000000', '2721.84881000', 1730678399999, '186092235.44219370', 144248, '1368.66182000', '93594934.74260040', '0'], [1730678400000, '68751.45000000', '69458.22000000', '66787.99000000', '67822.85000000', '3147.27606000', 1730764799999, '214477191.15465280', 146262, '1601.02557000', '109130273.60710330', '0'], [1730764800000, '67810.71000000', '70534.31000000', '67439.90000000', '69375.88000000', '4278.70839000', 1730851199999, '296625894.77827270', 186835, '2109.85323000', '146244997.12985960', '0'], [1730851200000, '69376.70000000', '76499.99000000', '67733.88000000', '75649.99000000', '14949.34515000', 1730937599999, '1104637246.53887180', 535285, '7936.91393000', '585890655.24331530', '0'], [1730937600000, '75649.98000000', '76969.08000000', '74480.01000000', '75925.29000000', '4651.40631000', 1731023999999, '352198444.24699240', 202010, '2272.08487000', '172095516.35539520', '0'], [1731024000000, '75928.80000000', '77277.98000000', '75653.22000000', '76571.77000000', '5530.11229000', 1731110399999, '422108508.97568850', 207435, '2677.83824000', '204419430.23697010', '0'], [1731110400000, '76571.77000000', '76950.00000000', '75760.00000000', '76718.99000000', '1694.69771000', 1731196799999, '129560852.33108470', 100530, '741.49997000', '56698782.60868820', '0'], [1731196800000, '76723.17000000', '81572.11000000', '76546.23000000', '80440.00000000', '7046.83335000', 1731283199999, '559849145.62317800', 309606, '3843.78422000', '305320867.49273740', '0'], [1731283200000, '80436.00000000', '89699.99000000', '80272.00000000', '88762.63000000', '12080.45902000', 1731369599999, '1022046004.12940370', 467766, '6569.26765000', '556521825.20882790', '0'], [1731369600000, '88762.63000000', '90000.00000000', '85131.78000000', '88034.11000000', '11208.68135000', 1731455999999, '985710389.19837830', 502223, '5735.66056000', '504493553.09083810', '0'], [1731456000000, '88034.11000000', '93483.99000000', '86257.50000000', '90494.27000000', '9534.38065000', 1731542399999, '858493892.44964440', 443507, '4833.16146000', '435390370.43820500', '0'], [1731542400000, '90494.27000000', '91821.86000000', '86681.93000000', '87332.00000000', '6486.31724000', 1731628799999, '580260431.12771390', 327939, '3167.23766000', '283558627.87313540', '0'], [1731628800000, '87335.98000000', '91918.81000000', '87106.38000000', '91056.00000000', '4772.25392000', 1731715199999, '426557464.97427120', 256755, '2477.32558000', '221560185.63900200', '0'], [1731715200000, '91056.00000000', '91827.13000000', '90082.51000000', '90640.00000000', '2020.34098000', 1731801599999, '183938361.25234450', 138002, '1030.12593000', '93788731.04741690', '0'], [1731801600000, '90640.27000000', '91459.31000000', '88723.75000000', '89870.32000000', '2861.00533000', 1731887999999, '258069151.07916970', 166049, '1429.80522000', '129006011.56029360', '0'], [1731888000000, '89887.99000000', '92611.11000000', '89382.00000000', '90512.00000000', '5256.34305000', 1731974399999, '478993958.75855760', 291710, '2663.71920000', '242766270.01888010', '0'], [1731974400000, '90511.55000000', '94058.10000000', '90404.50000000', '92416.01000000', '5240.14932000', 1732060799999, '483581075.20944840', 256226, '2633.07272000', '243086118.99111200', '0'], [1732060800000, '92434.48000000', '94935.39000000', '91609.89000000', '94368.79000000', '5213.98293000', 1732147199999, '488821903.13731370', 252199, '2650.09621000', '248419433.71163250', '0'], [1732147200000, '94371.07000000', '99090.89000000', '94123.23000000', '98436.00000000', '6791.87049000', 1732233599999, '660779986.41992570', 352514, '3585.12651000', '348810434.72955890', '0'], [1732233600000, '98436.00000000', '99692.00000000', '97209.40000000', '99011.99000000', '5650.55895000', 1732319999999, '558300287.76955330', 316213, '3113.02008000', '307692895.19424270', '0'], [1732320000000, '99012.00000000', '99023.90000000', '97212.49000000', '97764.04000000', '3020.62966000', 1732406399999, '296941330.56890840', 219576, '1362.23218000', '133886854.85197300', '0'], [1732406400000, '97764.04000000', '98692.00000000', '95792.01000000', '98015.98000000', '2868.62258000', 1732492799999, '279080167.87092890', 197767, '1435.66611000', '139679928.18564370', '0'], [1732492800000, '98026.79000000', '99033.00000000', '92600.00000000', '93004.01000000', '6982.12865000', 1732579199999, '671434801.63770540', 348633, '3474.76244000', '334460802.45853350', '0'], [1732579200000, '93004.01000000', '95087.75000000', '90752.06000000', '91920.00000000', '6461.82634000', 1732665599999, '600367871.73751430', 369966, '3266.94914000', '303603036.14096770', '0'], [1732665600000, '91920.01000000', '97362.49000000', '91694.00000000', '95959.38000000', '5700.83113000', 1732751999999, '540815402.18946000', 241416, '2992.94604000', '283991167.04556260', '0'], [1732752000000, '95957.53000000', '96667.16000000', '94658.27000000', '95663.18000000', '2634.81556000', 1732838399999, '251486796.94976400', 166910, '1334.88125000', '127421696.59793240', '0'], [1732838400000, '95663.19000000', '98728.00000000', '95390.96000000', '97506.11000000', '3514.66732000', 1732924799999, '341451688.20522230', 190502, '1802.92818000', '175190137.94947240', '0'], [1732924800000, '97499.79000000', '97507.66000000', '96128.02000000', '96470.40000000', '1562.44036000', 1733011199999, '151170615.50779830', 112685, '736.74885000', '71275431.80442970', '0'], [1733011200000, '96470.41000000', '97895.99000000', '95750.00000000', '97260.01000000', '2086.44186000', 1733097599999, '202184913.16380080', 132966, '1016.26569000', '98497846.67002450', '0'], [1733097600000, '97260.01000000', '98205.64000000', '94411.77000000', '95867.60000000', '5421.93613000', 1733183999999, '520200000.07779300', 276781, '2796.82213000', '268383578.13014150', '0'], [1733184000000, '95867.61000000', '96312.49000000', '93588.00000000', '95923.13000000', '6009.33048000', 1733270399999, '573133475.65322780', 312113, '3158.85856000', '301318423.25397790', '0'], [1733270400000, '95923.13000000', '99225.66000000', '94537.26000000', '98754.22000000', '6002.24696000', 1733356799999, '582115927.71715740', 315692, '3133.85230000', '304160858.42984290', '0'], [1733356800000, '98740.11000000', '104149.99000000', '91500.00000000', '97050.01000000', '13774.33825000', 1733443199999, '1386639005.62518620', 646912, '7117.32198000', '716723811.22842210', '0'], [1733443200000, '97050.01000000', '102100.30000000', '96333.00000000', '99894.53000000', '5265.97168000', 1733529599999, '522704532.19879900', 262643, '2579.90004000', '255956728.23184270', '0'], [1733529600000, '99894.53000000', '100579.98000000', '99008.00000000', '99950.00000000', '1857.29813000', 1733615999999, '185349455.74442020', 130948, '861.78367000', '86002745.01797270', '0'], [1733616000000, '99950.00000000', '101431.71000000', '98722.12000000', '101179.62000000', '1761.25631000', 1733702399999, '175967622.01515420', 115125, '849.18037000', '84853506.77270020', '0'], [1733702400000, '101180.53000000', '101287.98000000', '94100.62000000', '97319.99000000', '5146.39128000', 1733788799999, '503999593.97151050', 318109, '2454.51524000', '240363104.01920810', '0'], [1733788800000, '97319.99000000', '98355.00000000', '94273.47000000', '96660.87000000', '5593.68843000', 1733875199999, '540585959.87349230', 320387, '2858.20801000', '276291982.72401330', '0'], [1733875200000, '96658.97000000', '101977.37000000', '95727.00000000', '101195.61000000', '3439.44330000', 1733961599999, '341919314.83289720', 221782, '1768.08543000', '175783529.13286840', '0'], [1733961600000, '101211.55000000', '102615.90000000', '99318.15000000', '100028.90000000', '3714.09574000', 1734047999999, '375264572.26487290', 209205, '1901.24039000', '192176879.02685280', '0'], [1734048000000, '100028.89000000', '101943.60000000', '99234.72000000', '101440.46000000', '2745.59107000', 1734134399999, '276567198.96568160', 151209, '1466.15976000', '147702596.82142330', '0'], [1734134400000, '101440.47000000', '102658.00000000', '100605.00000000', '101399.56000000', '1658.45254000', 1734220799999, '168415271.17184740', 102688, '801.89482000', '81454128.49890170', '0'], [1734220800000, '101406.42000000', '105200.00000000', '101226.01000000', '104442.66000000', '2238.50824000', 1734307199999, '230863857.48420750', 139931, '1170.23445000', '120696732.48614800', '0'], [1734307200000, '104449.16000000', '107831.63000000', '103294.52000000', '106099.42000000', '4370.13190000', 1734393599999, '461693813.36281320', 232718, '2186.45951000', '230923524.04983610', '0'], [1734393600000, '106101.40000000', '108363.10000000', '105350.00000000', '106145.02000000', '3131.07392000', 1734479999999, '334332529.78289630', 190446, '1592.11438000', '170034925.87675320', '0'], [1734480000000, '106136.95000000', '106519.36000000', '99917.30000000', '100162.21000000', '5065.52784000', 1734566399999, '522816698.96816780', 275470, '2390.48539000', '246766532.62696010', '0'], [1734566400000, '100146.68000000', '102753.98000000', '95511.00000000', '97380.01000000', '5726.58400000', 1734652799999, '566411989.14468710', 331153, '2646.80164000', '262138551.78692520', '0'], [1734652800000, '97385.63000000', '98138.88000000', '92129.00000000', '97767.96000000', '6001.86590000', 1734739199999, '574566140.58304800', 341959, '3001.21394000', '287597975.69090250', '0'], [1734739200000, '97767.95000000', '99511.62000000', '96365.97000000', '97230.61000000', '2548.69604000', 1734825599999, '249142396.76973550', 140469, '1263.78363000', '123559986.01356350', '0'], [1734825600000, '97252.84000000', '97479.55000000', '94178.61000000', '95096.01000000', '2623.97533000', 1734911999999, '251342698.95016130', 131475, '1219.50173000', '116855313.73580560', '0'], [1734912000000, '95096.01000000', '96435.54000000', '92377.77000000', '94775.99000000', '4489.62668000', 1734998399999, '423567225.90165050', 228247, '2317.87269000', '218704829.31687960', '0'], [1734998400000, '94776.00000000', '99421.50000000', '93436.01000000', '98590.58000000', '3839.39040000', 1735084799999, '370439810.91888340', 174413, '2041.94552000', '196995581.18004520', '0'], [1735084800000, '98588.67000000', '99489.04000000', '97535.27000000', '99354.44000000', '2508.56417000', 1735171199999, '247127063.99459600', 123415, '1293.16530000', '127414436.98316200', '0'], [1735171200000, '99356.00000000', '99879.98000000', '95088.99000000', '95676.01000000', '2872.11892000', 1735257599999, '277299675.62427730', 151274, '1401.11883000', '135241181.72796950', '0'], [1735257600000, '95676.00000000', '97388.00000000', '93320.54000000', '94167.77000000', '3483.96492000', 1735343999999, '331999826.01545090', 175900, '1694.99884000', '161537766.63572840', '0'], [1735344000000, '94167.78000000', '94661.68000000', '94000.00000000', '94300.01000000', '284.91577000', 1735430399999, '26880883.15723990', 15931, '136.96960000', '12921330.40590320', '0']]\n"
     ]
    }
   ],
   "source": [
    "asd = get_price_historical(\"BTCUSDC\", \"1d\")\n",
    "print(asd)"
   ]
  },
  {
   "cell_type": "code",
   "execution_count": null,
   "metadata": {},
   "outputs": [],
   "source": []
  }
 ],
 "metadata": {
  "kernelspec": {
   "display_name": ".venv",
   "language": "python",
   "name": "python3"
  },
  "language_info": {
   "codemirror_mode": {
    "name": "ipython",
    "version": 3
   },
   "file_extension": ".py",
   "mimetype": "text/x-python",
   "name": "python",
   "nbconvert_exporter": "python",
   "pygments_lexer": "ipython3",
   "version": "3.12.5"
  }
 },
 "nbformat": 4,
 "nbformat_minor": 2
}
